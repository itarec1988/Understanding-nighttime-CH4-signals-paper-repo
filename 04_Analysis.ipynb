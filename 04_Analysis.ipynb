{
 "cells": [
  {
   "cell_type": "markdown",
   "metadata": {},
   "source": [
    "# Understanding nighttime methane signals at the Amazon Tall Tower Observatory (ATTO)\n",
    "\n",
    "### Santiago Botía B et al\n",
    "#### Calculations and analysis."
   ]
  },
  {
   "cell_type": "code",
   "execution_count": 1,
   "metadata": {},
   "outputs": [],
   "source": [
    "import numpy as np\n",
    "import matplotlib.pyplot as plt\n",
    "from matplotlib.pyplot import *\n",
    "import pandas as pd\n",
    "import seaborn as sns\n",
    "import scipy\n",
    "import matplotlib as mpl\n",
    "%matplotlib inline"
   ]
  },
  {
   "cell_type": "code",
   "execution_count": 2,
   "metadata": {},
   "outputs": [
    {
     "data": {
      "text/html": [
       "<div>\n",
       "<style scoped>\n",
       "    .dataframe tbody tr th:only-of-type {\n",
       "        vertical-align: middle;\n",
       "    }\n",
       "\n",
       "    .dataframe tbody tr th {\n",
       "        vertical-align: top;\n",
       "    }\n",
       "\n",
       "    .dataframe thead th {\n",
       "        text-align: right;\n",
       "    }\n",
       "</style>\n",
       "<table border=\"1\" class=\"dataframe\">\n",
       "  <thead>\n",
       "    <tr style=\"text-align: right;\">\n",
       "      <th></th>\n",
       "      <th>CH4_79</th>\n",
       "      <th>CH4_53</th>\n",
       "      <th>CH4_38</th>\n",
       "      <th>CH4_24</th>\n",
       "      <th>CH4_4</th>\n",
       "    </tr>\n",
       "    <tr>\n",
       "      <th>LTRound</th>\n",
       "      <th></th>\n",
       "      <th></th>\n",
       "      <th></th>\n",
       "      <th></th>\n",
       "      <th></th>\n",
       "    </tr>\n",
       "  </thead>\n",
       "  <tbody>\n",
       "    <tr>\n",
       "      <td>2012-03-06 20:30:00</td>\n",
       "      <td>1839.65</td>\n",
       "      <td>1840.56</td>\n",
       "      <td>1841.10</td>\n",
       "      <td>1841.07</td>\n",
       "      <td>1841.22</td>\n",
       "    </tr>\n",
       "    <tr>\n",
       "      <td>2012-03-06 21:00:00</td>\n",
       "      <td>1839.05</td>\n",
       "      <td>1839.98</td>\n",
       "      <td>1840.43</td>\n",
       "      <td>1841.53</td>\n",
       "      <td>1842.18</td>\n",
       "    </tr>\n",
       "    <tr>\n",
       "      <td>2012-03-06 21:30:00</td>\n",
       "      <td>1839.52</td>\n",
       "      <td>1841.29</td>\n",
       "      <td>1840.31</td>\n",
       "      <td>1841.67</td>\n",
       "      <td>1842.13</td>\n",
       "    </tr>\n",
       "    <tr>\n",
       "      <td>2012-03-06 22:00:00</td>\n",
       "      <td>1841.13</td>\n",
       "      <td>1841.85</td>\n",
       "      <td>1840.89</td>\n",
       "      <td>1842.17</td>\n",
       "      <td>1843.04</td>\n",
       "    </tr>\n",
       "    <tr>\n",
       "      <td>2012-03-06 22:30:00</td>\n",
       "      <td>1841.74</td>\n",
       "      <td>1842.83</td>\n",
       "      <td>1841.99</td>\n",
       "      <td>1842.62</td>\n",
       "      <td>1843.40</td>\n",
       "    </tr>\n",
       "  </tbody>\n",
       "</table>\n",
       "</div>"
      ],
      "text/plain": [
       "                      CH4_79   CH4_53   CH4_38   CH4_24    CH4_4\n",
       "LTRound                                                         \n",
       "2012-03-06 20:30:00  1839.65  1840.56  1841.10  1841.07  1841.22\n",
       "2012-03-06 21:00:00  1839.05  1839.98  1840.43  1841.53  1842.18\n",
       "2012-03-06 21:30:00  1839.52  1841.29  1840.31  1841.67  1842.13\n",
       "2012-03-06 22:00:00  1841.13  1841.85  1840.89  1842.17  1843.04\n",
       "2012-03-06 22:30:00  1841.74  1842.83  1841.99  1842.62  1843.40"
      ]
     },
     "execution_count": 2,
     "metadata": {},
     "output_type": "execute_result"
    }
   ],
   "source": [
    "# Remember to always import this dataframe. I dont need the one merged with micromet and soil data\n",
    "d_clean_mod = pd.read_pickle('./Data/ATTO_GHG_201203_201811_CO2avg')\n",
    "ch4_30min   = d_clean_mod.iloc[:,10:15]\n",
    "ch4_30min   = ch4_30min.assign(LTRound=ch4_30min.index.round('30min'))\n",
    "ch4_30min.set_index('LTRound',inplace=True)\n",
    "ch4_30min.head()"
   ]
  },
  {
   "cell_type": "markdown",
   "metadata": {},
   "source": [
    "## Section 3.1 Seasonal and diurnal patterns of CH4 gradients at ATTO\n",
    "### Percentages related to Figure 4.\n",
    "- Setting up data to get time percentages according to the threshold.\n",
    "- Here I create the day and night dataframes used in Figures_Sect2.1-3.1.ipynb"
   ]
  },
  {
   "cell_type": "code",
   "execution_count": 3,
   "metadata": {},
   "outputs": [
    {
     "name": "stdout",
     "output_type": "stream",
     "text": [
      "(118079, 6) with nan\n",
      "(79944, 6) after dropping nan\n"
     ]
    }
   ],
   "source": [
    "# gradient\n",
    "thresh    = 8\n",
    "ch4_30min = ch4_30min.assign(grad = ch4_30min.CH4_79 - ch4_30min.CH4_4)\n",
    "# dropping nan\n",
    "print(ch4_30min.shape, 'with nan')\n",
    "ch4_30min.dropna(inplace=True)\n",
    "print(ch4_30min.shape, 'after dropping nan')\n",
    "# setting threshold\n",
    "ch4_30min = ch4_30min.assign(GradFlag = ch4_30min['grad']>thresh)\n",
    "# Selecting hours from index and creating a column\n",
    "ch4_30min = ch4_30min.assign(Hour = ch4_30min.index.hour)\n",
    "#night columns from hours XXX This might not be necessary\n",
    "idx       = (ch4_30min['Hour']<=5) | (ch4_30min['Hour']>=19)\n",
    "ch4_30min = ch4_30min.assign(night_F = idx)\n",
    "# highlighting the non threshold measurements\n",
    "ch4_30min = ch4_30min.assign(range_8 = ch4_30min['grad'].between(-thresh,thresh,inclusive=True))\n",
    "ch4_30min = ch4_30min.assign(low_than8 = ch4_30min['grad'] < -thresh)\n",
    "#print('total data points',ch4_30min.shape)"
   ]
  },
  {
   "cell_type": "code",
   "execution_count": 4,
   "metadata": {},
   "outputs": [
    {
     "name": "stdout",
     "output_type": "stream",
     "text": [
      "separating in range between -8 and 8, above 8 and below -8, we get:\n",
      "63442 9461 7041 79944\n",
      "last number is to confirm the total number of data points, should always be the same\n"
     ]
    }
   ],
   "source": [
    "print('separating in range between -%d and %d, above %d and below -%d, we get:'%(thresh,thresh,thresh,thresh))\n",
    "print(ch4_30min['range_8'].sum(),ch4_30min['GradFlag'].sum(),ch4_30min['low_than8'].sum(),ch4_30min['range_8'].sum()+ch4_30min['GradFlag'].sum()+ch4_30min['low_than8'].sum())\n",
    "print('last number is to confirm the total number of data points, should always be the same')"
   ]
  },
  {
   "cell_type": "code",
   "execution_count": 5,
   "metadata": {},
   "outputs": [
    {
     "name": "stdout",
     "output_type": "stream",
     "text": [
      "Adding below and above -8 and 8 we get the following. Remember I havent separated between day and night\n"
     ]
    },
    {
     "data": {
      "text/plain": [
       "16502"
      ]
     },
     "execution_count": 5,
     "metadata": {},
     "output_type": "execute_result"
    }
   ],
   "source": [
    "print('Adding below and above -8 and 8 we get the following. Remember I havent separated between day and night')\n",
    "ch4_30min['GradFlag'].sum()+ch4_30min['low_than8'].sum()"
   ]
  },
  {
   "cell_type": "code",
   "execution_count": 6,
   "metadata": {},
   "outputs": [],
   "source": [
    "# Separating nights and day\n",
    "nights = ch4_30min.between_time('20:00','06:00')\n",
    "days   = ch4_30min.between_time('06:00','18:00')"
   ]
  },
  {
   "cell_type": "code",
   "execution_count": 7,
   "metadata": {},
   "outputs": [],
   "source": [
    "# Grouping each range per month and calculating the total nights measurements to get percentages\n",
    "nights_upper = nights['GradFlag'].groupby([nights.index.year,nights.index.month]).sum()\n",
    "nights_mid   = nights['range_8'].groupby([nights.index.year,nights.index.month]).sum()\n",
    "nights_lower = nights['low_than8'].groupby([nights.index.year,nights.index.month]).sum()\n",
    "\n",
    "nights_upper.index.rename(['Year','Month'],inplace=True)\n",
    "nights_mid.index.rename(['Year','Month'],inplace=True)\n",
    "nights_lower.index.rename(['Year','Month'],inplace=True)\n",
    "\n",
    "total_nights = nights['GradFlag'].loc[nights['GradFlag']==True].groupby(nights[nights['GradFlag']==True].index.month).count() + nights['GradFlag'].loc[nights['GradFlag']==False].groupby(nights[nights['GradFlag']==False].index.month).count()\n",
    "\n",
    "n_upp_month  = nights_upper.groupby(level=1).sum()/total_nights\n",
    "n_mid_month  = nights_mid.groupby(level=1).sum()/total_nights\n",
    "n_low_month  = nights_lower.groupby(level=1).sum()/total_nights\n",
    "total_n      = n_low_month + n_mid_month + n_upp_month"
   ]
  },
  {
   "cell_type": "code",
   "execution_count": 8,
   "metadata": {},
   "outputs": [],
   "source": [
    "# Grouping each range per month and calculating the total day measuremenst to get percentages\n",
    "days_upper = days['GradFlag'].groupby([days.index.year,days.index.month]).sum()\n",
    "days_mid   = days['range_8'].groupby([days.index.year,days.index.month]).sum()\n",
    "days_lower = days['low_than8'].groupby([days.index.year,days.index.month]).sum()\n",
    "\n",
    "days_upper.index.rename(['Year','Month'],inplace=True)\n",
    "days_mid.index.rename(['Year','Month'],inplace=True)\n",
    "days_lower.index.rename(['Year','Month'],inplace=True)\n",
    "\n",
    "total_days = days['GradFlag'].loc[days['GradFlag']==True].groupby(days[days['GradFlag']==True].index.month).count() + days['GradFlag'].loc[days['GradFlag']==False].groupby(days[days['GradFlag']==False].index.month).count()\n",
    "\n",
    "d_upp_month  = days_upper.groupby(level=1).sum()/total_days\n",
    "d_mid_month  = days_mid.groupby(level=1).sum()/total_days\n",
    "d_low_month  = days_lower.groupby(level=1).sum()/total_days\n",
    "total_d      = d_low_month + d_mid_month + d_upp_month"
   ]
  },
  {
   "cell_type": "code",
   "execution_count": 9,
   "metadata": {},
   "outputs": [],
   "source": [
    "# Merging ranges for night and day and creating a day and night dataframes that can be used to hue in seaborn.\n",
    "df_n = pd.concat([n_low_month,n_mid_month,n_upp_month,total_n],axis=1)\n",
    "df_n.reset_index(inplace=True)\n",
    "df_n.columns = ['month','lower_than8','MidRange','UpperRange','total']\n",
    "\n",
    "df_d = pd.concat([d_low_month,d_mid_month,d_upp_month,total_d],axis=1)\n",
    "df_d.reset_index(inplace=True)\n",
    "df_d.columns = ['month','lower_than8','MidRange','UpperRange','total']\n",
    "\n",
    "df_day_night = pd.concat([df_d,df_n],axis=0)\n",
    "df_day_night = df_day_night.assign(Time = ['day','day','day', 'day', 'day','day','day', 'day','day','day','day','day','night','night',\n",
    "                                           'night', 'night', 'night', 'night', 'night', 'night', 'night', 'night', 'night', 'night'])"
   ]
  },
  {
   "cell_type": "code",
   "execution_count": 11,
   "metadata": {},
   "outputs": [],
   "source": [
    "# changing columns names for export\n",
    "df_n.columns = ['Months','lower_than_minus8','Between_minus8_plus8','greater_than8','total']\n",
    "df_d.columns = ['Months','lower_than_minus8','Between_minus8_plus8','greater_than8','total']\n",
    "#df_d.to_pickle('ATTO_Month_dayTime_timefrac')\n",
    "#df_n.to_pickle('ATTO_Month_nightTime_timefrac')"
   ]
  },
  {
   "cell_type": "code",
   "execution_count": 12,
   "metadata": {},
   "outputs": [
    {
     "name": "stdout",
     "output_type": "stream",
     "text": [
      "Mean monthly gradient during nighttime when 8pbb threshold holds\n"
     ]
    },
    {
     "data": {
      "text/plain": [
       "LTRound\n",
       "1     15.263162\n",
       "2     16.532406\n",
       "3     20.289043\n",
       "4     19.778522\n",
       "5     21.393953\n",
       "6     19.843176\n",
       "7     23.541711\n",
       "8     27.446447\n",
       "9     32.273899\n",
       "10    25.176571\n",
       "11    17.333174\n",
       "12    14.276000\n",
       "Name: grad, dtype: float64"
      ]
     },
     "execution_count": 12,
     "metadata": {},
     "output_type": "execute_result"
    }
   ],
   "source": [
    "print('Mean monthly gradient during nighttime when 8pbb threshold holds')\n",
    "nights[nights['GradFlag'] == True].groupby(nights[nights['GradFlag'] == True].index.month).mean()['grad']"
   ]
  },
  {
   "cell_type": "markdown",
   "metadata": {},
   "source": [
    "#### The following shows the mean minima for nighttime and daytime gradients, -236.2 and -455 for October. I refer to this value in section 3.1."
   ]
  },
  {
   "cell_type": "code",
   "execution_count": 13,
   "metadata": {},
   "outputs": [
    {
     "data": {
      "text/html": [
       "<div>\n",
       "<style scoped>\n",
       "    .dataframe tbody tr th:only-of-type {\n",
       "        vertical-align: middle;\n",
       "    }\n",
       "\n",
       "    .dataframe tbody tr th {\n",
       "        vertical-align: top;\n",
       "    }\n",
       "\n",
       "    .dataframe thead th {\n",
       "        text-align: right;\n",
       "    }\n",
       "</style>\n",
       "<table border=\"1\" class=\"dataframe\">\n",
       "  <thead>\n",
       "    <tr style=\"text-align: right;\">\n",
       "      <th></th>\n",
       "      <th>count</th>\n",
       "      <th>mean</th>\n",
       "      <th>std</th>\n",
       "      <th>min</th>\n",
       "      <th>25%</th>\n",
       "      <th>50%</th>\n",
       "      <th>75%</th>\n",
       "      <th>max</th>\n",
       "    </tr>\n",
       "    <tr>\n",
       "      <th>LTRound</th>\n",
       "      <th></th>\n",
       "      <th></th>\n",
       "      <th></th>\n",
       "      <th></th>\n",
       "      <th></th>\n",
       "      <th></th>\n",
       "      <th></th>\n",
       "      <th></th>\n",
       "    </tr>\n",
       "  </thead>\n",
       "  <tbody>\n",
       "    <tr>\n",
       "      <td>1</td>\n",
       "      <td>2844.0</td>\n",
       "      <td>-0.086410</td>\n",
       "      <td>4.779475</td>\n",
       "      <td>-28.73</td>\n",
       "      <td>-2.2100</td>\n",
       "      <td>-0.690</td>\n",
       "      <td>0.9200</td>\n",
       "      <td>42.88</td>\n",
       "    </tr>\n",
       "    <tr>\n",
       "      <td>2</td>\n",
       "      <td>2701.0</td>\n",
       "      <td>-0.462621</td>\n",
       "      <td>5.132557</td>\n",
       "      <td>-19.77</td>\n",
       "      <td>-2.5600</td>\n",
       "      <td>-1.080</td>\n",
       "      <td>0.4800</td>\n",
       "      <td>45.93</td>\n",
       "    </tr>\n",
       "    <tr>\n",
       "      <td>3</td>\n",
       "      <td>3157.0</td>\n",
       "      <td>-0.923082</td>\n",
       "      <td>6.739486</td>\n",
       "      <td>-35.09</td>\n",
       "      <td>-3.7800</td>\n",
       "      <td>-1.910</td>\n",
       "      <td>-0.1500</td>\n",
       "      <td>63.16</td>\n",
       "    </tr>\n",
       "    <tr>\n",
       "      <td>4</td>\n",
       "      <td>3479.0</td>\n",
       "      <td>-0.930696</td>\n",
       "      <td>8.479537</td>\n",
       "      <td>-25.56</td>\n",
       "      <td>-4.6100</td>\n",
       "      <td>-2.180</td>\n",
       "      <td>0.4400</td>\n",
       "      <td>91.84</td>\n",
       "    </tr>\n",
       "    <tr>\n",
       "      <td>5</td>\n",
       "      <td>3510.0</td>\n",
       "      <td>1.606607</td>\n",
       "      <td>12.459258</td>\n",
       "      <td>-68.77</td>\n",
       "      <td>-4.7600</td>\n",
       "      <td>-1.260</td>\n",
       "      <td>5.1350</td>\n",
       "      <td>64.83</td>\n",
       "    </tr>\n",
       "    <tr>\n",
       "      <td>6</td>\n",
       "      <td>3514.0</td>\n",
       "      <td>1.231411</td>\n",
       "      <td>16.344859</td>\n",
       "      <td>-101.84</td>\n",
       "      <td>-5.3975</td>\n",
       "      <td>0.195</td>\n",
       "      <td>8.6425</td>\n",
       "      <td>81.25</td>\n",
       "    </tr>\n",
       "    <tr>\n",
       "      <td>7</td>\n",
       "      <td>3127.0</td>\n",
       "      <td>2.655491</td>\n",
       "      <td>23.123220</td>\n",
       "      <td>-227.46</td>\n",
       "      <td>-3.7350</td>\n",
       "      <td>1.760</td>\n",
       "      <td>10.7900</td>\n",
       "      <td>110.97</td>\n",
       "    </tr>\n",
       "    <tr>\n",
       "      <td>8</td>\n",
       "      <td>3608.0</td>\n",
       "      <td>9.709011</td>\n",
       "      <td>21.151607</td>\n",
       "      <td>-76.86</td>\n",
       "      <td>-1.6700</td>\n",
       "      <td>5.105</td>\n",
       "      <td>19.3750</td>\n",
       "      <td>166.86</td>\n",
       "    </tr>\n",
       "    <tr>\n",
       "      <td>9</td>\n",
       "      <td>2165.0</td>\n",
       "      <td>6.220536</td>\n",
       "      <td>23.661947</td>\n",
       "      <td>-95.85</td>\n",
       "      <td>-4.9300</td>\n",
       "      <td>0.520</td>\n",
       "      <td>11.6700</td>\n",
       "      <td>162.48</td>\n",
       "    </tr>\n",
       "    <tr>\n",
       "      <td>10</td>\n",
       "      <td>2356.0</td>\n",
       "      <td>1.414104</td>\n",
       "      <td>19.317136</td>\n",
       "      <td>-236.20</td>\n",
       "      <td>-3.8750</td>\n",
       "      <td>-0.450</td>\n",
       "      <td>4.9025</td>\n",
       "      <td>194.62</td>\n",
       "    </tr>\n",
       "    <tr>\n",
       "      <td>11</td>\n",
       "      <td>2907.0</td>\n",
       "      <td>2.431524</td>\n",
       "      <td>9.557470</td>\n",
       "      <td>-38.28</td>\n",
       "      <td>-2.2150</td>\n",
       "      <td>0.300</td>\n",
       "      <td>5.6700</td>\n",
       "      <td>61.74</td>\n",
       "    </tr>\n",
       "    <tr>\n",
       "      <td>12</td>\n",
       "      <td>2001.0</td>\n",
       "      <td>1.643188</td>\n",
       "      <td>6.127623</td>\n",
       "      <td>-26.65</td>\n",
       "      <td>-1.2600</td>\n",
       "      <td>0.400</td>\n",
       "      <td>3.0800</td>\n",
       "      <td>39.23</td>\n",
       "    </tr>\n",
       "  </tbody>\n",
       "</table>\n",
       "</div>"
      ],
      "text/plain": [
       "          count      mean        std     min     25%    50%      75%     max\n",
       "LTRound                                                                     \n",
       "1        2844.0 -0.086410   4.779475  -28.73 -2.2100 -0.690   0.9200   42.88\n",
       "2        2701.0 -0.462621   5.132557  -19.77 -2.5600 -1.080   0.4800   45.93\n",
       "3        3157.0 -0.923082   6.739486  -35.09 -3.7800 -1.910  -0.1500   63.16\n",
       "4        3479.0 -0.930696   8.479537  -25.56 -4.6100 -2.180   0.4400   91.84\n",
       "5        3510.0  1.606607  12.459258  -68.77 -4.7600 -1.260   5.1350   64.83\n",
       "6        3514.0  1.231411  16.344859 -101.84 -5.3975  0.195   8.6425   81.25\n",
       "7        3127.0  2.655491  23.123220 -227.46 -3.7350  1.760  10.7900  110.97\n",
       "8        3608.0  9.709011  21.151607  -76.86 -1.6700  5.105  19.3750  166.86\n",
       "9        2165.0  6.220536  23.661947  -95.85 -4.9300  0.520  11.6700  162.48\n",
       "10       2356.0  1.414104  19.317136 -236.20 -3.8750 -0.450   4.9025  194.62\n",
       "11       2907.0  2.431524   9.557470  -38.28 -2.2150  0.300   5.6700   61.74\n",
       "12       2001.0  1.643188   6.127623  -26.65 -1.2600  0.400   3.0800   39.23"
      ]
     },
     "execution_count": 13,
     "metadata": {},
     "output_type": "execute_result"
    }
   ],
   "source": [
    "# Nights stats without applying threshold\n",
    "nights['grad'].groupby(nights['grad'].index.month).describe()"
   ]
  },
  {
   "cell_type": "code",
   "execution_count": 15,
   "metadata": {},
   "outputs": [
    {
     "data": {
      "text/html": [
       "<div>\n",
       "<style scoped>\n",
       "    .dataframe tbody tr th:only-of-type {\n",
       "        vertical-align: middle;\n",
       "    }\n",
       "\n",
       "    .dataframe tbody tr th {\n",
       "        vertical-align: top;\n",
       "    }\n",
       "\n",
       "    .dataframe thead th {\n",
       "        text-align: right;\n",
       "    }\n",
       "</style>\n",
       "<table border=\"1\" class=\"dataframe\">\n",
       "  <thead>\n",
       "    <tr style=\"text-align: right;\">\n",
       "      <th></th>\n",
       "      <th>count</th>\n",
       "      <th>mean</th>\n",
       "      <th>std</th>\n",
       "      <th>min</th>\n",
       "      <th>25%</th>\n",
       "      <th>50%</th>\n",
       "      <th>75%</th>\n",
       "      <th>max</th>\n",
       "    </tr>\n",
       "    <tr>\n",
       "      <th>LTRound</th>\n",
       "      <th></th>\n",
       "      <th></th>\n",
       "      <th></th>\n",
       "      <th></th>\n",
       "      <th></th>\n",
       "      <th></th>\n",
       "      <th></th>\n",
       "      <th></th>\n",
       "    </tr>\n",
       "  </thead>\n",
       "  <tbody>\n",
       "    <tr>\n",
       "      <td>1</td>\n",
       "      <td>3312.0</td>\n",
       "      <td>-0.241969</td>\n",
       "      <td>2.698072</td>\n",
       "      <td>-25.06</td>\n",
       "      <td>-1.4900</td>\n",
       "      <td>-0.49</td>\n",
       "      <td>0.7100</td>\n",
       "      <td>31.97</td>\n",
       "    </tr>\n",
       "    <tr>\n",
       "      <td>2</td>\n",
       "      <td>3133.0</td>\n",
       "      <td>-0.481637</td>\n",
       "      <td>4.835348</td>\n",
       "      <td>-34.51</td>\n",
       "      <td>-2.1000</td>\n",
       "      <td>-0.88</td>\n",
       "      <td>0.2600</td>\n",
       "      <td>73.97</td>\n",
       "    </tr>\n",
       "    <tr>\n",
       "      <td>3</td>\n",
       "      <td>3684.0</td>\n",
       "      <td>-1.503404</td>\n",
       "      <td>3.736884</td>\n",
       "      <td>-35.02</td>\n",
       "      <td>-2.7200</td>\n",
       "      <td>-1.47</td>\n",
       "      <td>-0.4300</td>\n",
       "      <td>37.36</td>\n",
       "    </tr>\n",
       "    <tr>\n",
       "      <td>4</td>\n",
       "      <td>3937.0</td>\n",
       "      <td>-1.475019</td>\n",
       "      <td>7.505589</td>\n",
       "      <td>-168.76</td>\n",
       "      <td>-3.1700</td>\n",
       "      <td>-1.63</td>\n",
       "      <td>-0.4000</td>\n",
       "      <td>99.26</td>\n",
       "    </tr>\n",
       "    <tr>\n",
       "      <td>5</td>\n",
       "      <td>4073.0</td>\n",
       "      <td>-2.551589</td>\n",
       "      <td>14.008042</td>\n",
       "      <td>-455.32</td>\n",
       "      <td>-4.0100</td>\n",
       "      <td>-1.91</td>\n",
       "      <td>-0.0600</td>\n",
       "      <td>61.20</td>\n",
       "    </tr>\n",
       "    <tr>\n",
       "      <td>6</td>\n",
       "      <td>4067.0</td>\n",
       "      <td>-6.006838</td>\n",
       "      <td>20.255843</td>\n",
       "      <td>-162.98</td>\n",
       "      <td>-5.6300</td>\n",
       "      <td>-1.79</td>\n",
       "      <td>1.3100</td>\n",
       "      <td>59.65</td>\n",
       "    </tr>\n",
       "    <tr>\n",
       "      <td>7</td>\n",
       "      <td>3586.0</td>\n",
       "      <td>-5.571726</td>\n",
       "      <td>22.561902</td>\n",
       "      <td>-153.35</td>\n",
       "      <td>-6.2900</td>\n",
       "      <td>-0.67</td>\n",
       "      <td>3.0875</td>\n",
       "      <td>84.00</td>\n",
       "    </tr>\n",
       "    <tr>\n",
       "      <td>8</td>\n",
       "      <td>4227.0</td>\n",
       "      <td>-1.071173</td>\n",
       "      <td>17.767931</td>\n",
       "      <td>-197.36</td>\n",
       "      <td>-4.3000</td>\n",
       "      <td>0.19</td>\n",
       "      <td>3.6700</td>\n",
       "      <td>177.91</td>\n",
       "    </tr>\n",
       "    <tr>\n",
       "      <td>9</td>\n",
       "      <td>2594.0</td>\n",
       "      <td>-0.652695</td>\n",
       "      <td>23.956980</td>\n",
       "      <td>-312.07</td>\n",
       "      <td>-2.4075</td>\n",
       "      <td>-0.10</td>\n",
       "      <td>2.0075</td>\n",
       "      <td>161.48</td>\n",
       "    </tr>\n",
       "    <tr>\n",
       "      <td>10</td>\n",
       "      <td>2766.0</td>\n",
       "      <td>-0.158445</td>\n",
       "      <td>8.002597</td>\n",
       "      <td>-106.53</td>\n",
       "      <td>-2.4200</td>\n",
       "      <td>-0.61</td>\n",
       "      <td>0.9800</td>\n",
       "      <td>62.26</td>\n",
       "    </tr>\n",
       "    <tr>\n",
       "      <td>11</td>\n",
       "      <td>3470.0</td>\n",
       "      <td>0.178634</td>\n",
       "      <td>6.368324</td>\n",
       "      <td>-43.06</td>\n",
       "      <td>-1.7700</td>\n",
       "      <td>-0.18</td>\n",
       "      <td>1.1475</td>\n",
       "      <td>80.57</td>\n",
       "    </tr>\n",
       "    <tr>\n",
       "      <td>12</td>\n",
       "      <td>2394.0</td>\n",
       "      <td>0.805155</td>\n",
       "      <td>5.341301</td>\n",
       "      <td>-150.26</td>\n",
       "      <td>-0.5875</td>\n",
       "      <td>0.28</td>\n",
       "      <td>1.5275</td>\n",
       "      <td>35.12</td>\n",
       "    </tr>\n",
       "  </tbody>\n",
       "</table>\n",
       "</div>"
      ],
      "text/plain": [
       "          count      mean        std     min     25%   50%     75%     max\n",
       "LTRound                                                                   \n",
       "1        3312.0 -0.241969   2.698072  -25.06 -1.4900 -0.49  0.7100   31.97\n",
       "2        3133.0 -0.481637   4.835348  -34.51 -2.1000 -0.88  0.2600   73.97\n",
       "3        3684.0 -1.503404   3.736884  -35.02 -2.7200 -1.47 -0.4300   37.36\n",
       "4        3937.0 -1.475019   7.505589 -168.76 -3.1700 -1.63 -0.4000   99.26\n",
       "5        4073.0 -2.551589  14.008042 -455.32 -4.0100 -1.91 -0.0600   61.20\n",
       "6        4067.0 -6.006838  20.255843 -162.98 -5.6300 -1.79  1.3100   59.65\n",
       "7        3586.0 -5.571726  22.561902 -153.35 -6.2900 -0.67  3.0875   84.00\n",
       "8        4227.0 -1.071173  17.767931 -197.36 -4.3000  0.19  3.6700  177.91\n",
       "9        2594.0 -0.652695  23.956980 -312.07 -2.4075 -0.10  2.0075  161.48\n",
       "10       2766.0 -0.158445   8.002597 -106.53 -2.4200 -0.61  0.9800   62.26\n",
       "11       3470.0  0.178634   6.368324  -43.06 -1.7700 -0.18  1.1475   80.57\n",
       "12       2394.0  0.805155   5.341301 -150.26 -0.5875  0.28  1.5275   35.12"
      ]
     },
     "execution_count": 15,
     "metadata": {},
     "output_type": "execute_result"
    }
   ],
   "source": [
    "# Day stats without applying threshold\n",
    "days['grad'].groupby(days['grad'].index.month).describe()"
   ]
  },
  {
   "cell_type": "markdown",
   "metadata": {},
   "source": [
    "#### Next I get the exact datetime at which these minima happened, for both day and nighttime only."
   ]
  },
  {
   "cell_type": "code",
   "execution_count": 16,
   "metadata": {},
   "outputs": [
    {
     "data": {
      "text/plain": [
       "LTRound\n",
       "2014-05-29 16:00:00   -455.32\n",
       "Name: grad, dtype: float64"
      ]
     },
     "execution_count": 16,
     "metadata": {},
     "output_type": "execute_result"
    }
   ],
   "source": [
    "days['grad'].loc[days['grad']<-450]"
   ]
  },
  {
   "cell_type": "code",
   "execution_count": 17,
   "metadata": {},
   "outputs": [
    {
     "data": {
      "text/plain": [
       "LTRound\n",
       "2015-10-21 04:30:00   -236.2\n",
       "Name: grad, dtype: float64"
      ]
     },
     "execution_count": 17,
     "metadata": {},
     "output_type": "execute_result"
    }
   ],
   "source": [
    "nights['grad'].loc[nights['grad']<-235]"
   ]
  },
  {
   "cell_type": "markdown",
   "metadata": {},
   "source": [
    "#### Next I show the complete stats for the entire gradient distribution, with no separation of daytime and no classification of threshold."
   ]
  },
  {
   "cell_type": "code",
   "execution_count": 18,
   "metadata": {},
   "outputs": [
    {
     "data": {
      "text/plain": [
       "count    79944.000000\n",
       "mean        -0.074867\n",
       "std         14.277683\n",
       "min       -455.320000\n",
       "25%         -3.050000\n",
       "50%         -0.750000\n",
       "75%          1.910000\n",
       "max        194.620000\n",
       "Name: grad, dtype: float64"
      ]
     },
     "execution_count": 18,
     "metadata": {},
     "output_type": "execute_result"
    }
   ],
   "source": [
    "# ALL TIMES GRAD STATS\n",
    "ch4_30min['grad'].describe()"
   ]
  },
  {
   "cell_type": "markdown",
   "metadata": {},
   "source": [
    "#### Here, I select for classes"
   ]
  },
  {
   "cell_type": "code",
   "execution_count": 19,
   "metadata": {},
   "outputs": [
    {
     "data": {
      "text/plain": [
       "count    7041.000000\n",
       "mean      -23.929780\n",
       "std        25.276147\n",
       "min      -455.320000\n",
       "25%       -26.350000\n",
       "50%       -15.290000\n",
       "75%       -10.470000\n",
       "max        -8.010000\n",
       "Name: grad, dtype: float64"
      ]
     },
     "execution_count": 19,
     "metadata": {},
     "output_type": "execute_result"
    }
   ],
   "source": [
    "# Stats selecting the lower than -8 ppb class.\n",
    "ch4_30min['grad'].loc[ch4_30min['low_than8']==True].describe()"
   ]
  },
  {
   "cell_type": "code",
   "execution_count": 20,
   "metadata": {},
   "outputs": [
    {
     "data": {
      "text/plain": [
       "count    9461.000000\n",
       "mean       22.138364\n",
       "std        16.265006\n",
       "min         8.010000\n",
       "25%        11.410000\n",
       "50%        16.740000\n",
       "75%        27.270000\n",
       "max       194.620000\n",
       "Name: grad, dtype: float64"
      ]
     },
     "execution_count": 20,
     "metadata": {},
     "output_type": "execute_result"
    }
   ],
   "source": [
    "# Stats selecting the above than 8 ppb class.\n",
    "ch4_30min['grad'].loc[ch4_30min['GradFlag']==True].describe()"
   ]
  },
  {
   "cell_type": "markdown",
   "metadata": {},
   "source": [
    "#### Looking at the hour in both day and night, for which the maximum happened"
   ]
  },
  {
   "cell_type": "code",
   "execution_count": 21,
   "metadata": {},
   "outputs": [
    {
     "data": {
      "text/html": [
       "<div>\n",
       "<style scoped>\n",
       "    .dataframe tbody tr th:only-of-type {\n",
       "        vertical-align: middle;\n",
       "    }\n",
       "\n",
       "    .dataframe tbody tr th {\n",
       "        vertical-align: top;\n",
       "    }\n",
       "\n",
       "    .dataframe thead th {\n",
       "        text-align: right;\n",
       "    }\n",
       "</style>\n",
       "<table border=\"1\" class=\"dataframe\">\n",
       "  <thead>\n",
       "    <tr style=\"text-align: right;\">\n",
       "      <th></th>\n",
       "      <th>CH4_79</th>\n",
       "      <th>CH4_53</th>\n",
       "      <th>CH4_38</th>\n",
       "      <th>CH4_24</th>\n",
       "      <th>CH4_4</th>\n",
       "      <th>grad</th>\n",
       "      <th>GradFlag</th>\n",
       "      <th>night_F</th>\n",
       "      <th>range_8</th>\n",
       "      <th>low_than8</th>\n",
       "    </tr>\n",
       "    <tr>\n",
       "      <th>Hour</th>\n",
       "      <th></th>\n",
       "      <th></th>\n",
       "      <th></th>\n",
       "      <th></th>\n",
       "      <th></th>\n",
       "      <th></th>\n",
       "      <th></th>\n",
       "      <th></th>\n",
       "      <th></th>\n",
       "      <th></th>\n",
       "    </tr>\n",
       "  </thead>\n",
       "  <tbody>\n",
       "    <tr>\n",
       "      <td>0</td>\n",
       "      <td>2047.00</td>\n",
       "      <td>2028.99</td>\n",
       "      <td>2021.42</td>\n",
       "      <td>2020.37</td>\n",
       "      <td>2000.97</td>\n",
       "      <td>84.87</td>\n",
       "      <td>True</td>\n",
       "      <td>True</td>\n",
       "      <td>False</td>\n",
       "      <td>False</td>\n",
       "    </tr>\n",
       "    <tr>\n",
       "      <td>1</td>\n",
       "      <td>2031.26</td>\n",
       "      <td>2022.32</td>\n",
       "      <td>2012.83</td>\n",
       "      <td>2010.63</td>\n",
       "      <td>2002.82</td>\n",
       "      <td>75.53</td>\n",
       "      <td>True</td>\n",
       "      <td>True</td>\n",
       "      <td>False</td>\n",
       "      <td>False</td>\n",
       "    </tr>\n",
       "    <tr>\n",
       "      <td>2</td>\n",
       "      <td>2038.76</td>\n",
       "      <td>2041.80</td>\n",
       "      <td>2027.88</td>\n",
       "      <td>2026.97</td>\n",
       "      <td>2027.84</td>\n",
       "      <td>109.02</td>\n",
       "      <td>True</td>\n",
       "      <td>True</td>\n",
       "      <td>False</td>\n",
       "      <td>False</td>\n",
       "    </tr>\n",
       "    <tr>\n",
       "      <td>3</td>\n",
       "      <td>2044.22</td>\n",
       "      <td>2053.34</td>\n",
       "      <td>2063.07</td>\n",
       "      <td>2056.95</td>\n",
       "      <td>1999.94</td>\n",
       "      <td>194.62</td>\n",
       "      <td>True</td>\n",
       "      <td>True</td>\n",
       "      <td>False</td>\n",
       "      <td>False</td>\n",
       "    </tr>\n",
       "    <tr>\n",
       "      <td>4</td>\n",
       "      <td>2052.39</td>\n",
       "      <td>2045.50</td>\n",
       "      <td>2054.56</td>\n",
       "      <td>2045.90</td>\n",
       "      <td>2008.45</td>\n",
       "      <td>132.43</td>\n",
       "      <td>True</td>\n",
       "      <td>True</td>\n",
       "      <td>False</td>\n",
       "      <td>False</td>\n",
       "    </tr>\n",
       "    <tr>\n",
       "      <td>5</td>\n",
       "      <td>2064.87</td>\n",
       "      <td>2036.74</td>\n",
       "      <td>2022.30</td>\n",
       "      <td>2006.63</td>\n",
       "      <td>1992.96</td>\n",
       "      <td>162.48</td>\n",
       "      <td>True</td>\n",
       "      <td>True</td>\n",
       "      <td>False</td>\n",
       "      <td>False</td>\n",
       "    </tr>\n",
       "    <tr>\n",
       "      <td>6</td>\n",
       "      <td>2070.28</td>\n",
       "      <td>2014.79</td>\n",
       "      <td>2002.04</td>\n",
       "      <td>2003.67</td>\n",
       "      <td>1998.86</td>\n",
       "      <td>166.86</td>\n",
       "      <td>True</td>\n",
       "      <td>False</td>\n",
       "      <td>False</td>\n",
       "      <td>False</td>\n",
       "    </tr>\n",
       "    <tr>\n",
       "      <td>20</td>\n",
       "      <td>2022.88</td>\n",
       "      <td>2002.34</td>\n",
       "      <td>1984.09</td>\n",
       "      <td>1978.46</td>\n",
       "      <td>1968.50</td>\n",
       "      <td>74.61</td>\n",
       "      <td>True</td>\n",
       "      <td>True</td>\n",
       "      <td>False</td>\n",
       "      <td>False</td>\n",
       "    </tr>\n",
       "    <tr>\n",
       "      <td>21</td>\n",
       "      <td>2040.14</td>\n",
       "      <td>2026.78</td>\n",
       "      <td>2019.41</td>\n",
       "      <td>2010.95</td>\n",
       "      <td>1988.48</td>\n",
       "      <td>95.34</td>\n",
       "      <td>True</td>\n",
       "      <td>True</td>\n",
       "      <td>False</td>\n",
       "      <td>False</td>\n",
       "    </tr>\n",
       "    <tr>\n",
       "      <td>22</td>\n",
       "      <td>2042.06</td>\n",
       "      <td>2041.54</td>\n",
       "      <td>2039.35</td>\n",
       "      <td>2037.77</td>\n",
       "      <td>2018.52</td>\n",
       "      <td>113.47</td>\n",
       "      <td>True</td>\n",
       "      <td>True</td>\n",
       "      <td>False</td>\n",
       "      <td>False</td>\n",
       "    </tr>\n",
       "    <tr>\n",
       "      <td>23</td>\n",
       "      <td>2037.03</td>\n",
       "      <td>2015.65</td>\n",
       "      <td>2008.60</td>\n",
       "      <td>2001.85</td>\n",
       "      <td>1996.02</td>\n",
       "      <td>110.44</td>\n",
       "      <td>True</td>\n",
       "      <td>True</td>\n",
       "      <td>False</td>\n",
       "      <td>False</td>\n",
       "    </tr>\n",
       "  </tbody>\n",
       "</table>\n",
       "</div>"
      ],
      "text/plain": [
       "       CH4_79   CH4_53   CH4_38   CH4_24    CH4_4    grad  GradFlag  night_F  \\\n",
       "Hour                                                                           \n",
       "0     2047.00  2028.99  2021.42  2020.37  2000.97   84.87      True     True   \n",
       "1     2031.26  2022.32  2012.83  2010.63  2002.82   75.53      True     True   \n",
       "2     2038.76  2041.80  2027.88  2026.97  2027.84  109.02      True     True   \n",
       "3     2044.22  2053.34  2063.07  2056.95  1999.94  194.62      True     True   \n",
       "4     2052.39  2045.50  2054.56  2045.90  2008.45  132.43      True     True   \n",
       "5     2064.87  2036.74  2022.30  2006.63  1992.96  162.48      True     True   \n",
       "6     2070.28  2014.79  2002.04  2003.67  1998.86  166.86      True    False   \n",
       "20    2022.88  2002.34  1984.09  1978.46  1968.50   74.61      True     True   \n",
       "21    2040.14  2026.78  2019.41  2010.95  1988.48   95.34      True     True   \n",
       "22    2042.06  2041.54  2039.35  2037.77  2018.52  113.47      True     True   \n",
       "23    2037.03  2015.65  2008.60  2001.85  1996.02  110.44      True     True   \n",
       "\n",
       "      range_8  low_than8  \n",
       "Hour                      \n",
       "0       False      False  \n",
       "1       False      False  \n",
       "2       False      False  \n",
       "3       False      False  \n",
       "4       False      False  \n",
       "5       False      False  \n",
       "6       False      False  \n",
       "20      False      False  \n",
       "21      False      False  \n",
       "22      False      False  \n",
       "23      False      False  "
      ]
     },
     "execution_count": 21,
     "metadata": {},
     "output_type": "execute_result"
    }
   ],
   "source": [
    "# hour maximum for nighttime\n",
    "nights[nights['GradFlag'] == True].groupby('Hour').max()"
   ]
  },
  {
   "cell_type": "code",
   "execution_count": 22,
   "metadata": {},
   "outputs": [
    {
     "data": {
      "text/html": [
       "<div>\n",
       "<style scoped>\n",
       "    .dataframe tbody tr th:only-of-type {\n",
       "        vertical-align: middle;\n",
       "    }\n",
       "\n",
       "    .dataframe tbody tr th {\n",
       "        vertical-align: top;\n",
       "    }\n",
       "\n",
       "    .dataframe thead th {\n",
       "        text-align: right;\n",
       "    }\n",
       "</style>\n",
       "<table border=\"1\" class=\"dataframe\">\n",
       "  <thead>\n",
       "    <tr style=\"text-align: right;\">\n",
       "      <th></th>\n",
       "      <th>CH4_79</th>\n",
       "      <th>CH4_53</th>\n",
       "      <th>CH4_38</th>\n",
       "      <th>CH4_24</th>\n",
       "      <th>CH4_4</th>\n",
       "      <th>grad</th>\n",
       "      <th>GradFlag</th>\n",
       "      <th>night_F</th>\n",
       "      <th>range_8</th>\n",
       "      <th>low_than8</th>\n",
       "    </tr>\n",
       "    <tr>\n",
       "      <th>Hour</th>\n",
       "      <th></th>\n",
       "      <th></th>\n",
       "      <th></th>\n",
       "      <th></th>\n",
       "      <th></th>\n",
       "      <th></th>\n",
       "      <th></th>\n",
       "      <th></th>\n",
       "      <th></th>\n",
       "      <th></th>\n",
       "    </tr>\n",
       "  </thead>\n",
       "  <tbody>\n",
       "    <tr>\n",
       "      <td>6</td>\n",
       "      <td>2072.38</td>\n",
       "      <td>2026.23</td>\n",
       "      <td>2002.04</td>\n",
       "      <td>2003.67</td>\n",
       "      <td>1998.86</td>\n",
       "      <td>177.91</td>\n",
       "      <td>True</td>\n",
       "      <td>False</td>\n",
       "      <td>False</td>\n",
       "      <td>False</td>\n",
       "    </tr>\n",
       "    <tr>\n",
       "      <td>7</td>\n",
       "      <td>2071.62</td>\n",
       "      <td>2021.42</td>\n",
       "      <td>2014.86</td>\n",
       "      <td>2010.34</td>\n",
       "      <td>1986.95</td>\n",
       "      <td>165.24</td>\n",
       "      <td>True</td>\n",
       "      <td>False</td>\n",
       "      <td>False</td>\n",
       "      <td>False</td>\n",
       "    </tr>\n",
       "    <tr>\n",
       "      <td>8</td>\n",
       "      <td>2121.49</td>\n",
       "      <td>2098.22</td>\n",
       "      <td>2105.17</td>\n",
       "      <td>2100.60</td>\n",
       "      <td>2025.49</td>\n",
       "      <td>157.93</td>\n",
       "      <td>True</td>\n",
       "      <td>False</td>\n",
       "      <td>False</td>\n",
       "      <td>False</td>\n",
       "    </tr>\n",
       "    <tr>\n",
       "      <td>9</td>\n",
       "      <td>2128.06</td>\n",
       "      <td>2126.81</td>\n",
       "      <td>2127.79</td>\n",
       "      <td>2124.99</td>\n",
       "      <td>2095.74</td>\n",
       "      <td>99.26</td>\n",
       "      <td>True</td>\n",
       "      <td>False</td>\n",
       "      <td>False</td>\n",
       "      <td>False</td>\n",
       "    </tr>\n",
       "    <tr>\n",
       "      <td>10</td>\n",
       "      <td>2008.12</td>\n",
       "      <td>2009.45</td>\n",
       "      <td>2010.22</td>\n",
       "      <td>2010.14</td>\n",
       "      <td>1995.36</td>\n",
       "      <td>37.17</td>\n",
       "      <td>True</td>\n",
       "      <td>False</td>\n",
       "      <td>False</td>\n",
       "      <td>False</td>\n",
       "    </tr>\n",
       "    <tr>\n",
       "      <td>11</td>\n",
       "      <td>2003.25</td>\n",
       "      <td>2002.76</td>\n",
       "      <td>1999.82</td>\n",
       "      <td>2002.17</td>\n",
       "      <td>1986.97</td>\n",
       "      <td>24.28</td>\n",
       "      <td>True</td>\n",
       "      <td>False</td>\n",
       "      <td>False</td>\n",
       "      <td>False</td>\n",
       "    </tr>\n",
       "    <tr>\n",
       "      <td>12</td>\n",
       "      <td>1928.43</td>\n",
       "      <td>1928.36</td>\n",
       "      <td>1928.72</td>\n",
       "      <td>1927.46</td>\n",
       "      <td>1911.35</td>\n",
       "      <td>19.82</td>\n",
       "      <td>True</td>\n",
       "      <td>False</td>\n",
       "      <td>False</td>\n",
       "      <td>False</td>\n",
       "    </tr>\n",
       "    <tr>\n",
       "      <td>13</td>\n",
       "      <td>1971.35</td>\n",
       "      <td>1973.52</td>\n",
       "      <td>1975.88</td>\n",
       "      <td>1963.77</td>\n",
       "      <td>1955.43</td>\n",
       "      <td>30.89</td>\n",
       "      <td>True</td>\n",
       "      <td>False</td>\n",
       "      <td>False</td>\n",
       "      <td>False</td>\n",
       "    </tr>\n",
       "    <tr>\n",
       "      <td>14</td>\n",
       "      <td>2002.92</td>\n",
       "      <td>2002.42</td>\n",
       "      <td>2001.24</td>\n",
       "      <td>2001.92</td>\n",
       "      <td>1985.77</td>\n",
       "      <td>24.70</td>\n",
       "      <td>True</td>\n",
       "      <td>False</td>\n",
       "      <td>False</td>\n",
       "      <td>False</td>\n",
       "    </tr>\n",
       "    <tr>\n",
       "      <td>15</td>\n",
       "      <td>1942.33</td>\n",
       "      <td>1942.53</td>\n",
       "      <td>1941.41</td>\n",
       "      <td>1935.22</td>\n",
       "      <td>1916.05</td>\n",
       "      <td>32.56</td>\n",
       "      <td>True</td>\n",
       "      <td>False</td>\n",
       "      <td>False</td>\n",
       "      <td>False</td>\n",
       "    </tr>\n",
       "    <tr>\n",
       "      <td>16</td>\n",
       "      <td>1967.51</td>\n",
       "      <td>1960.08</td>\n",
       "      <td>1958.66</td>\n",
       "      <td>1958.39</td>\n",
       "      <td>1941.63</td>\n",
       "      <td>32.12</td>\n",
       "      <td>True</td>\n",
       "      <td>False</td>\n",
       "      <td>False</td>\n",
       "      <td>False</td>\n",
       "    </tr>\n",
       "    <tr>\n",
       "      <td>17</td>\n",
       "      <td>1971.73</td>\n",
       "      <td>1971.40</td>\n",
       "      <td>1970.07</td>\n",
       "      <td>1970.62</td>\n",
       "      <td>1957.60</td>\n",
       "      <td>37.64</td>\n",
       "      <td>True</td>\n",
       "      <td>False</td>\n",
       "      <td>False</td>\n",
       "      <td>False</td>\n",
       "    </tr>\n",
       "    <tr>\n",
       "      <td>18</td>\n",
       "      <td>1951.97</td>\n",
       "      <td>1944.89</td>\n",
       "      <td>1943.30</td>\n",
       "      <td>1940.01</td>\n",
       "      <td>1927.62</td>\n",
       "      <td>58.03</td>\n",
       "      <td>True</td>\n",
       "      <td>False</td>\n",
       "      <td>False</td>\n",
       "      <td>False</td>\n",
       "    </tr>\n",
       "  </tbody>\n",
       "</table>\n",
       "</div>"
      ],
      "text/plain": [
       "       CH4_79   CH4_53   CH4_38   CH4_24    CH4_4    grad  GradFlag  night_F  \\\n",
       "Hour                                                                           \n",
       "6     2072.38  2026.23  2002.04  2003.67  1998.86  177.91      True    False   \n",
       "7     2071.62  2021.42  2014.86  2010.34  1986.95  165.24      True    False   \n",
       "8     2121.49  2098.22  2105.17  2100.60  2025.49  157.93      True    False   \n",
       "9     2128.06  2126.81  2127.79  2124.99  2095.74   99.26      True    False   \n",
       "10    2008.12  2009.45  2010.22  2010.14  1995.36   37.17      True    False   \n",
       "11    2003.25  2002.76  1999.82  2002.17  1986.97   24.28      True    False   \n",
       "12    1928.43  1928.36  1928.72  1927.46  1911.35   19.82      True    False   \n",
       "13    1971.35  1973.52  1975.88  1963.77  1955.43   30.89      True    False   \n",
       "14    2002.92  2002.42  2001.24  2001.92  1985.77   24.70      True    False   \n",
       "15    1942.33  1942.53  1941.41  1935.22  1916.05   32.56      True    False   \n",
       "16    1967.51  1960.08  1958.66  1958.39  1941.63   32.12      True    False   \n",
       "17    1971.73  1971.40  1970.07  1970.62  1957.60   37.64      True    False   \n",
       "18    1951.97  1944.89  1943.30  1940.01  1927.62   58.03      True    False   \n",
       "\n",
       "      range_8  low_than8  \n",
       "Hour                      \n",
       "6       False      False  \n",
       "7       False      False  \n",
       "8       False      False  \n",
       "9       False      False  \n",
       "10      False      False  \n",
       "11      False      False  \n",
       "12      False      False  \n",
       "13      False      False  \n",
       "14      False      False  \n",
       "15      False      False  \n",
       "16      False      False  \n",
       "17      False      False  \n",
       "18      False      False  "
      ]
     },
     "execution_count": 22,
     "metadata": {},
     "output_type": "execute_result"
    }
   ],
   "source": [
    "# hour maximum for daytime\n",
    "days[days['GradFlag'] == True].groupby('Hour').max()"
   ]
  },
  {
   "cell_type": "markdown",
   "metadata": {},
   "source": [
    "## Section 3.2.2 Net radiation, sensible heat flux, friction velocity and thermal stratification for CH4 positive gradients 2013-2018\n",
    "\n",
    "#### Alternative plots and further calculations."
   ]
  },
  {
   "cell_type": "code",
   "execution_count": 23,
   "metadata": {},
   "outputs": [],
   "source": [
    "df_full = pd.read_pickle('./Data/ATTO_GHG_Inst_flux_soil_30min')"
   ]
  },
  {
   "cell_type": "code",
   "execution_count": 24,
   "metadata": {},
   "outputs": [],
   "source": [
    "#df_full = df_full.assign(grad_quant = pd.qcut(df_full.grad,q=[0,.09,.883,1],labels=['Lower','range','larger'],retbins=False))\n",
    "df_full = df_full.assign(grad_quant = pd.qcut(df_full.grad,q=[0,.09,.883,1],retbins=False))\n",
    "\n",
    "def mid(interval):\n",
    "    return interval.mid\n",
    "\n",
    "df_full = df_full.assign(grad_quant_mid = df_full['grad_quant'].apply(mid))\n",
    "df_full['grad_quant_mid'] = df_full['grad_quant_mid'].astype(np.float64)"
   ]
  },
  {
   "cell_type": "code",
   "execution_count": 25,
   "metadata": {},
   "outputs": [],
   "source": [
    "# Calculating Ribulk.\n",
    "meanTht = df_full[['theta', 'theta73', 'theta55','theta40']].mean().mean()\n",
    "deltaZ  = 79-40\n",
    "Ritop   = (9.8/(meanTht)) * deltaZ * ((df_full.theta-df_full.theta40) / (df_full['Mean_Windsp[m/s]'] - df_full.WSp_42m)**2)\n",
    "df_full = df_full.assign(Ritop = Ritop)"
   ]
  },
  {
   "cell_type": "code",
   "execution_count": 26,
   "metadata": {},
   "outputs": [],
   "source": [
    "df_full_n = df_full.between_time('20:00','06:00')\n",
    "df_full_n.columns[0:100];"
   ]
  },
  {
   "cell_type": "markdown",
   "metadata": {},
   "source": [
    "### Alternative for Figure 9.\n",
    "- This plot was not included because we wanted to show the nocturnal evolution."
   ]
  },
  {
   "cell_type": "code",
   "execution_count": 27,
   "metadata": {},
   "outputs": [
    {
     "name": "stdout",
     "output_type": "stream",
     "text": [
      "NetRad Ks_2sampResult(statistic=0.17896850025450706, pvalue=3.1690728619103277e-149)\n",
      "U* Ks_2sampResult(statistic=0.0990730222369543, pvalue=1.6091352662578409e-46)\n",
      "Theta Ks_2sampResult(statistic=0.1968117250734212, pvalue=6.0684634161083e-162)\n",
      "H Ks_2sampResult(statistic=0.06363121987467013, pvalue=6.289829674138968e-19)\n"
     ]
    },
    {
     "data": {
      "image/png": "[encoded data removed]",
      "text/plain": [
       "<Figure size 525x1050 with 4 Axes>"
      ]
     },
     "metadata": {
      "needs_background": "light"
     },
     "output_type": "display_data"
    }
   ],
   "source": [
    "fig  = plt.figure(figsize=(3.5,7),dpi=150)\n",
    "grid = plt.GridSpec(4,1,wspace=0.2,hspace=0.5)\n",
    "\n",
    "row1 = fig.add_subplot(grid[0,0])\n",
    "data = df_full_n[['Hour','GradFlag','NetRad']]\n",
    "sns.distplot(data['NetRad'].loc[data['GradFlag']==False].dropna(),bins=500,ax=row1,hist=True,kde=False,\n",
    "            hist_kws={\"alpha\": 1, \"color\": \"orange\"})\n",
    "sns.distplot(data['NetRad'].loc[data['GradFlag']==True].dropna(),bins=500,ax=row1,hist=True,kde=False,\n",
    "             hist_kws={\"alpha\": 1, \"color\": \"k\"})\n",
    "row1.vlines(data['NetRad'].loc[data['GradFlag']==True].dropna().mean(),0,3000,linestyles='--',linewidth=0.5,colors='k')\n",
    "row1.vlines(data['NetRad'].loc[data['GradFlag']==False].dropna().mean(),0,3000,linestyles='--',linewidth=0.5,color='darkorange')\n",
    "row1.set_xlim(-80,80)\n",
    "row1.set_ylim(0,3000)\n",
    "row1.set_ylabel('Counts')\n",
    "row1.set_xlabel('Net Radiation [W m$^{-2}$]')\n",
    "print('NetRad',scipy.stats.ks_2samp(data['NetRad'].loc[data['GradFlag']==False].dropna().values,\n",
    "                           data['NetRad'].loc[data['GradFlag']==True].dropna().values))\n",
    "\n",
    "row2 = fig.add_subplot(grid[1,0])\n",
    "data = df_full_n[['Hour','GradFlag','U-star[m/s]']]\n",
    "sns.distplot(data['U-star[m/s]'].loc[data['GradFlag']==False].dropna(),bins=100,ax=row2,hist=True,kde=False,\n",
    "            hist_kws={\"alpha\": 1, \"color\": \"orange\"})\n",
    "sns.distplot(data['U-star[m/s]'].loc[data['GradFlag']==True].dropna(),bins=100,ax=row2,hist=True,kde=False,\n",
    "            hist_kws={\"alpha\": 1, \"color\": \"k\"})\n",
    "row2.vlines(data['U-star[m/s]'].loc[data['GradFlag']==True].dropna().mean(),0,5000,linestyles='--',linewidth=0.5,color='k')\n",
    "row2.vlines(data['U-star[m/s]'].loc[data['GradFlag']==False].dropna().mean(),0,5000,linestyles='--',linewidth=0.5,colors='darkorange')\n",
    "row2.set_xlim(-0.1,1)\n",
    "row2.set_ylim(0,4500)\n",
    "row2.set_ylabel('Counts')\n",
    "row2.set_xlabel('Friction velocity [m $s^{-1}$]')\n",
    "print('U*',scipy.stats.ks_2samp(data['U-star[m/s]'].loc[data['GradFlag']==False].dropna().values,\n",
    "                           data['U-star[m/s]'].loc[data['GradFlag']==True].dropna().values))\n",
    "\n",
    "row3 = fig.add_subplot(grid[2,0])\n",
    "data = df_full_n[['Hour','GradFlag','PotVirt_81m','PotVirt_36m']]\n",
    "data = data.assign(PotGradAbove = data['PotVirt_81m'] - data['PotVirt_36m'])\n",
    "sns.distplot(data['PotGradAbove'].loc[data['GradFlag']==False].dropna(),bins=100,ax=row3,hist=True,kde=False,\n",
    "            hist_kws={\"alpha\": 1, \"color\": \"orange\"})\n",
    "sns.distplot(data['PotGradAbove'].loc[data['GradFlag']==True].dropna(),bins=100,ax=row3,hist=True,kde=False,\n",
    "            hist_kws={\"alpha\": 1, \"color\": \"k\"})\n",
    "row3.vlines(data['PotGradAbove'].loc[data['GradFlag']==True].dropna().mean(),0,2700,linestyles='--',linewidth=0.5,color='k')\n",
    "row3.vlines(data['PotGradAbove'].loc[data['GradFlag']==False].dropna().mean(),0,2700,linestyles='--',linewidth=0.5,color='darkorange')\n",
    "row3.set_xlim(-4,6)\n",
    "row3.set_ylim(0,2700)\n",
    "row3.set_ylabel('Counts')\n",
    "row3.set_xlabel('$\\Theta_{v-81m}$ - $\\Theta_{v-36m}$ [K]')\n",
    "print('Theta',scipy.stats.ks_2samp(data['PotGradAbove'].loc[data['GradFlag']==False].dropna().values,\n",
    "                           data['PotGradAbove'].loc[data['GradFlag']==True].dropna().values))\n",
    "\n",
    "\n",
    "row4 = fig.add_subplot(grid[3,0])\n",
    "data = df_full_n[['Hour','GradFlag','FluxTsonic[Watt/m2]']]\n",
    "sns.distplot(data['FluxTsonic[Watt/m2]'].loc[data['GradFlag']==False].dropna(),bins=1000,ax=row4,hist=True,kde=False,\n",
    "            hist_kws={\"alpha\": 1, \"color\": \"orange\"})\n",
    "sns.distplot(data['FluxTsonic[Watt/m2]'].loc[data['GradFlag']==True].dropna(),bins=1000,ax=row4,hist=True,kde=False,\n",
    "            hist_kws={\"alpha\": 1, \"color\": \"k\"})\n",
    "row4.vlines(data['FluxTsonic[Watt/m2]'].loc[data['GradFlag']==True].dropna().mean(),0,2700,linestyles='--',linewidth=0.5,color='k')\n",
    "row4.vlines(data['FluxTsonic[Watt/m2]'].loc[data['GradFlag']==False].dropna().mean(),0,2700,linestyles='--',linewidth=0.5,color='darkorange')\n",
    "row4.set_xlim(-40,40)\n",
    "row4.set_ylim(0,2600)\n",
    "row4.set_ylabel('Counts')\n",
    "row4.set_xlabel('Sensible heat flux [$w$ $m^{-2}$]')\n",
    "print('H',scipy.stats.ks_2samp(data['FluxTsonic[Watt/m2]'].loc[data['GradFlag']==False].dropna().values,\n",
    "                           data['FluxTsonic[Watt/m2]'].loc[data['GradFlag']==True].dropna().values))\n",
    "plt.show()"
   ]
  },
  {
   "cell_type": "markdown",
   "metadata": {},
   "source": [
    "### Analysis of Stability above canopy using Bulk Richardson Number\n",
    "- Analysis not included in paper\n",
    "- I think the 1/L analysis is more reliable at 1 min resolution"
   ]
  },
  {
   "cell_type": "code",
   "execution_count": 28,
   "metadata": {},
   "outputs": [],
   "source": [
    "data     = df_full_n[['Hour','grad','GradFlag','PotVirt_81m','PotVirt_36m','grad_quant_mid','Ritop','FluxTsonic[Watt/m2]','Mean_Windsp[m/s]']]\n",
    "data     = data.assign(PotGradAbove = data['PotVirt_81m'] - data['PotVirt_36m'])\n",
    "data     = data.assign(Ritop_range = data['Ritop'].between(-5, 5, inclusive=True))\n",
    "data     = data.assign(Ritop_int = pd.qcut(data[data['Ritop_range']==True]['Ritop'],q=10))\n",
    "data     = data.assign(Ritop_int_mid = data['Ritop_int'].apply(mid))\n",
    "data     = data.assign(StabilityFlag = np.where(data['Ritop']>0.25, 'Stable', 'Weakly stable'))\n",
    "# sns.scatterplot(x='Ritop',y='grad',data=data[data['Ritop_range']==True])\n",
    "# sns.boxplot(x='Ritop_int_mid',y='grad',data=data[data['Ritop_range']==True],fliersize=0)\n",
    "# plt.ylim(-20,40)\n",
    "# plt.show()"
   ]
  },
  {
   "cell_type": "code",
   "execution_count": 29,
   "metadata": {},
   "outputs": [
    {
     "data": {
      "image/png": "[encoded data removed]",
      "text/plain": [
       "<Figure size 600x300 with 2 Axes>"
      ]
     },
     "metadata": {
      "needs_background": "light"
     },
     "output_type": "display_data"
    }
   ],
   "source": [
    "fig  = plt.figure(figsize=(6,3),dpi=100)\n",
    "grid = plt.GridSpec(1,2,wspace=0.5,hspace=0.1)\n",
    "\n",
    "## Top panel\n",
    "ax1     = fig.add_subplot(grid[0, 0])\n",
    "data_tp = data[data['Ritop_range']==True].groupby('Ritop_int_mid').mean()['FluxTsonic[Watt/m2]']\n",
    "labels  = ['%0.2f'%(i) for i in data_tp.index.categories]\n",
    "data_tp.plot(marker='o',linestyle='--',ax=ax1)\n",
    "ax1.set_ylabel('Sensible heat flux [w m-2]')\n",
    "ax1.set_xlabel('RiBulk 80-36 decile bins ')\n",
    "#ax1.set_xticks(data_tp.index.categories)\n",
    "#ax1.set_xlim(-50,60)\n",
    "#ax1.set_xticklabels([' ','-48.76', '0.25', '0.40', '0.75', '4.17'])\n",
    "#sns.despine()\n",
    "\n",
    "## Row 2 panel\n",
    "ax2    = fig.add_subplot(grid[0,1])\n",
    "data[data['Ritop_range']==True].groupby('Ritop_int_mid').mean()['grad'].plot(marker='o',linestyle='--',ax=ax2)\n",
    "#print(data[data['Ritop_range']==True].groupby('Ritop_int_mid').mean()['grad'])\n",
    "#ax2.set_xticklabels([' ','-48.76', '0.25', '0.40', '0.75', '4.17'])\n",
    "ax2.set_xlabel('RiBulk 80-36 decile bins ')\n",
    "ax2.set_ylabel('Mean [CH$_4$] at 79m - [CH$_4$] at 4m [ppb]')\n",
    "sns.despine()\n",
    "plt.show()\n",
    "# I need to add the x ticklabels"
   ]
  },
  {
   "cell_type": "code",
   "execution_count": 30,
   "metadata": {},
   "outputs": [
    {
     "data": {
      "text/plain": [
       "StabilityFlag\n",
       "Stable           1976\n",
       "Weakly stable    4836\n",
       "Name: GradFlag, dtype: int64"
      ]
     },
     "execution_count": 30,
     "metadata": {},
     "output_type": "execute_result"
    }
   ],
   "source": [
    "# Counting the amount of events at 30min, in which they happened under stable or weakly stable conditions\n",
    "# This was not addded to paper\n",
    "data[data['GradFlag']==True].groupby('StabilityFlag').count()['GradFlag']"
   ]
  },
  {
   "cell_type": "code",
   "execution_count": 31,
   "metadata": {},
   "outputs": [
    {
     "data": {
      "text/html": [
       "<div>\n",
       "<style scoped>\n",
       "    .dataframe tbody tr th:only-of-type {\n",
       "        vertical-align: middle;\n",
       "    }\n",
       "\n",
       "    .dataframe tbody tr th {\n",
       "        vertical-align: top;\n",
       "    }\n",
       "\n",
       "    .dataframe thead th {\n",
       "        text-align: right;\n",
       "    }\n",
       "</style>\n",
       "<table border=\"1\" class=\"dataframe\">\n",
       "  <thead>\n",
       "    <tr style=\"text-align: right;\">\n",
       "      <th></th>\n",
       "      <th>Hour</th>\n",
       "      <th>grad</th>\n",
       "      <th>PotVirt_81m</th>\n",
       "      <th>PotVirt_36m</th>\n",
       "      <th>grad_quant_mid</th>\n",
       "      <th>Ritop</th>\n",
       "      <th>FluxTsonic[Watt/m2]</th>\n",
       "      <th>Mean_Windsp[m/s]</th>\n",
       "      <th>PotGradAbove</th>\n",
       "      <th>Ritop_range</th>\n",
       "    </tr>\n",
       "    <tr>\n",
       "      <th>Ritop_int</th>\n",
       "      <th></th>\n",
       "      <th></th>\n",
       "      <th></th>\n",
       "      <th></th>\n",
       "      <th></th>\n",
       "      <th></th>\n",
       "      <th></th>\n",
       "      <th></th>\n",
       "      <th></th>\n",
       "      <th></th>\n",
       "    </tr>\n",
       "  </thead>\n",
       "  <tbody>\n",
       "    <tr>\n",
       "      <td>(-4.9910000000000005, 0.12]</td>\n",
       "      <td>9.697406</td>\n",
       "      <td>0.416971</td>\n",
       "      <td>301.235095</td>\n",
       "      <td>300.924001</td>\n",
       "      <td>3.076003</td>\n",
       "      <td>-0.130844</td>\n",
       "      <td>-8.769045</td>\n",
       "      <td>3.768806</td>\n",
       "      <td>0.265202</td>\n",
       "      <td>True</td>\n",
       "    </tr>\n",
       "    <tr>\n",
       "      <td>(0.12, 0.188]</td>\n",
       "      <td>11.042538</td>\n",
       "      <td>2.140128</td>\n",
       "      <td>303.005572</td>\n",
       "      <td>302.123318</td>\n",
       "      <td>4.746747</td>\n",
       "      <td>0.156916</td>\n",
       "      <td>-9.639960</td>\n",
       "      <td>4.288728</td>\n",
       "      <td>0.871590</td>\n",
       "      <td>True</td>\n",
       "    </tr>\n",
       "    <tr>\n",
       "      <td>(0.188, 0.245]</td>\n",
       "      <td>11.720260</td>\n",
       "      <td>3.725427</td>\n",
       "      <td>303.197001</td>\n",
       "      <td>302.059308</td>\n",
       "      <td>8.850194</td>\n",
       "      <td>0.217627</td>\n",
       "      <td>-5.516620</td>\n",
       "      <td>4.146142</td>\n",
       "      <td>1.137692</td>\n",
       "      <td>True</td>\n",
       "    </tr>\n",
       "    <tr>\n",
       "      <td>(0.245, 0.298]</td>\n",
       "      <td>10.830570</td>\n",
       "      <td>2.754381</td>\n",
       "      <td>303.247661</td>\n",
       "      <td>301.952751</td>\n",
       "      <td>3.766133</td>\n",
       "      <td>0.270789</td>\n",
       "      <td>-3.281735</td>\n",
       "      <td>3.962898</td>\n",
       "      <td>1.293825</td>\n",
       "      <td>True</td>\n",
       "    </tr>\n",
       "    <tr>\n",
       "      <td>(0.298, 0.368]</td>\n",
       "      <td>10.346071</td>\n",
       "      <td>4.076457</td>\n",
       "      <td>303.101014</td>\n",
       "      <td>301.762208</td>\n",
       "      <td>7.055132</td>\n",
       "      <td>0.331358</td>\n",
       "      <td>-2.227471</td>\n",
       "      <td>3.668509</td>\n",
       "      <td>1.337781</td>\n",
       "      <td>True</td>\n",
       "    </tr>\n",
       "    <tr>\n",
       "      <td>(0.368, 0.465]</td>\n",
       "      <td>9.518385</td>\n",
       "      <td>2.968307</td>\n",
       "      <td>303.010489</td>\n",
       "      <td>301.615480</td>\n",
       "      <td>1.504624</td>\n",
       "      <td>0.413473</td>\n",
       "      <td>-1.206538</td>\n",
       "      <td>3.362317</td>\n",
       "      <td>1.395008</td>\n",
       "      <td>True</td>\n",
       "    </tr>\n",
       "    <tr>\n",
       "      <td>(0.465, 0.618]</td>\n",
       "      <td>9.453497</td>\n",
       "      <td>3.113016</td>\n",
       "      <td>302.947048</td>\n",
       "      <td>301.500140</td>\n",
       "      <td>-1.072482</td>\n",
       "      <td>0.537539</td>\n",
       "      <td>-0.870818</td>\n",
       "      <td>3.060607</td>\n",
       "      <td>1.448139</td>\n",
       "      <td>True</td>\n",
       "    </tr>\n",
       "    <tr>\n",
       "      <td>(0.618, 0.911]</td>\n",
       "      <td>9.399423</td>\n",
       "      <td>2.278585</td>\n",
       "      <td>302.903334</td>\n",
       "      <td>301.463376</td>\n",
       "      <td>0.055727</td>\n",
       "      <td>0.747968</td>\n",
       "      <td>-0.060593</td>\n",
       "      <td>2.693884</td>\n",
       "      <td>1.440876</td>\n",
       "      <td>True</td>\n",
       "    </tr>\n",
       "    <tr>\n",
       "      <td>(0.911, 1.695]</td>\n",
       "      <td>9.208363</td>\n",
       "      <td>2.882145</td>\n",
       "      <td>302.816019</td>\n",
       "      <td>301.355974</td>\n",
       "      <td>2.100138</td>\n",
       "      <td>1.228963</td>\n",
       "      <td>-0.309170</td>\n",
       "      <td>2.274882</td>\n",
       "      <td>1.458404</td>\n",
       "      <td>True</td>\n",
       "    </tr>\n",
       "    <tr>\n",
       "      <td>(1.695, 4.998]</td>\n",
       "      <td>9.238645</td>\n",
       "      <td>2.827157</td>\n",
       "      <td>302.483249</td>\n",
       "      <td>301.050828</td>\n",
       "      <td>-3.526474</td>\n",
       "      <td>2.883045</td>\n",
       "      <td>-0.660075</td>\n",
       "      <td>1.714521</td>\n",
       "      <td>1.428653</td>\n",
       "      <td>True</td>\n",
       "    </tr>\n",
       "  </tbody>\n",
       "</table>\n",
       "</div>"
      ],
      "text/plain": [
       "                                  Hour      grad  PotVirt_81m  PotVirt_36m  \\\n",
       "Ritop_int                                                                    \n",
       "(-4.9910000000000005, 0.12]   9.697406  0.416971   301.235095   300.924001   \n",
       "(0.12, 0.188]                11.042538  2.140128   303.005572   302.123318   \n",
       "(0.188, 0.245]               11.720260  3.725427   303.197001   302.059308   \n",
       "(0.245, 0.298]               10.830570  2.754381   303.247661   301.952751   \n",
       "(0.298, 0.368]               10.346071  4.076457   303.101014   301.762208   \n",
       "(0.368, 0.465]                9.518385  2.968307   303.010489   301.615480   \n",
       "(0.465, 0.618]                9.453497  3.113016   302.947048   301.500140   \n",
       "(0.618, 0.911]                9.399423  2.278585   302.903334   301.463376   \n",
       "(0.911, 1.695]                9.208363  2.882145   302.816019   301.355974   \n",
       "(1.695, 4.998]                9.238645  2.827157   302.483249   301.050828   \n",
       "\n",
       "                             grad_quant_mid     Ritop  FluxTsonic[Watt/m2]  \\\n",
       "Ritop_int                                                                    \n",
       "(-4.9910000000000005, 0.12]        3.076003 -0.130844            -8.769045   \n",
       "(0.12, 0.188]                      4.746747  0.156916            -9.639960   \n",
       "(0.188, 0.245]                     8.850194  0.217627            -5.516620   \n",
       "(0.245, 0.298]                     3.766133  0.270789            -3.281735   \n",
       "(0.298, 0.368]                     7.055132  0.331358            -2.227471   \n",
       "(0.368, 0.465]                     1.504624  0.413473            -1.206538   \n",
       "(0.465, 0.618]                    -1.072482  0.537539            -0.870818   \n",
       "(0.618, 0.911]                     0.055727  0.747968            -0.060593   \n",
       "(0.911, 1.695]                     2.100138  1.228963            -0.309170   \n",
       "(1.695, 4.998]                    -3.526474  2.883045            -0.660075   \n",
       "\n",
       "                             Mean_Windsp[m/s]  PotGradAbove  Ritop_range  \n",
       "Ritop_int                                                                 \n",
       "(-4.9910000000000005, 0.12]          3.768806      0.265202         True  \n",
       "(0.12, 0.188]                        4.288728      0.871590         True  \n",
       "(0.188, 0.245]                       4.146142      1.137692         True  \n",
       "(0.245, 0.298]                       3.962898      1.293825         True  \n",
       "(0.298, 0.368]                       3.668509      1.337781         True  \n",
       "(0.368, 0.465]                       3.362317      1.395008         True  \n",
       "(0.465, 0.618]                       3.060607      1.448139         True  \n",
       "(0.618, 0.911]                       2.693884      1.440876         True  \n",
       "(0.911, 1.695]                       2.274882      1.458404         True  \n",
       "(1.695, 4.998]                       1.714521      1.428653         True  "
      ]
     },
     "execution_count": 31,
     "metadata": {},
     "output_type": "execute_result"
    }
   ],
   "source": [
    "data[data['Ritop_range']==True].groupby('Ritop_int').mean()"
   ]
  },
  {
   "cell_type": "markdown",
   "metadata": {},
   "source": [
    "## Section 3.2.3 Turbulence regimes\n",
    "- It is important to recall that this analysis is done with 1 min data for 2014\n",
    "- Alternative plots and further calculations."
   ]
  },
  {
   "cell_type": "code",
   "execution_count": 32,
   "metadata": {},
   "outputs": [],
   "source": [
    "df_full_1min = pd.read_pickle('./Data/df_GHG_uvw_1min_merged')\n",
    "df_full_1min = df_full_1min.between_time('20:00','06:00',include_start=True,include_end=True)\n",
    "df_full_1min.head();"
   ]
  },
  {
   "cell_type": "code",
   "execution_count": 33,
   "metadata": {},
   "outputs": [],
   "source": [
    "# z over L functions. Transcribed from R by Santiago Botia, based on Michel Stefanello scripts.\n",
    "##################################\n",
    "def calc_1suL(T,wT,us):\n",
    "    rc = get_rhocp(T)\n",
    "    H0 = wT*rc\n",
    "    #if wT.any() or rc.any() == np.nan:\n",
    "    #    H0=np.nan\n",
    "    #else:\n",
    "    #    H0=wT*rc #Zannetti pag 59\n",
    "    unosuL=hlm(rc,T,us,H0)\n",
    "    return unosuL\n",
    "def get_rhocp(Tm):\n",
    "    rhocp = 1305*(273.16/Tm)\n",
    "    #if Tm.any() < 0:\n",
    "    #    rhocp = np.na\n",
    "    #else:\n",
    "    #    rhocp = 1305*(273.16/Tm)\n",
    "    return rhocp\n",
    "def hlm(rc,T,us,h0):\n",
    "    hk = 0.4\n",
    "    g  = 9.81\n",
    "    hlm_2 = -(g*hk*h0)/(rc*T*us*us*us)\n",
    "    #if T.isnull().any() or us.isnull().any() or T.any() < 0 or us.any() < 0:\n",
    "    #    hlm_2=np.nan\n",
    "    #else:\n",
    "    #    hlm_2 = -(g*hk*h0)/(rc*T*us*us*us)\n",
    "    return(hlm_2)  # output:1/L"
   ]
  },
  {
   "cell_type": "markdown",
   "metadata": {},
   "source": [
    "## Stability Assessment for 1 min data, 2014 for dry and wet seasons\n",
    "### Marht 1998 z/L ranges CASES 99\n",
    "- (1) For the ‘weakly stable regime’ (0 < z/L < ε ≪ 1), the heat flux increases with increasing z/L due to increasing amplitude of the temperature fluctua- tions with increasing stability, where ε is the maximum stability for the weakly stable regime, equal to 0.06 for the 10 m data.\n",
    "- (2) For the ‘transition stability regime’ (ε < z/L < O(1)), the heat flux decreases rapidly with increasing z/L due to decreasing amplitude of the vertical velocity fluctuations (Figure 1a) associated with stability constraints.\n",
    "- (3) For the ‘very stable regime’ (z/L > O(1)), the heat flux is small but continues to decrease slowly with increasing stability.\n",
    "\n",
    "### Bart Kruijt (2000) stability classes for Amazon forest study\n",
    "- very unstable (1/Ltop < −0.1)\n",
    "- moderately unstable (−0.1 < 1/Ltop < −0.01)\n",
    "- neutral (−0.01 < 1/Ltop < 0.01)\n",
    "- moderately stable (0.01 < 1/Ltop < 0.1) \n",
    "- very stable (1/Ltop > 0.1)."
   ]
  },
  {
   "cell_type": "code",
   "execution_count": 34,
   "metadata": {},
   "outputs": [],
   "source": [
    "# calculating 1/L with one of the functions above\n",
    "one_L        = calc_1suL(df_full_1min.mean_T+273.15,df_full_1min.wT,df_full_1min.Ustar)\n",
    "df_full_1min = df_full_1min.assign(one_over_L = one_L) # *81 is z/L without, 1/L\n",
    "df_full_1min = df_full_1min.assign(Z_over_L = (81.65-37.5)*one_L) # Z = measurementH - canopy height"
   ]
  },
  {
   "cell_type": "code",
   "execution_count": 35,
   "metadata": {},
   "outputs": [
    {
     "name": "stdout",
     "output_type": "stream",
     "text": [
      "(108621, 2) (108621, 2)\n",
      "(108621, 2) (108621, 2)\n"
     ]
    }
   ],
   "source": [
    "# This is to confirm that for every Flag (True or False) use to mark the CH4 enhancements, \n",
    "# there is a corresponding number of 1/L or Z/L\n",
    "# As the shape after and before removing nan are the same, we can continue.\n",
    "print(df_full_1min.loc[:,['EnhanGrad','Z_over_L']].shape,df_full_1min.loc[:,['EnhanGrad','Z_over_L']].dropna().shape)\n",
    "print(df_full_1min.loc[:,['EnhanGrad','one_over_L']].shape,df_full_1min.loc[:,['EnhanGrad','one_over_L']].dropna().shape)"
   ]
  },
  {
   "cell_type": "code",
   "execution_count": 36,
   "metadata": {},
   "outputs": [
    {
     "name": "stdout",
     "output_type": "stream",
     "text": [
      "count    108621.000000\n",
      "mean          0.029103\n",
      "std          25.911796\n",
      "min       -8348.301372\n",
      "25%          -0.030777\n",
      "50%           0.034766\n",
      "75%           0.152200\n",
      "max         974.122821\n",
      "Name: one_over_L, dtype: float64 count    108621.000000\n",
      "mean          1.284911\n",
      "std        1144.005815\n",
      "min     -368577.505584\n",
      "25%          -1.358798\n",
      "50%           1.534905\n",
      "75%           6.719608\n",
      "max       43007.522546\n",
      "Name: Z_over_L, dtype: float64\n"
     ]
    },
    {
     "data": {
      "image/png": "[encoded data removed]",
      "text/plain": [
       "<Figure size 600x300 with 2 Axes>"
      ]
     },
     "metadata": {
      "needs_background": "light"
     },
     "output_type": "display_data"
    }
   ],
   "source": [
    "# Plotting distributions of 1/L and Z/L\n",
    "fig  = plt.figure(figsize=(6,3),dpi=100)\n",
    "grid = plt.GridSpec(1,2,wspace=0.5,hspace=0.1)\n",
    "\n",
    "print(df_full_1min.one_over_L.describe(),df_full_1min.Z_over_L.describe())\n",
    "## Top panel\n",
    "ax1     = fig.add_subplot(grid[0, 0])\n",
    "sns.boxplot(df_full_1min.one_over_L,ax=ax1)\n",
    "ax1.set_xlabel('1/L')\n",
    "ax1.set_xlim(-1,1)\n",
    "sns.despine()\n",
    "\n",
    "## Row 2 panel\n",
    "ax2    = fig.add_subplot(grid[0,1])\n",
    "sns.boxplot(df_full_1min.Z_over_L,ax=ax2)\n",
    "ax2.set_xlim(-20,20)\n",
    "sns.despine()\n",
    "plt.show()"
   ]
  },
  {
   "cell_type": "markdown",
   "metadata": {},
   "source": [
    "#### Here I am constraining the analysis for the data within the whiskers to avoid large outliers"
   ]
  },
  {
   "cell_type": "code",
   "execution_count": 37,
   "metadata": {},
   "outputs": [
    {
     "name": "stdout",
     "output_type": "stream",
     "text": [
      "-0.305241401873438 0.4266640546736604\n"
     ]
    }
   ],
   "source": [
    "# 1/L Kruijt, calculating the IQR based on the numbers above\n",
    "IQR     = df_full_1min.one_over_L.describe()[6] - df_full_1min.one_over_L.describe()[4]\n",
    "loval_k = df_full_1min.one_over_L.describe()[4] - 1.5 * IQR\n",
    "hival_k = df_full_1min.one_over_L.describe()[6] + 1.5 * IQR\n",
    "print(loval_k,hival_k)"
   ]
  },
  {
   "cell_type": "code",
   "execution_count": 38,
   "metadata": {},
   "outputs": [
    {
     "name": "stdout",
     "output_type": "stream",
     "text": [
      "-13.476407892712292 18.83721801384211\n"
     ]
    }
   ],
   "source": [
    "# Marht, calculating the IQR based on the numbers above\n",
    "IQR     = df_full_1min.Z_over_L.describe()[6] - df_full_1min.Z_over_L.describe()[4]\n",
    "loval_m = df_full_1min.Z_over_L.describe()[4] - 1.5 * IQR\n",
    "hival_m = df_full_1min.Z_over_L.describe()[6] + 1.5 * IQR\n",
    "print(loval_m,hival_m)"
   ]
  },
  {
   "cell_type": "code",
   "execution_count": 39,
   "metadata": {},
   "outputs": [],
   "source": [
    "# Defining classes according to Marht's regimes\n",
    "bins         = [loval_m,0,0.06,1,hival_m] \n",
    "df_full_1min = df_full_1min.assign(z_over_L_class_marht =  pd.cut(df_full_1min.Z_over_L,bins))\n",
    "\n",
    "# Defining classes according to Kruijt's classes\n",
    "bins    = [loval_k,-0.1,-0.01,0.01,0.1,hival_k] # limiting distribution \n",
    "# I used this one on the paper to avoid large outliers\n",
    "# bins         = [df_full_1min.one_over_L.min(),-0.1,-0.01,0.01,0.1,df_full_1min.one_over_L.max()] # inlcuding all distribution\n",
    "# using the above bins, assures that the percentages add up to 100\n",
    "df_full_1min = df_full_1min.assign(one_over_L_class_kruijt =  pd.cut(df_full_1min.one_over_L,bins))"
   ]
  },
  {
   "cell_type": "markdown",
   "metadata": {},
   "source": [
    "#### Number of enhanced CH$_4$ events in each stability class, according Marht and Kruijt"
   ]
  },
  {
   "cell_type": "code",
   "execution_count": 40,
   "metadata": {},
   "outputs": [
    {
     "data": {
      "text/plain": [
       "20647"
      ]
     },
     "execution_count": 40,
     "metadata": {},
     "output_type": "execute_result"
    }
   ],
   "source": [
    "# Total enhancement events at 1 min. \n",
    "EnhanGradTotal = df_full_1min['EnhanGrad'].sum()\n",
    "EnhanGradTotal"
   ]
  },
  {
   "cell_type": "code",
   "execution_count": 41,
   "metadata": {},
   "outputs": [
    {
     "data": {
      "text/html": [
       "<div>\n",
       "<style scoped>\n",
       "    .dataframe tbody tr th:only-of-type {\n",
       "        vertical-align: middle;\n",
       "    }\n",
       "\n",
       "    .dataframe tbody tr th {\n",
       "        vertical-align: top;\n",
       "    }\n",
       "\n",
       "    .dataframe thead th {\n",
       "        text-align: right;\n",
       "    }\n",
       "</style>\n",
       "<table border=\"1\" class=\"dataframe\">\n",
       "  <thead>\n",
       "    <tr style=\"text-align: right;\">\n",
       "      <th></th>\n",
       "      <th>EnhanGrad</th>\n",
       "      <th>Percentages</th>\n",
       "    </tr>\n",
       "    <tr>\n",
       "      <th>z_over_L_class_marht</th>\n",
       "      <th></th>\n",
       "      <th></th>\n",
       "    </tr>\n",
       "  </thead>\n",
       "  <tbody>\n",
       "    <tr>\n",
       "      <td>(-13.476, 0.0]</td>\n",
       "      <td>5023.0</td>\n",
       "      <td>24.327990</td>\n",
       "    </tr>\n",
       "    <tr>\n",
       "      <td>(0.0, 0.06]</td>\n",
       "      <td>118.0</td>\n",
       "      <td>0.571512</td>\n",
       "    </tr>\n",
       "    <tr>\n",
       "      <td>(0.06, 1.0]</td>\n",
       "      <td>1637.0</td>\n",
       "      <td>7.928513</td>\n",
       "    </tr>\n",
       "    <tr>\n",
       "      <td>(1.0, 18.837]</td>\n",
       "      <td>9215.0</td>\n",
       "      <td>44.631181</td>\n",
       "    </tr>\n",
       "  </tbody>\n",
       "</table>\n",
       "</div>"
      ],
      "text/plain": [
       "                      EnhanGrad  Percentages\n",
       "z_over_L_class_marht                        \n",
       "(-13.476, 0.0]           5023.0    24.327990\n",
       "(0.0, 0.06]               118.0     0.571512\n",
       "(0.06, 1.0]              1637.0     7.928513\n",
       "(1.0, 18.837]            9215.0    44.631181"
      ]
     },
     "execution_count": 41,
     "metadata": {},
     "output_type": "execute_result"
    }
   ],
   "source": [
    "# This is not included, but have it here in case a reviewer ask for it\n",
    "df_marht = df_full_1min[['EnhanGrad','z_over_L_class_marht']].groupby('z_over_L_class_marht').sum()\n",
    "df_marht = df_marht.assign(Percentages = df_marht['EnhanGrad']/EnhanGradTotal*100)\n",
    "df_marht"
   ]
  },
  {
   "cell_type": "markdown",
   "metadata": {},
   "source": [
    "#### The following is the data used in Table 2. "
   ]
  },
  {
   "cell_type": "code",
   "execution_count": 42,
   "metadata": {},
   "outputs": [
    {
     "name": "stdout",
     "output_type": "stream",
     "text": [
      "77.45919504044171\n"
     ]
    },
    {
     "data": {
      "text/html": [
       "<div>\n",
       "<style scoped>\n",
       "    .dataframe tbody tr th:only-of-type {\n",
       "        vertical-align: middle;\n",
       "    }\n",
       "\n",
       "    .dataframe tbody tr th {\n",
       "        vertical-align: top;\n",
       "    }\n",
       "\n",
       "    .dataframe thead th {\n",
       "        text-align: right;\n",
       "    }\n",
       "</style>\n",
       "<table border=\"1\" class=\"dataframe\">\n",
       "  <thead>\n",
       "    <tr style=\"text-align: right;\">\n",
       "      <th></th>\n",
       "      <th>EnhanGrad</th>\n",
       "      <th>Percentages</th>\n",
       "    </tr>\n",
       "    <tr>\n",
       "      <th>one_over_L_class_kruijt</th>\n",
       "      <th></th>\n",
       "      <th></th>\n",
       "    </tr>\n",
       "  </thead>\n",
       "  <tbody>\n",
       "    <tr>\n",
       "      <td>(-0.305, -0.1]</td>\n",
       "      <td>1967.0</td>\n",
       "      <td>9.526808</td>\n",
       "    </tr>\n",
       "    <tr>\n",
       "      <td>(-0.1, -0.01]</td>\n",
       "      <td>2483.0</td>\n",
       "      <td>12.025960</td>\n",
       "    </tr>\n",
       "    <tr>\n",
       "      <td>(-0.01, 0.01]</td>\n",
       "      <td>1374.0</td>\n",
       "      <td>6.654720</td>\n",
       "    </tr>\n",
       "    <tr>\n",
       "      <td>(0.01, 0.1]</td>\n",
       "      <td>5506.0</td>\n",
       "      <td>26.667312</td>\n",
       "    </tr>\n",
       "    <tr>\n",
       "      <td>(0.1, 0.427]</td>\n",
       "      <td>4663.0</td>\n",
       "      <td>22.584395</td>\n",
       "    </tr>\n",
       "  </tbody>\n",
       "</table>\n",
       "</div>"
      ],
      "text/plain": [
       "                         EnhanGrad  Percentages\n",
       "one_over_L_class_kruijt                        \n",
       "(-0.305, -0.1]              1967.0     9.526808\n",
       "(-0.1, -0.01]               2483.0    12.025960\n",
       "(-0.01, 0.01]               1374.0     6.654720\n",
       "(0.01, 0.1]                 5506.0    26.667312\n",
       "(0.1, 0.427]                4663.0    22.584395"
      ]
     },
     "execution_count": 42,
     "metadata": {},
     "output_type": "execute_result"
    }
   ],
   "source": [
    "df_kruijt = df_full_1min[['EnhanGrad','one_over_L_class_kruijt']].groupby('one_over_L_class_kruijt').sum()\n",
    "df_kruijt = df_kruijt.assign(Percentages = df_kruijt['EnhanGrad']/EnhanGradTotal*100)\n",
    "print(df_kruijt['Percentages'].sum())\n",
    "df_kruijt"
   ]
  },
  {
   "cell_type": "markdown",
   "metadata": {},
   "source": [
    "#### Note that the percentages do not add up 100, because not all the distribution was considered."
   ]
  },
  {
   "cell_type": "markdown",
   "metadata": {},
   "source": [
    "### Alternative plots based on the 1 min data\n",
    "- Same plots as in Fig 9. but with 1 min data\n",
    "- Additional analysis based on wind direction and wind speed bins"
   ]
  },
  {
   "cell_type": "code",
   "execution_count": 44,
   "metadata": {},
   "outputs": [
    {
     "data": {
      "image/png": "[encoded data removed]",
      "text/plain": [
       "<Figure size 700x1400 with 5 Axes>"
      ]
     },
     "metadata": {
      "needs_background": "light"
     },
     "output_type": "display_data"
    }
   ],
   "source": [
    "fig  = plt.figure(figsize=(3.5,7),dpi=200)\n",
    "grid = plt.GridSpec(5,1,wspace=0.5,hspace=0.4)\n",
    "\n",
    "ax1  = fig.add_subplot(grid[0, 0])\n",
    "sns.boxplot(x=df_full_1min['hour'],y=df_full_1min['wT']*1004.67*1.2923,hue='EnhanGrad',order=[20,21,22,23,0,1,2,3,4,5,6],\n",
    "            data=df_full_1min,palette=sns.color_palette(palette=\"rainbow\",n_colors=2),showfliers=False,ax=ax1)\n",
    "ax1.set_ylabel('H [W m$^{-2}$]')\n",
    "ax1.set_xlabel(' ')\n",
    "#ax1.set_xlabel('Nighttime Hours [Local Time]')\n",
    "ax1.get_legend().remove()\n",
    "#================================================================================================\n",
    "ax2  = fig.add_subplot(grid[1, 0])\n",
    "sns.boxplot(x='hour',y='Rnet',hue='EnhanGrad',order=[20,21,22,23,0,1,2,3,4,5,6],data=df_full_1min,\n",
    "            palette=sns.color_palette(palette=\"rainbow\",n_colors=2),showfliers=False,ax=ax2,showmeans=False)\n",
    "ax2.set_ylabel('Net Radiation [W m$^2$]')\n",
    "ax2.set_xlabel(' ')\n",
    "ax2.get_legend().remove()\n",
    "#================================================================================================\n",
    "ax3  = fig.add_subplot(grid[2, 0])\n",
    "sns.boxplot(x='hour',y='Ustar',hue='EnhanGrad',order=[20,21,22,23,0,1,2,3,4,5,6],data=df_full_1min,\n",
    "            palette=sns.color_palette(palette=\"rainbow\",n_colors=2),showfliers=False,ax=ax3)\n",
    "ax3.set_ylabel('u$_{*}$ [m s$^{-1}$]')\n",
    "ax3.set_xlabel(' ')\n",
    "ax3.get_legend().remove()\n",
    "#================================================================================================\n",
    "ax4  = fig.add_subplot(grid[3, 0])\n",
    "df_full_1min        = df_full_1min.assign(PotGradAbove = df_full_1min.theta - df_full_1min.theta36)\n",
    "df_full_1min        = df_full_1min.assign(PotGradWithin = df_full_1min.theta26 - df_full_1min.theta1_5)\n",
    "sns.boxplot(x='hour',y='PotGradAbove',hue='EnhanGrad',order=[20,21,22,23,0,1,2,3,4,5,6],data=df_full_1min,\n",
    "            palette=sns.color_palette(palette=\"rainbow\",n_colors=2),showfliers=False,ax=ax4)\n",
    "ax4.set_ylabel('$\\Theta_{81m}$ - $\\Theta_{36m}$ [K]')\n",
    "ax4.set_ylim(-0.5,4)\n",
    "ax4.set_xlabel(' ')\n",
    "ax4.get_legend().remove()\n",
    "#================================================================================================\n",
    "ax5  = fig.add_subplot(grid[4, 0])\n",
    "sns.boxplot(x='hour',y='PotGradWithin',hue='EnhanGrad',order=[20,21,22,23,0,1,2,3,4,5,6],data=df_full_1min,\n",
    "            palette=sns.color_palette(palette=\"rainbow\",n_colors=2),showfliers=False,ax=ax5)\n",
    "ax5.set_ylim(-0.5,4)\n",
    "ax5.set_ylabel('$\\Theta_{26m}$ - $\\Theta_{1.5m}$ [K]')\n",
    "#================================================================================================\n",
    "mpl.rcParams['font.size'] = 5\n",
    "mpl.rcParams['lines.linewidth'] = 0.7\n",
    "mpl.rcParams['figure.frameon'] = False\n",
    "\n",
    "plt.legend(bbox_to_anchor=[1.15,1],title='Enhanced')\n",
    "plt.show()"
   ]
  },
  {
   "cell_type": "code",
   "execution_count": 45,
   "metadata": {},
   "outputs": [
    {
     "data": {
      "image/png": "[encoded data removed]",
      "text/plain": [
       "<Figure size 1200x1000 with 2 Axes>"
      ]
     },
     "metadata": {
      "needs_background": "light"
     },
     "output_type": "display_data"
    }
   ],
   "source": [
    "fig  = plt.figure(figsize=(6,5),dpi=200)\n",
    "grid = plt.GridSpec(2,1,wspace=0.5,hspace=0.3)\n",
    "\n",
    "ax1  = fig.add_subplot(grid[0, 0])\n",
    "#sns.boxplot(x='WindClassMid',y='CH4_grad',hue='EnhanGrad',data=df_full,palette=sns.color_palette(palette=\"rainbow\",n_colors=2),showfliers=False,ax=ax1)\n",
    "#sns.boxplot(x='WindClassMid',y='CH4_grad',hue='cluster',data=df_full,palette=sns.color_palette(palette=\"rainbow\",n_colors=8),showfliers=False,ax=ax1)\n",
    "sns.barplot(x='WindClassMid',y='CH4_grad',hue='cluster',data=df_full_1min,\n",
    "            palette=sns.color_palette(palette=\"rainbow\",n_colors=8),ax=ax1)\n",
    "labels     = ['%.1f'%(i) for i in sorted(list(set(df_full_1min['WindClassMid'].values)))]\n",
    "ax1.set_xticklabels(labels)\n",
    "ax1.set_ylabel('CH4 79m - 4m [ppb]')\n",
    "ax1.legend(loc='lower left',title='Wind Direc',ncol=3)\n",
    "ax1.set_xlabel('U [m s -1]')\n",
    "ax1.set_xlim(-0.5,19.5)\n",
    "ax1.set_ylim(-15,15)\n",
    "\n",
    "ax2  = fig.add_subplot(grid[1, 0])\n",
    "#sns.boxplot(x='WindClassMid',y='CH4_grad',hue='EnhanGrad',data=df_full,palette=sns.color_palette(palette=\"rainbow\",n_colors=2),showfliers=False,ax=ax1)\n",
    "#sns.boxplot(x='WindClassMid',y='CH4_grad',hue='cluster',data=df_full,palette=sns.color_palette(palette=\"rainbow\",n_colors=8),showfliers=False,ax=ax1)\n",
    "#sns.barplot(x='WindClassMid',y='CH4_grad',hue='EnhanGrad',data=df_full,palette=sns.color_palette(palette=\"rainbow\",n_colors=2),ax=ax1)\n",
    "sns.barplot(x='WindClassMid',y='CH4_grad',data=df_full_1min,ax=ax2)\n",
    "labels     = ['%.1f'%(i) for i in sorted(list(set(df_full_1min['WindClassMid'].values)))]\n",
    "#labels[-2] = '12.5'\n",
    "#labels[-1] = '12.5'\n",
    "labels.append('13.5')\n",
    "\n",
    "ax2.set_ylabel('CH4 79m - 4m [ppb]')\n",
    "ax2.set_xticklabels(labels)\n",
    "ax2.set_xlabel('U [m s -1]')\n",
    "ax2.set_xlim(-0.5,19.5)\n",
    "#plt.ylim(-15,60)\n",
    "plt.show()"
   ]
  },
  {
   "cell_type": "markdown",
   "metadata": {},
   "source": [
    "## Wind Speed Analysis\n",
    "- Here I look at the distribution of the wind speed to have an idea of what are the most probable distances\n",
    "- This information is used in Section 3.3.1, 80% of the wind speed for nighttime positive gradients is below 4 m s-1"
   ]
  },
  {
   "cell_type": "code",
   "execution_count": 46,
   "metadata": {},
   "outputs": [
    {
     "data": {
      "image/png": "[encoded data removed]",
      "text/plain": [
       "<Figure size 630x720 with 2 Axes>"
      ]
     },
     "metadata": {
      "needs_background": "light"
     },
     "output_type": "display_data"
    }
   ],
   "source": [
    "# Looking at the distribution of wind speed using the positive gradient flag\n",
    "fig  = plt.figure(figsize=(3.5,4),dpi=180)\n",
    "grid = plt.GridSpec(2,1,wspace=0.5,hspace=0.3)\n",
    "\n",
    "ax1  = fig.add_subplot(grid[0, 0])\n",
    "sns.distplot(df_full_n['Mean_Windsp[m/s]'].loc[df_full_n['GradFlag']==True].dropna(), bins=100,\n",
    "             hist_kws=dict(cumulative=True), kde_kws=dict(cumulative=True),ax=ax1)\n",
    "\n",
    "ax1.vlines(5,0,1)\n",
    "ax1.vlines(4,0,1)\n",
    "ax1.hlines(0.8,-2,15)\n",
    "ax1.set_xlim(0,7)\n",
    "ax1.set_ylim(0,1)\n",
    "\n",
    "ax2  = fig.add_subplot(grid[1, 0])\n",
    "sns.distplot(df_full_n['Mean_Windsp[m/s]'].loc[df_full_n['GradFlag']==True].dropna(),bins=100,ax=ax2,kde=False)\n",
    "ax2.set_ylabel('Counts')\n",
    "plt.show()"
   ]
  },
  {
   "cell_type": "code",
   "execution_count": 47,
   "metadata": {},
   "outputs": [
    {
     "data": {
      "image/png": "[encoded data removed]",
      "text/plain": [
       "<Figure size 630x720 with 2 Axes>"
      ]
     },
     "metadata": {
      "needs_background": "light"
     },
     "output_type": "display_data"
    }
   ],
   "source": [
    "# All nighttime, no use of positive gradient flag\n",
    "fig  = plt.figure(figsize=(3.5,4),dpi=180)\n",
    "grid = plt.GridSpec(2,1,wspace=0.5,hspace=0.3)\n",
    "\n",
    "ax1  = fig.add_subplot(grid[0, 0])\n",
    "sns.distplot(df_full_n['Mean_Windsp[m/s]'].dropna(),bins=100,\n",
    "             hist_kws=dict(cumulative=True),kde_kws=dict(cumulative=True),ax=ax1)\n",
    "\n",
    "ax1.vlines(5,0,1)\n",
    "ax1.vlines(4,0,1)\n",
    "ax1.hlines(0.8,-2,17)\n",
    "ax1.set_xlim(0,15)\n",
    "ax1.set_ylim(0,1)\n",
    "\n",
    "ax2  = fig.add_subplot(grid[1, 0])\n",
    "sns.distplot(df_full_n['Mean_Windsp[m/s]'].dropna(),ax=ax2,bins=100,kde=False)\n",
    "ax2.set_ylabel('Counts')\n",
    "plt.show()"
   ]
  },
  {
   "cell_type": "markdown",
   "metadata": {},
   "source": [
    "### The following supports indirectly the rejection of the Amazon river as a source, because \n",
    "- Almost 71 % of events happen at wind speeds between 1-4 m s-1"
   ]
  },
  {
   "cell_type": "code",
   "execution_count": 48,
   "metadata": {},
   "outputs": [
    {
     "data": {
      "image/png": "[encoded data removed]",
      "text/plain": [
       "<Figure size 630x360 with 1 Axes>"
      ]
     },
     "metadata": {
      "needs_background": "light"
     },
     "output_type": "display_data"
    }
   ],
   "source": [
    "fig  = plt.figure(figsize=(3.5,2),dpi=180)\n",
    "bins             = [np.arange(0,6,1),np.arange(6,18,3)]\n",
    "bins             = np.concatenate(bins).ravel()\n",
    "df_full_n        = df_full_n.assign(WindClass = pd.cut(df_full_n['Mean_Windsp[m/s]'],bins,right=True))\n",
    "wind_c_group     = df_full_n[['WindClass','GradFlag']].dropna().groupby('WindClass').sum()\n",
    "wind_c_group     = wind_c_group.assign(Per_event_Wclass = wind_c_group.GradFlag/wind_c_group.GradFlag.sum() * 100)\n",
    "wind_c_group['Per_event_Wclass'].plot(kind='bar')\n",
    "plt.ylabel('% of + CH$_4$ grad per Wclass')\n",
    "plt.show()"
   ]
  },
  {
   "cell_type": "code",
   "execution_count": 47,
   "metadata": {},
   "outputs": [
    {
     "data": {
      "text/plain": [
       "70.9105"
      ]
     },
     "execution_count": 47,
     "metadata": {},
     "output_type": "execute_result"
    }
   ],
   "source": [
    "20.2217 + 24.8456 + 25.8432"
   ]
  }
 ],
 "metadata": {
  "kernelspec": {
   "display_name": "Python 3",
   "language": "python",
   "name": "python3"
  },
  "language_info": {
   "codemirror_mode": {
    "name": "ipython",
    "version": 3
   },
   "file_extension": ".py",
   "mimetype": "text/x-python",
   "name": "python",
   "nbconvert_exporter": "python",
   "pygments_lexer": "ipython3",
   "version": "3.7.4"
  }
 },
 "nbformat": 4,
 "nbformat_minor": 4
}
