{
 "cells": [
  {
   "cell_type": "markdown",
   "metadata": {},
   "source": [
    "# Understanding nighttime methane signals at the Amazon Tall Tower Observatory (ATTO)\n",
    "\n",
    "### Santiago Botía B et al\n",
    "#### Calculations and analysis."
   ]
  },
  {
   "cell_type": "code",
   "execution_count": 1,
   "metadata": {},
   "outputs": [],
   "source": [
    "import numpy as np\n",
    "import matplotlib.pyplot as plt\n",
    "from matplotlib.pyplot import *\n",
    "import pandas as pd\n",
    "import seaborn as sns\n",
    "import scipy\n",
    "import matplotlib as mpl\n",
    "%matplotlib inline"
   ]
  },
  {
   "cell_type": "code",
   "execution_count": 2,
   "metadata": {},
   "outputs": [
    {
     "data": {
      "text/html": [
       "<div>\n",
       "<style scoped>\n",
       "    .dataframe tbody tr th:only-of-type {\n",
       "        vertical-align: middle;\n",
       "    }\n",
       "\n",
       "    .dataframe tbody tr th {\n",
       "        vertical-align: top;\n",
       "    }\n",
       "\n",
       "    .dataframe thead th {\n",
       "        text-align: right;\n",
       "    }\n",
       "</style>\n",
       "<table border=\"1\" class=\"dataframe\">\n",
       "  <thead>\n",
       "    <tr style=\"text-align: right;\">\n",
       "      <th></th>\n",
       "      <th>CH4_79</th>\n",
       "      <th>CH4_53</th>\n",
       "      <th>CH4_38</th>\n",
       "      <th>CH4_24</th>\n",
       "      <th>CH4_4</th>\n",
       "    </tr>\n",
       "    <tr>\n",
       "      <th>LTRound</th>\n",
       "      <th></th>\n",
       "      <th></th>\n",
       "      <th></th>\n",
       "      <th></th>\n",
       "      <th></th>\n",
       "    </tr>\n",
       "  </thead>\n",
       "  <tbody>\n",
       "    <tr>\n",
       "      <th>2012-03-06 20:30:00</th>\n",
       "      <td>1839.65</td>\n",
       "      <td>1840.56</td>\n",
       "      <td>1841.10</td>\n",
       "      <td>1841.07</td>\n",
       "      <td>1841.22</td>\n",
       "    </tr>\n",
       "    <tr>\n",
       "      <th>2012-03-06 21:00:00</th>\n",
       "      <td>1839.05</td>\n",
       "      <td>1839.98</td>\n",
       "      <td>1840.43</td>\n",
       "      <td>1841.53</td>\n",
       "      <td>1842.18</td>\n",
       "    </tr>\n",
       "    <tr>\n",
       "      <th>2012-03-06 21:30:00</th>\n",
       "      <td>1839.52</td>\n",
       "      <td>1841.29</td>\n",
       "      <td>1840.31</td>\n",
       "      <td>1841.67</td>\n",
       "      <td>1842.13</td>\n",
       "    </tr>\n",
       "    <tr>\n",
       "      <th>2012-03-06 22:00:00</th>\n",
       "      <td>1841.13</td>\n",
       "      <td>1841.85</td>\n",
       "      <td>1840.89</td>\n",
       "      <td>1842.17</td>\n",
       "      <td>1843.04</td>\n",
       "    </tr>\n",
       "    <tr>\n",
       "      <th>2012-03-06 22:30:00</th>\n",
       "      <td>1841.74</td>\n",
       "      <td>1842.83</td>\n",
       "      <td>1841.99</td>\n",
       "      <td>1842.62</td>\n",
       "      <td>1843.40</td>\n",
       "    </tr>\n",
       "  </tbody>\n",
       "</table>\n",
       "</div>"
      ],
      "text/plain": [
       "                      CH4_79   CH4_53   CH4_38   CH4_24    CH4_4\n",
       "LTRound                                                         \n",
       "2012-03-06 20:30:00  1839.65  1840.56  1841.10  1841.07  1841.22\n",
       "2012-03-06 21:00:00  1839.05  1839.98  1840.43  1841.53  1842.18\n",
       "2012-03-06 21:30:00  1839.52  1841.29  1840.31  1841.67  1842.13\n",
       "2012-03-06 22:00:00  1841.13  1841.85  1840.89  1842.17  1843.04\n",
       "2012-03-06 22:30:00  1841.74  1842.83  1841.99  1842.62  1843.40"
      ]
     },
     "execution_count": 2,
     "metadata": {},
     "output_type": "execute_result"
    }
   ],
   "source": [
    "# Remember to always import this dataframe. I dont need the one merged with micromet and soil data\n",
    "d_clean_mod = pd.read_pickle('./to_Share/Data/ATTO_GHG_201203_201811_CO2avg')\n",
    "ch4_30min   = d_clean_mod.iloc[:,10:15]\n",
    "ch4_30min   = ch4_30min.assign(LTRound=ch4_30min.index.round('30min'))\n",
    "ch4_30min.set_index('LTRound',inplace=True)\n",
    "ch4_30min.head()"
   ]
  },
  {
   "cell_type": "markdown",
   "metadata": {},
   "source": [
    "## Section 3.1 Seasonal and diurnal patterns of CH4 gradients at ATTO\n",
    "### Percentages related to Figure 4.\n",
    "- Setting up data to get time percentages according to the threshold.\n",
    "- Here I create the day and night dataframes used in Figures_Sect2.1-3.1.ipynb"
   ]
  },
  {
   "cell_type": "code",
   "execution_count": 3,
   "metadata": {},
   "outputs": [
    {
     "name": "stdout",
     "output_type": "stream",
     "text": [
      "(118079, 6) with nan\n",
      "(79944, 6) after dropping nan\n"
     ]
    }
   ],
   "source": [
    "# gradient\n",
    "thresh    = 8\n",
    "ch4_30min = ch4_30min.assign(grad = ch4_30min.CH4_79 - ch4_30min.CH4_4)\n",
    "# dropping nan\n",
    "print(ch4_30min.shape, 'with nan')\n",
    "ch4_30min.dropna(inplace=True)\n",
    "print(ch4_30min.shape, 'after dropping nan')\n",
    "# setting threshold\n",
    "ch4_30min = ch4_30min.assign(GradFlag = ch4_30min['grad']>thresh)\n",
    "# Selecting hours from index and creating a column\n",
    "ch4_30min = ch4_30min.assign(Hour = ch4_30min.index.hour)\n",
    "#night columns from hours XXX This might not be necessary\n",
    "idx       = (ch4_30min['Hour']<=5) | (ch4_30min['Hour']>=19)\n",
    "ch4_30min = ch4_30min.assign(night_F = idx)\n",
    "# highlighting the non threshold measurements\n",
    "ch4_30min = ch4_30min.assign(range_8 = ch4_30min['grad'].between(-thresh,thresh,inclusive=True))\n",
    "ch4_30min = ch4_30min.assign(low_than8 = ch4_30min['grad'] < -thresh)\n",
    "#print('total data points',ch4_30min.shape)"
   ]
  },
  {
   "cell_type": "code",
   "execution_count": 4,
   "metadata": {},
   "outputs": [
    {
     "name": "stdout",
     "output_type": "stream",
     "text": [
      "separating in range between -8 and 8, above 8 and below -8, we get:\n",
      "63442 9461 7041 79944\n",
      "last number is to confirm the total number of data points, should always be the same\n"
     ]
    }
   ],
   "source": [
    "print('separating in range between -%d and %d, above %d and below -%d, we get:'%(thresh,thresh,thresh,thresh))\n",
    "print(ch4_30min['range_8'].sum(),ch4_30min['GradFlag'].sum(),ch4_30min['low_than8'].sum(),ch4_30min['range_8'].sum()+ch4_30min['GradFlag'].sum()+ch4_30min['low_than8'].sum())\n",
    "print('last number is to confirm the total number of data points, should always be the same')"
   ]
  },
  {
   "cell_type": "code",
   "execution_count": 5,
   "metadata": {},
   "outputs": [
    {
     "name": "stdout",
     "output_type": "stream",
     "text": [
      "Adding below and above -8 and 8 we get the following. Remember I havent separated between day and night\n"
     ]
    },
    {
     "data": {
      "text/plain": [
       "16502"
      ]
     },
     "execution_count": 5,
     "metadata": {},
     "output_type": "execute_result"
    }
   ],
   "source": [
    "print('Adding below and above -8 and 8 we get the following. Remember I havent separated between day and night')\n",
    "ch4_30min['GradFlag'].sum()+ch4_30min['low_than8'].sum()"
   ]
  },
  {
   "cell_type": "code",
   "execution_count": 6,
   "metadata": {},
   "outputs": [],
   "source": [
    "# Separating nights and day\n",
    "nights = ch4_30min.between_time('20:00','06:00')\n",
    "days   = ch4_30min.between_time('06:00','18:00')"
   ]
  },
  {
   "cell_type": "code",
   "execution_count": 8,
   "metadata": {},
   "outputs": [],
   "source": [
    "# Separating nights and day I finally corrected the manuscript using this partitioning\n",
    "nights = ch4_30min.between_time('20:00','06:00')\n",
    "days   = ch4_30min.between_time('07:00','18:00')"
   ]
  },
  {
   "cell_type": "code",
   "execution_count": 9,
   "metadata": {},
   "outputs": [],
   "source": [
    "# Grouping each range per month and calculating the total nights measurements to get percentages\n",
    "nights_upper = nights['GradFlag'].groupby([nights.index.year,nights.index.month]).sum()\n",
    "nights_mid   = nights['range_8'].groupby([nights.index.year,nights.index.month]).sum()\n",
    "nights_lower = nights['low_than8'].groupby([nights.index.year,nights.index.month]).sum()\n",
    "\n",
    "nights_upper.index.rename(['Year','Month'],inplace=True)\n",
    "nights_mid.index.rename(['Year','Month'],inplace=True)\n",
    "nights_lower.index.rename(['Year','Month'],inplace=True)\n",
    "\n",
    "total_nights = nights['GradFlag'].loc[nights['GradFlag']==True].groupby(nights[nights['GradFlag']==True].index.month).count() + nights['GradFlag'].loc[nights['GradFlag']==False].groupby(nights[nights['GradFlag']==False].index.month).count()\n",
    "\n",
    "n_upp_month  = nights_upper.groupby(level=1).sum()/total_nights\n",
    "n_mid_month  = nights_mid.groupby(level=1).sum()/total_nights\n",
    "n_low_month  = nights_lower.groupby(level=1).sum()/total_nights\n",
    "total_n      = n_low_month + n_mid_month + n_upp_month"
   ]
  },
  {
   "cell_type": "code",
   "execution_count": 10,
   "metadata": {},
   "outputs": [],
   "source": [
    "# Grouping each range per month and calculating the total day measuremenst to get percentages\n",
    "days_upper = days['GradFlag'].groupby([days.index.year,days.index.month]).sum()\n",
    "days_mid   = days['range_8'].groupby([days.index.year,days.index.month]).sum()\n",
    "days_lower = days['low_than8'].groupby([days.index.year,days.index.month]).sum()\n",
    "\n",
    "days_upper.index.rename(['Year','Month'],inplace=True)\n",
    "days_mid.index.rename(['Year','Month'],inplace=True)\n",
    "days_lower.index.rename(['Year','Month'],inplace=True)\n",
    "\n",
    "total_days = days['GradFlag'].loc[days['GradFlag']==True].groupby(days[days['GradFlag']==True].index.month).count() + days['GradFlag'].loc[days['GradFlag']==False].groupby(days[days['GradFlag']==False].index.month).count()\n",
    "\n",
    "d_upp_month  = days_upper.groupby(level=1).sum()/total_days\n",
    "d_mid_month  = days_mid.groupby(level=1).sum()/total_days\n",
    "d_low_month  = days_lower.groupby(level=1).sum()/total_days\n",
    "total_d      = d_low_month + d_mid_month + d_upp_month"
   ]
  },
  {
   "cell_type": "code",
   "execution_count": 11,
   "metadata": {},
   "outputs": [],
   "source": [
    "# Merging ranges for night and day and creating a day and night dataframes that can be used to hue in seaborn.\n",
    "df_n = pd.concat([n_low_month,n_mid_month,n_upp_month,total_n],axis=1)\n",
    "df_n.reset_index(inplace=True)\n",
    "df_n.columns = ['month','lower_than8','MidRange','UpperRange','total']\n",
    "\n",
    "df_d = pd.concat([d_low_month,d_mid_month,d_upp_month,total_d],axis=1)\n",
    "df_d.reset_index(inplace=True)\n",
    "df_d.columns = ['month','lower_than8','MidRange','UpperRange','total']\n",
    "\n",
    "df_day_night = pd.concat([df_d,df_n],axis=0)\n",
    "df_day_night = df_day_night.assign(Time = ['day','day','day', 'day', 'day','day','day', 'day','day','day','day','day','night','night',\n",
    "                                           'night', 'night', 'night', 'night', 'night', 'night', 'night', 'night', 'night', 'night'])"
   ]
  },
  {
   "cell_type": "code",
   "execution_count": 93,
   "metadata": {},
   "outputs": [
    {
     "name": "stdout",
     "output_type": "stream",
     "text": [
      "Contribution to total time during daytime and nighttime of the classes defined above,\n",
      " daytime as 07:00 to 18:00\n",
      "    month  lower_than8   MidRange  UpperRange  total\n",
      "0     100     0.262985  99.013807    0.723208  100.0\n",
      "1     200     0.904977  97.319875    1.775148  100.0\n",
      "2     300     2.101835  96.714032    1.184133  100.0\n",
      "3     400     3.972222  93.194444    2.833333  100.0\n",
      "4     500     8.710801  87.617261    3.671938  100.0\n",
      "5     600    18.679549  75.093935    6.226516  100.0\n",
      "6     700    22.333637  67.578244   10.088119  100.0\n",
      "7     800    17.603093  70.051546   12.345361  100.0\n",
      "8     900     7.798742  83.773585    8.427673  100.0\n",
      "9    1000     4.561541  89.461266    5.977192  100.0\n",
      "10   1100     2.914447  92.478847    4.606706  100.0\n",
      "11   1200     0.681508  96.910495    2.407996  100.0\n",
      "    month  lower_than8   MidRange  UpperRange  total\n",
      "0     100     1.582278  94.303797    4.113924  100.0\n",
      "1     200     2.073306  93.002592    4.924102  100.0\n",
      "2     300     3.674374  90.370605    5.955021  100.0\n",
      "3     400     9.370509  82.265019    8.364473  100.0\n",
      "4     500    11.823362  68.575499   19.601140  100.0\n",
      "5     600    18.412066  55.065452   26.522482  100.0\n",
      "6     700    15.701951  54.013431   30.284618  100.0\n",
      "7     800    11.391353  45.232816   43.375831  100.0\n",
      "8     900    16.535797  53.256351   30.207852  100.0\n",
      "9    1000    12.648557  68.039049   19.312394  100.0\n",
      "10   1100     6.295150  74.303406   19.401445  100.0\n",
      "11   1200     2.398801  85.607196   11.994003  100.0\n"
     ]
    }
   ],
   "source": [
    "print(\"Contribution to total time during daytime and nighttime of the classes defined above,\\n daytime as 07:00 to 18:00\")\n",
    "print(df_d*100)\n",
    "print(df_n*100)"
   ]
  },
  {
   "cell_type": "code",
   "execution_count": 87,
   "metadata": {},
   "outputs": [],
   "source": [
    "# changing columns names for export\n",
    "df_n.columns = ['Months','lower_than_minus8','Between_minus8_plus8','greater_than8','total']\n",
    "df_d.columns = ['Months','lower_than_minus8','Between_minus8_plus8','greater_than8','total']\n",
    "#df_d.to_pickle('./to_Share/Data/ATTO_Month_dayTime_timefrac')\n",
    "#df_n.to_pickle('./to_Share/Data/ATTO_Month_nightTime_timefrac')"
   ]
  },
  {
   "cell_type": "code",
   "execution_count": 13,
   "metadata": {},
   "outputs": [
    {
     "name": "stdout",
     "output_type": "stream",
     "text": [
      "Mean monthly gradient during nighttime when 8pbb threshold holds\n"
     ]
    },
    {
     "data": {
      "text/plain": [
       "LTRound\n",
       "1     15.263162\n",
       "2     16.532406\n",
       "3     20.289043\n",
       "4     19.778522\n",
       "5     21.393953\n",
       "6     19.843176\n",
       "7     23.541711\n",
       "8     27.446447\n",
       "9     32.273899\n",
       "10    25.176571\n",
       "11    17.333174\n",
       "12    14.276000\n",
       "Name: grad, dtype: float64"
      ]
     },
     "execution_count": 13,
     "metadata": {},
     "output_type": "execute_result"
    }
   ],
   "source": [
    "print('Mean monthly gradient during nighttime when 8pbb threshold holds')\n",
    "nights[nights['GradFlag'] == True].groupby(nights[nights['GradFlag'] == True].index.month).mean()['grad']"
   ]
  },
  {
   "cell_type": "markdown",
   "metadata": {},
   "source": [
    "#### The following shows the mean minima for nighttime and daytime gradients, -236.2 and -455 for October. I refer to this value in section 3.1."
   ]
  },
  {
   "cell_type": "code",
   "execution_count": 15,
   "metadata": {},
   "outputs": [
    {
     "data": {
      "text/html": [
       "<div>\n",
       "<style scoped>\n",
       "    .dataframe tbody tr th:only-of-type {\n",
       "        vertical-align: middle;\n",
       "    }\n",
       "\n",
       "    .dataframe tbody tr th {\n",
       "        vertical-align: top;\n",
       "    }\n",
       "\n",
       "    .dataframe thead th {\n",
       "        text-align: right;\n",
       "    }\n",
       "</style>\n",
       "<table border=\"1\" class=\"dataframe\">\n",
       "  <thead>\n",
       "    <tr style=\"text-align: right;\">\n",
       "      <th></th>\n",
       "      <th>count</th>\n",
       "      <th>mean</th>\n",
       "      <th>std</th>\n",
       "      <th>min</th>\n",
       "      <th>25%</th>\n",
       "      <th>50%</th>\n",
       "      <th>75%</th>\n",
       "      <th>max</th>\n",
       "    </tr>\n",
       "    <tr>\n",
       "      <th>LTRound</th>\n",
       "      <th></th>\n",
       "      <th></th>\n",
       "      <th></th>\n",
       "      <th></th>\n",
       "      <th></th>\n",
       "      <th></th>\n",
       "      <th></th>\n",
       "      <th></th>\n",
       "    </tr>\n",
       "  </thead>\n",
       "  <tbody>\n",
       "    <tr>\n",
       "      <th>1</th>\n",
       "      <td>2844.0</td>\n",
       "      <td>-0.086410</td>\n",
       "      <td>4.779475</td>\n",
       "      <td>-28.73</td>\n",
       "      <td>-2.2100</td>\n",
       "      <td>-0.690</td>\n",
       "      <td>0.9200</td>\n",
       "      <td>42.88</td>\n",
       "    </tr>\n",
       "    <tr>\n",
       "      <th>2</th>\n",
       "      <td>2701.0</td>\n",
       "      <td>-0.462621</td>\n",
       "      <td>5.132557</td>\n",
       "      <td>-19.77</td>\n",
       "      <td>-2.5600</td>\n",
       "      <td>-1.080</td>\n",
       "      <td>0.4800</td>\n",
       "      <td>45.93</td>\n",
       "    </tr>\n",
       "    <tr>\n",
       "      <th>3</th>\n",
       "      <td>3157.0</td>\n",
       "      <td>-0.923082</td>\n",
       "      <td>6.739486</td>\n",
       "      <td>-35.09</td>\n",
       "      <td>-3.7800</td>\n",
       "      <td>-1.910</td>\n",
       "      <td>-0.1500</td>\n",
       "      <td>63.16</td>\n",
       "    </tr>\n",
       "    <tr>\n",
       "      <th>4</th>\n",
       "      <td>3479.0</td>\n",
       "      <td>-0.930696</td>\n",
       "      <td>8.479537</td>\n",
       "      <td>-25.56</td>\n",
       "      <td>-4.6100</td>\n",
       "      <td>-2.180</td>\n",
       "      <td>0.4400</td>\n",
       "      <td>91.84</td>\n",
       "    </tr>\n",
       "    <tr>\n",
       "      <th>5</th>\n",
       "      <td>3510.0</td>\n",
       "      <td>1.606607</td>\n",
       "      <td>12.459258</td>\n",
       "      <td>-68.77</td>\n",
       "      <td>-4.7600</td>\n",
       "      <td>-1.260</td>\n",
       "      <td>5.1350</td>\n",
       "      <td>64.83</td>\n",
       "    </tr>\n",
       "    <tr>\n",
       "      <th>6</th>\n",
       "      <td>3514.0</td>\n",
       "      <td>1.231411</td>\n",
       "      <td>16.344859</td>\n",
       "      <td>-101.84</td>\n",
       "      <td>-5.3975</td>\n",
       "      <td>0.195</td>\n",
       "      <td>8.6425</td>\n",
       "      <td>81.25</td>\n",
       "    </tr>\n",
       "    <tr>\n",
       "      <th>7</th>\n",
       "      <td>3127.0</td>\n",
       "      <td>2.655491</td>\n",
       "      <td>23.123220</td>\n",
       "      <td>-227.46</td>\n",
       "      <td>-3.7350</td>\n",
       "      <td>1.760</td>\n",
       "      <td>10.7900</td>\n",
       "      <td>110.97</td>\n",
       "    </tr>\n",
       "    <tr>\n",
       "      <th>8</th>\n",
       "      <td>3608.0</td>\n",
       "      <td>9.709011</td>\n",
       "      <td>21.151607</td>\n",
       "      <td>-76.86</td>\n",
       "      <td>-1.6700</td>\n",
       "      <td>5.105</td>\n",
       "      <td>19.3750</td>\n",
       "      <td>166.86</td>\n",
       "    </tr>\n",
       "    <tr>\n",
       "      <th>9</th>\n",
       "      <td>2165.0</td>\n",
       "      <td>6.220536</td>\n",
       "      <td>23.661947</td>\n",
       "      <td>-95.85</td>\n",
       "      <td>-4.9300</td>\n",
       "      <td>0.520</td>\n",
       "      <td>11.6700</td>\n",
       "      <td>162.48</td>\n",
       "    </tr>\n",
       "    <tr>\n",
       "      <th>10</th>\n",
       "      <td>2356.0</td>\n",
       "      <td>1.414104</td>\n",
       "      <td>19.317136</td>\n",
       "      <td>-236.20</td>\n",
       "      <td>-3.8750</td>\n",
       "      <td>-0.450</td>\n",
       "      <td>4.9025</td>\n",
       "      <td>194.62</td>\n",
       "    </tr>\n",
       "    <tr>\n",
       "      <th>11</th>\n",
       "      <td>2907.0</td>\n",
       "      <td>2.431524</td>\n",
       "      <td>9.557470</td>\n",
       "      <td>-38.28</td>\n",
       "      <td>-2.2150</td>\n",
       "      <td>0.300</td>\n",
       "      <td>5.6700</td>\n",
       "      <td>61.74</td>\n",
       "    </tr>\n",
       "    <tr>\n",
       "      <th>12</th>\n",
       "      <td>2001.0</td>\n",
       "      <td>1.643188</td>\n",
       "      <td>6.127623</td>\n",
       "      <td>-26.65</td>\n",
       "      <td>-1.2600</td>\n",
       "      <td>0.400</td>\n",
       "      <td>3.0800</td>\n",
       "      <td>39.23</td>\n",
       "    </tr>\n",
       "  </tbody>\n",
       "</table>\n",
       "</div>"
      ],
      "text/plain": [
       "          count      mean        std     min     25%    50%      75%     max\n",
       "LTRound                                                                     \n",
       "1        2844.0 -0.086410   4.779475  -28.73 -2.2100 -0.690   0.9200   42.88\n",
       "2        2701.0 -0.462621   5.132557  -19.77 -2.5600 -1.080   0.4800   45.93\n",
       "3        3157.0 -0.923082   6.739486  -35.09 -3.7800 -1.910  -0.1500   63.16\n",
       "4        3479.0 -0.930696   8.479537  -25.56 -4.6100 -2.180   0.4400   91.84\n",
       "5        3510.0  1.606607  12.459258  -68.77 -4.7600 -1.260   5.1350   64.83\n",
       "6        3514.0  1.231411  16.344859 -101.84 -5.3975  0.195   8.6425   81.25\n",
       "7        3127.0  2.655491  23.123220 -227.46 -3.7350  1.760  10.7900  110.97\n",
       "8        3608.0  9.709011  21.151607  -76.86 -1.6700  5.105  19.3750  166.86\n",
       "9        2165.0  6.220536  23.661947  -95.85 -4.9300  0.520  11.6700  162.48\n",
       "10       2356.0  1.414104  19.317136 -236.20 -3.8750 -0.450   4.9025  194.62\n",
       "11       2907.0  2.431524   9.557470  -38.28 -2.2150  0.300   5.6700   61.74\n",
       "12       2001.0  1.643188   6.127623  -26.65 -1.2600  0.400   3.0800   39.23"
      ]
     },
     "execution_count": 15,
     "metadata": {},
     "output_type": "execute_result"
    }
   ],
   "source": [
    "# Nights stats without applying threshold\n",
    "nights['grad'].groupby(nights['grad'].index.month).describe()"
   ]
  },
  {
   "cell_type": "code",
   "execution_count": 16,
   "metadata": {},
   "outputs": [
    {
     "data": {
      "text/html": [
       "<div>\n",
       "<style scoped>\n",
       "    .dataframe tbody tr th:only-of-type {\n",
       "        vertical-align: middle;\n",
       "    }\n",
       "\n",
       "    .dataframe tbody tr th {\n",
       "        vertical-align: top;\n",
       "    }\n",
       "\n",
       "    .dataframe thead th {\n",
       "        text-align: right;\n",
       "    }\n",
       "</style>\n",
       "<table border=\"1\" class=\"dataframe\">\n",
       "  <thead>\n",
       "    <tr style=\"text-align: right;\">\n",
       "      <th></th>\n",
       "      <th>count</th>\n",
       "      <th>mean</th>\n",
       "      <th>std</th>\n",
       "      <th>min</th>\n",
       "      <th>25%</th>\n",
       "      <th>50%</th>\n",
       "      <th>75%</th>\n",
       "      <th>max</th>\n",
       "    </tr>\n",
       "    <tr>\n",
       "      <th>LTRound</th>\n",
       "      <th></th>\n",
       "      <th></th>\n",
       "      <th></th>\n",
       "      <th></th>\n",
       "      <th></th>\n",
       "      <th></th>\n",
       "      <th></th>\n",
       "      <th></th>\n",
       "    </tr>\n",
       "  </thead>\n",
       "  <tbody>\n",
       "    <tr>\n",
       "      <th>1</th>\n",
       "      <td>3042.0</td>\n",
       "      <td>-0.282064</td>\n",
       "      <td>2.351219</td>\n",
       "      <td>-9.83</td>\n",
       "      <td>-1.4800</td>\n",
       "      <td>-0.490</td>\n",
       "      <td>0.6500</td>\n",
       "      <td>17.85</td>\n",
       "    </tr>\n",
       "    <tr>\n",
       "      <th>2</th>\n",
       "      <td>2873.0</td>\n",
       "      <td>-0.551779</td>\n",
       "      <td>4.709774</td>\n",
       "      <td>-34.51</td>\n",
       "      <td>-2.0700</td>\n",
       "      <td>-0.880</td>\n",
       "      <td>0.2200</td>\n",
       "      <td>73.97</td>\n",
       "    </tr>\n",
       "    <tr>\n",
       "      <th>3</th>\n",
       "      <td>3378.0</td>\n",
       "      <td>-1.544381</td>\n",
       "      <td>3.420623</td>\n",
       "      <td>-35.02</td>\n",
       "      <td>-2.6700</td>\n",
       "      <td>-1.460</td>\n",
       "      <td>-0.4300</td>\n",
       "      <td>37.36</td>\n",
       "    </tr>\n",
       "    <tr>\n",
       "      <th>4</th>\n",
       "      <td>3600.0</td>\n",
       "      <td>-1.553092</td>\n",
       "      <td>7.108711</td>\n",
       "      <td>-168.76</td>\n",
       "      <td>-3.0900</td>\n",
       "      <td>-1.630</td>\n",
       "      <td>-0.4800</td>\n",
       "      <td>99.26</td>\n",
       "    </tr>\n",
       "    <tr>\n",
       "      <th>5</th>\n",
       "      <td>3731.0</td>\n",
       "      <td>-2.775374</td>\n",
       "      <td>14.110939</td>\n",
       "      <td>-455.32</td>\n",
       "      <td>-3.8900</td>\n",
       "      <td>-1.910</td>\n",
       "      <td>-0.1600</td>\n",
       "      <td>54.41</td>\n",
       "    </tr>\n",
       "    <tr>\n",
       "      <th>6</th>\n",
       "      <td>3726.0</td>\n",
       "      <td>-6.374423</td>\n",
       "      <td>20.052510</td>\n",
       "      <td>-162.98</td>\n",
       "      <td>-5.5500</td>\n",
       "      <td>-1.810</td>\n",
       "      <td>1.0675</td>\n",
       "      <td>57.73</td>\n",
       "    </tr>\n",
       "    <tr>\n",
       "      <th>7</th>\n",
       "      <td>3291.0</td>\n",
       "      <td>-6.165579</td>\n",
       "      <td>21.636922</td>\n",
       "      <td>-153.35</td>\n",
       "      <td>-6.2150</td>\n",
       "      <td>-0.800</td>\n",
       "      <td>2.6600</td>\n",
       "      <td>72.41</td>\n",
       "    </tr>\n",
       "    <tr>\n",
       "      <th>8</th>\n",
       "      <td>3880.0</td>\n",
       "      <td>-1.764778</td>\n",
       "      <td>16.168531</td>\n",
       "      <td>-197.36</td>\n",
       "      <td>-4.1825</td>\n",
       "      <td>0.125</td>\n",
       "      <td>3.2800</td>\n",
       "      <td>165.24</td>\n",
       "    </tr>\n",
       "    <tr>\n",
       "      <th>9</th>\n",
       "      <td>2385.0</td>\n",
       "      <td>-1.263157</td>\n",
       "      <td>23.386060</td>\n",
       "      <td>-312.07</td>\n",
       "      <td>-2.2100</td>\n",
       "      <td>-0.100</td>\n",
       "      <td>1.7900</td>\n",
       "      <td>157.93</td>\n",
       "    </tr>\n",
       "    <tr>\n",
       "      <th>10</th>\n",
       "      <td>2543.0</td>\n",
       "      <td>-0.241243</td>\n",
       "      <td>6.571111</td>\n",
       "      <td>-55.69</td>\n",
       "      <td>-2.3900</td>\n",
       "      <td>-0.640</td>\n",
       "      <td>0.8500</td>\n",
       "      <td>61.98</td>\n",
       "    </tr>\n",
       "    <tr>\n",
       "      <th>11</th>\n",
       "      <td>3191.0</td>\n",
       "      <td>-0.032585</td>\n",
       "      <td>5.704392</td>\n",
       "      <td>-43.06</td>\n",
       "      <td>-1.7250</td>\n",
       "      <td>-0.210</td>\n",
       "      <td>1.0300</td>\n",
       "      <td>80.57</td>\n",
       "    </tr>\n",
       "    <tr>\n",
       "      <th>12</th>\n",
       "      <td>2201.0</td>\n",
       "      <td>0.655738</td>\n",
       "      <td>5.112085</td>\n",
       "      <td>-150.26</td>\n",
       "      <td>-0.5700</td>\n",
       "      <td>0.280</td>\n",
       "      <td>1.4600</td>\n",
       "      <td>35.12</td>\n",
       "    </tr>\n",
       "  </tbody>\n",
       "</table>\n",
       "</div>"
      ],
      "text/plain": [
       "          count      mean        std     min     25%    50%     75%     max\n",
       "LTRound                                                                    \n",
       "1        3042.0 -0.282064   2.351219   -9.83 -1.4800 -0.490  0.6500   17.85\n",
       "2        2873.0 -0.551779   4.709774  -34.51 -2.0700 -0.880  0.2200   73.97\n",
       "3        3378.0 -1.544381   3.420623  -35.02 -2.6700 -1.460 -0.4300   37.36\n",
       "4        3600.0 -1.553092   7.108711 -168.76 -3.0900 -1.630 -0.4800   99.26\n",
       "5        3731.0 -2.775374  14.110939 -455.32 -3.8900 -1.910 -0.1600   54.41\n",
       "6        3726.0 -6.374423  20.052510 -162.98 -5.5500 -1.810  1.0675   57.73\n",
       "7        3291.0 -6.165579  21.636922 -153.35 -6.2150 -0.800  2.6600   72.41\n",
       "8        3880.0 -1.764778  16.168531 -197.36 -4.1825  0.125  3.2800  165.24\n",
       "9        2385.0 -1.263157  23.386060 -312.07 -2.2100 -0.100  1.7900  157.93\n",
       "10       2543.0 -0.241243   6.571111  -55.69 -2.3900 -0.640  0.8500   61.98\n",
       "11       3191.0 -0.032585   5.704392  -43.06 -1.7250 -0.210  1.0300   80.57\n",
       "12       2201.0  0.655738   5.112085 -150.26 -0.5700  0.280  1.4600   35.12"
      ]
     },
     "execution_count": 16,
     "metadata": {},
     "output_type": "execute_result"
    }
   ],
   "source": [
    "# Day stats without applying threshold\n",
    "days['grad'].groupby(days['grad'].index.month).describe()"
   ]
  },
  {
   "cell_type": "markdown",
   "metadata": {},
   "source": [
    "#### Next I get the exact datetime at which these minima happened, for both day and nighttime only."
   ]
  },
  {
   "cell_type": "code",
   "execution_count": 17,
   "metadata": {},
   "outputs": [
    {
     "data": {
      "text/plain": [
       "LTRound\n",
       "2014-05-29 16:00:00   -455.32\n",
       "Name: grad, dtype: float64"
      ]
     },
     "execution_count": 17,
     "metadata": {},
     "output_type": "execute_result"
    }
   ],
   "source": [
    "days['grad'].loc[days['grad']<-450]"
   ]
  },
  {
   "cell_type": "code",
   "execution_count": 18,
   "metadata": {},
   "outputs": [
    {
     "data": {
      "text/plain": [
       "LTRound\n",
       "2015-10-21 04:30:00   -236.2\n",
       "Name: grad, dtype: float64"
      ]
     },
     "execution_count": 18,
     "metadata": {},
     "output_type": "execute_result"
    }
   ],
   "source": [
    "nights['grad'].loc[nights['grad']<-235]"
   ]
  },
  {
   "cell_type": "markdown",
   "metadata": {},
   "source": [
    "#### Next I show the complete stats for the entire gradient distribution, with no separation of daytime and no classification of threshold."
   ]
  },
  {
   "cell_type": "code",
   "execution_count": 19,
   "metadata": {},
   "outputs": [
    {
     "data": {
      "text/plain": [
       "count    79944.000000\n",
       "mean        -0.074867\n",
       "std         14.277683\n",
       "min       -455.320000\n",
       "25%         -3.050000\n",
       "50%         -0.750000\n",
       "75%          1.910000\n",
       "max        194.620000\n",
       "Name: grad, dtype: float64"
      ]
     },
     "execution_count": 19,
     "metadata": {},
     "output_type": "execute_result"
    }
   ],
   "source": [
    "# ALL TIMES GRAD STATS\n",
    "ch4_30min['grad'].describe()"
   ]
  },
  {
   "cell_type": "markdown",
   "metadata": {},
   "source": [
    "#### Here, I select for classes"
   ]
  },
  {
   "cell_type": "code",
   "execution_count": 20,
   "metadata": {},
   "outputs": [
    {
     "data": {
      "text/plain": [
       "count    7041.000000\n",
       "mean      -23.929780\n",
       "std        25.276147\n",
       "min      -455.320000\n",
       "25%       -26.350000\n",
       "50%       -15.290000\n",
       "75%       -10.470000\n",
       "max        -8.010000\n",
       "Name: grad, dtype: float64"
      ]
     },
     "execution_count": 20,
     "metadata": {},
     "output_type": "execute_result"
    }
   ],
   "source": [
    "# Stats selecting the lower than -8 ppb class.\n",
    "ch4_30min['grad'].loc[ch4_30min['low_than8']==True].describe()"
   ]
  },
  {
   "cell_type": "code",
   "execution_count": 21,
   "metadata": {},
   "outputs": [
    {
     "data": {
      "text/plain": [
       "count    9461.000000\n",
       "mean       22.138364\n",
       "std        16.265006\n",
       "min         8.010000\n",
       "25%        11.410000\n",
       "50%        16.740000\n",
       "75%        27.270000\n",
       "max       194.620000\n",
       "Name: grad, dtype: float64"
      ]
     },
     "execution_count": 21,
     "metadata": {},
     "output_type": "execute_result"
    }
   ],
   "source": [
    "# Stats selecting the above than 8 ppb class.\n",
    "ch4_30min['grad'].loc[ch4_30min['GradFlag']==True].describe()"
   ]
  },
  {
   "cell_type": "markdown",
   "metadata": {},
   "source": [
    "#### Looking at the hour in both day and night, for which the maximum happened"
   ]
  },
  {
   "cell_type": "code",
   "execution_count": 22,
   "metadata": {},
   "outputs": [
    {
     "data": {
      "text/html": [
       "<div>\n",
       "<style scoped>\n",
       "    .dataframe tbody tr th:only-of-type {\n",
       "        vertical-align: middle;\n",
       "    }\n",
       "\n",
       "    .dataframe tbody tr th {\n",
       "        vertical-align: top;\n",
       "    }\n",
       "\n",
       "    .dataframe thead th {\n",
       "        text-align: right;\n",
       "    }\n",
       "</style>\n",
       "<table border=\"1\" class=\"dataframe\">\n",
       "  <thead>\n",
       "    <tr style=\"text-align: right;\">\n",
       "      <th></th>\n",
       "      <th>CH4_79</th>\n",
       "      <th>CH4_53</th>\n",
       "      <th>CH4_38</th>\n",
       "      <th>CH4_24</th>\n",
       "      <th>CH4_4</th>\n",
       "      <th>grad</th>\n",
       "      <th>GradFlag</th>\n",
       "      <th>night_F</th>\n",
       "      <th>range_8</th>\n",
       "      <th>low_than8</th>\n",
       "    </tr>\n",
       "    <tr>\n",
       "      <th>Hour</th>\n",
       "      <th></th>\n",
       "      <th></th>\n",
       "      <th></th>\n",
       "      <th></th>\n",
       "      <th></th>\n",
       "      <th></th>\n",
       "      <th></th>\n",
       "      <th></th>\n",
       "      <th></th>\n",
       "      <th></th>\n",
       "    </tr>\n",
       "  </thead>\n",
       "  <tbody>\n",
       "    <tr>\n",
       "      <th>0</th>\n",
       "      <td>2047.00</td>\n",
       "      <td>2028.99</td>\n",
       "      <td>2021.42</td>\n",
       "      <td>2020.37</td>\n",
       "      <td>2000.97</td>\n",
       "      <td>84.87</td>\n",
       "      <td>True</td>\n",
       "      <td>True</td>\n",
       "      <td>False</td>\n",
       "      <td>False</td>\n",
       "    </tr>\n",
       "    <tr>\n",
       "      <th>1</th>\n",
       "      <td>2031.26</td>\n",
       "      <td>2022.32</td>\n",
       "      <td>2012.83</td>\n",
       "      <td>2010.63</td>\n",
       "      <td>2002.82</td>\n",
       "      <td>75.53</td>\n",
       "      <td>True</td>\n",
       "      <td>True</td>\n",
       "      <td>False</td>\n",
       "      <td>False</td>\n",
       "    </tr>\n",
       "    <tr>\n",
       "      <th>2</th>\n",
       "      <td>2038.76</td>\n",
       "      <td>2041.80</td>\n",
       "      <td>2027.88</td>\n",
       "      <td>2026.97</td>\n",
       "      <td>2027.84</td>\n",
       "      <td>109.02</td>\n",
       "      <td>True</td>\n",
       "      <td>True</td>\n",
       "      <td>False</td>\n",
       "      <td>False</td>\n",
       "    </tr>\n",
       "    <tr>\n",
       "      <th>3</th>\n",
       "      <td>2044.22</td>\n",
       "      <td>2053.34</td>\n",
       "      <td>2063.07</td>\n",
       "      <td>2056.95</td>\n",
       "      <td>1999.94</td>\n",
       "      <td>194.62</td>\n",
       "      <td>True</td>\n",
       "      <td>True</td>\n",
       "      <td>False</td>\n",
       "      <td>False</td>\n",
       "    </tr>\n",
       "    <tr>\n",
       "      <th>4</th>\n",
       "      <td>2052.39</td>\n",
       "      <td>2045.50</td>\n",
       "      <td>2054.56</td>\n",
       "      <td>2045.90</td>\n",
       "      <td>2008.45</td>\n",
       "      <td>132.43</td>\n",
       "      <td>True</td>\n",
       "      <td>True</td>\n",
       "      <td>False</td>\n",
       "      <td>False</td>\n",
       "    </tr>\n",
       "    <tr>\n",
       "      <th>5</th>\n",
       "      <td>2064.87</td>\n",
       "      <td>2036.74</td>\n",
       "      <td>2022.30</td>\n",
       "      <td>2006.63</td>\n",
       "      <td>1992.96</td>\n",
       "      <td>162.48</td>\n",
       "      <td>True</td>\n",
       "      <td>True</td>\n",
       "      <td>False</td>\n",
       "      <td>False</td>\n",
       "    </tr>\n",
       "    <tr>\n",
       "      <th>6</th>\n",
       "      <td>2070.28</td>\n",
       "      <td>2014.79</td>\n",
       "      <td>2002.04</td>\n",
       "      <td>2003.67</td>\n",
       "      <td>1998.86</td>\n",
       "      <td>166.86</td>\n",
       "      <td>True</td>\n",
       "      <td>False</td>\n",
       "      <td>False</td>\n",
       "      <td>False</td>\n",
       "    </tr>\n",
       "    <tr>\n",
       "      <th>20</th>\n",
       "      <td>2022.88</td>\n",
       "      <td>2002.34</td>\n",
       "      <td>1984.09</td>\n",
       "      <td>1978.46</td>\n",
       "      <td>1968.50</td>\n",
       "      <td>74.61</td>\n",
       "      <td>True</td>\n",
       "      <td>True</td>\n",
       "      <td>False</td>\n",
       "      <td>False</td>\n",
       "    </tr>\n",
       "    <tr>\n",
       "      <th>21</th>\n",
       "      <td>2040.14</td>\n",
       "      <td>2026.78</td>\n",
       "      <td>2019.41</td>\n",
       "      <td>2010.95</td>\n",
       "      <td>1988.48</td>\n",
       "      <td>95.34</td>\n",
       "      <td>True</td>\n",
       "      <td>True</td>\n",
       "      <td>False</td>\n",
       "      <td>False</td>\n",
       "    </tr>\n",
       "    <tr>\n",
       "      <th>22</th>\n",
       "      <td>2042.06</td>\n",
       "      <td>2041.54</td>\n",
       "      <td>2039.35</td>\n",
       "      <td>2037.77</td>\n",
       "      <td>2018.52</td>\n",
       "      <td>113.47</td>\n",
       "      <td>True</td>\n",
       "      <td>True</td>\n",
       "      <td>False</td>\n",
       "      <td>False</td>\n",
       "    </tr>\n",
       "    <tr>\n",
       "      <th>23</th>\n",
       "      <td>2037.03</td>\n",
       "      <td>2015.65</td>\n",
       "      <td>2008.60</td>\n",
       "      <td>2001.85</td>\n",
       "      <td>1996.02</td>\n",
       "      <td>110.44</td>\n",
       "      <td>True</td>\n",
       "      <td>True</td>\n",
       "      <td>False</td>\n",
       "      <td>False</td>\n",
       "    </tr>\n",
       "  </tbody>\n",
       "</table>\n",
       "</div>"
      ],
      "text/plain": [
       "       CH4_79   CH4_53   CH4_38   CH4_24    CH4_4    grad  GradFlag  night_F  \\\n",
       "Hour                                                                           \n",
       "0     2047.00  2028.99  2021.42  2020.37  2000.97   84.87      True     True   \n",
       "1     2031.26  2022.32  2012.83  2010.63  2002.82   75.53      True     True   \n",
       "2     2038.76  2041.80  2027.88  2026.97  2027.84  109.02      True     True   \n",
       "3     2044.22  2053.34  2063.07  2056.95  1999.94  194.62      True     True   \n",
       "4     2052.39  2045.50  2054.56  2045.90  2008.45  132.43      True     True   \n",
       "5     2064.87  2036.74  2022.30  2006.63  1992.96  162.48      True     True   \n",
       "6     2070.28  2014.79  2002.04  2003.67  1998.86  166.86      True    False   \n",
       "20    2022.88  2002.34  1984.09  1978.46  1968.50   74.61      True     True   \n",
       "21    2040.14  2026.78  2019.41  2010.95  1988.48   95.34      True     True   \n",
       "22    2042.06  2041.54  2039.35  2037.77  2018.52  113.47      True     True   \n",
       "23    2037.03  2015.65  2008.60  2001.85  1996.02  110.44      True     True   \n",
       "\n",
       "      range_8  low_than8  \n",
       "Hour                      \n",
       "0       False      False  \n",
       "1       False      False  \n",
       "2       False      False  \n",
       "3       False      False  \n",
       "4       False      False  \n",
       "5       False      False  \n",
       "6       False      False  \n",
       "20      False      False  \n",
       "21      False      False  \n",
       "22      False      False  \n",
       "23      False      False  "
      ]
     },
     "execution_count": 22,
     "metadata": {},
     "output_type": "execute_result"
    }
   ],
   "source": [
    "# hour maximum for nighttime\n",
    "nights[nights['GradFlag'] == True].groupby('Hour').max()"
   ]
  },
  {
   "cell_type": "code",
   "execution_count": 23,
   "metadata": {},
   "outputs": [
    {
     "data": {
      "text/html": [
       "<div>\n",
       "<style scoped>\n",
       "    .dataframe tbody tr th:only-of-type {\n",
       "        vertical-align: middle;\n",
       "    }\n",
       "\n",
       "    .dataframe tbody tr th {\n",
       "        vertical-align: top;\n",
       "    }\n",
       "\n",
       "    .dataframe thead th {\n",
       "        text-align: right;\n",
       "    }\n",
       "</style>\n",
       "<table border=\"1\" class=\"dataframe\">\n",
       "  <thead>\n",
       "    <tr style=\"text-align: right;\">\n",
       "      <th></th>\n",
       "      <th>CH4_79</th>\n",
       "      <th>CH4_53</th>\n",
       "      <th>CH4_38</th>\n",
       "      <th>CH4_24</th>\n",
       "      <th>CH4_4</th>\n",
       "      <th>grad</th>\n",
       "      <th>GradFlag</th>\n",
       "      <th>night_F</th>\n",
       "      <th>range_8</th>\n",
       "      <th>low_than8</th>\n",
       "    </tr>\n",
       "    <tr>\n",
       "      <th>Hour</th>\n",
       "      <th></th>\n",
       "      <th></th>\n",
       "      <th></th>\n",
       "      <th></th>\n",
       "      <th></th>\n",
       "      <th></th>\n",
       "      <th></th>\n",
       "      <th></th>\n",
       "      <th></th>\n",
       "      <th></th>\n",
       "    </tr>\n",
       "  </thead>\n",
       "  <tbody>\n",
       "    <tr>\n",
       "      <th>7</th>\n",
       "      <td>2071.62</td>\n",
       "      <td>2021.42</td>\n",
       "      <td>2014.86</td>\n",
       "      <td>2010.34</td>\n",
       "      <td>1986.95</td>\n",
       "      <td>165.24</td>\n",
       "      <td>True</td>\n",
       "      <td>False</td>\n",
       "      <td>False</td>\n",
       "      <td>False</td>\n",
       "    </tr>\n",
       "    <tr>\n",
       "      <th>8</th>\n",
       "      <td>2121.49</td>\n",
       "      <td>2098.22</td>\n",
       "      <td>2105.17</td>\n",
       "      <td>2100.60</td>\n",
       "      <td>2025.49</td>\n",
       "      <td>157.93</td>\n",
       "      <td>True</td>\n",
       "      <td>False</td>\n",
       "      <td>False</td>\n",
       "      <td>False</td>\n",
       "    </tr>\n",
       "    <tr>\n",
       "      <th>9</th>\n",
       "      <td>2128.06</td>\n",
       "      <td>2126.81</td>\n",
       "      <td>2127.79</td>\n",
       "      <td>2124.99</td>\n",
       "      <td>2095.74</td>\n",
       "      <td>99.26</td>\n",
       "      <td>True</td>\n",
       "      <td>False</td>\n",
       "      <td>False</td>\n",
       "      <td>False</td>\n",
       "    </tr>\n",
       "    <tr>\n",
       "      <th>10</th>\n",
       "      <td>2008.12</td>\n",
       "      <td>2009.45</td>\n",
       "      <td>2010.22</td>\n",
       "      <td>2010.14</td>\n",
       "      <td>1995.36</td>\n",
       "      <td>37.17</td>\n",
       "      <td>True</td>\n",
       "      <td>False</td>\n",
       "      <td>False</td>\n",
       "      <td>False</td>\n",
       "    </tr>\n",
       "    <tr>\n",
       "      <th>11</th>\n",
       "      <td>2003.25</td>\n",
       "      <td>2002.76</td>\n",
       "      <td>1999.82</td>\n",
       "      <td>2002.17</td>\n",
       "      <td>1986.97</td>\n",
       "      <td>24.28</td>\n",
       "      <td>True</td>\n",
       "      <td>False</td>\n",
       "      <td>False</td>\n",
       "      <td>False</td>\n",
       "    </tr>\n",
       "    <tr>\n",
       "      <th>12</th>\n",
       "      <td>1928.43</td>\n",
       "      <td>1928.36</td>\n",
       "      <td>1928.72</td>\n",
       "      <td>1927.46</td>\n",
       "      <td>1911.35</td>\n",
       "      <td>19.82</td>\n",
       "      <td>True</td>\n",
       "      <td>False</td>\n",
       "      <td>False</td>\n",
       "      <td>False</td>\n",
       "    </tr>\n",
       "    <tr>\n",
       "      <th>13</th>\n",
       "      <td>1971.35</td>\n",
       "      <td>1973.52</td>\n",
       "      <td>1975.88</td>\n",
       "      <td>1963.77</td>\n",
       "      <td>1955.43</td>\n",
       "      <td>30.89</td>\n",
       "      <td>True</td>\n",
       "      <td>False</td>\n",
       "      <td>False</td>\n",
       "      <td>False</td>\n",
       "    </tr>\n",
       "    <tr>\n",
       "      <th>14</th>\n",
       "      <td>2002.92</td>\n",
       "      <td>2002.42</td>\n",
       "      <td>2001.24</td>\n",
       "      <td>2001.92</td>\n",
       "      <td>1985.77</td>\n",
       "      <td>24.70</td>\n",
       "      <td>True</td>\n",
       "      <td>False</td>\n",
       "      <td>False</td>\n",
       "      <td>False</td>\n",
       "    </tr>\n",
       "    <tr>\n",
       "      <th>15</th>\n",
       "      <td>1942.33</td>\n",
       "      <td>1942.53</td>\n",
       "      <td>1941.41</td>\n",
       "      <td>1935.22</td>\n",
       "      <td>1916.05</td>\n",
       "      <td>32.56</td>\n",
       "      <td>True</td>\n",
       "      <td>False</td>\n",
       "      <td>False</td>\n",
       "      <td>False</td>\n",
       "    </tr>\n",
       "    <tr>\n",
       "      <th>16</th>\n",
       "      <td>1967.51</td>\n",
       "      <td>1960.08</td>\n",
       "      <td>1958.66</td>\n",
       "      <td>1958.39</td>\n",
       "      <td>1941.63</td>\n",
       "      <td>32.12</td>\n",
       "      <td>True</td>\n",
       "      <td>False</td>\n",
       "      <td>False</td>\n",
       "      <td>False</td>\n",
       "    </tr>\n",
       "    <tr>\n",
       "      <th>17</th>\n",
       "      <td>1971.73</td>\n",
       "      <td>1971.40</td>\n",
       "      <td>1970.07</td>\n",
       "      <td>1970.62</td>\n",
       "      <td>1957.60</td>\n",
       "      <td>37.64</td>\n",
       "      <td>True</td>\n",
       "      <td>False</td>\n",
       "      <td>False</td>\n",
       "      <td>False</td>\n",
       "    </tr>\n",
       "    <tr>\n",
       "      <th>18</th>\n",
       "      <td>1951.97</td>\n",
       "      <td>1944.89</td>\n",
       "      <td>1943.30</td>\n",
       "      <td>1940.01</td>\n",
       "      <td>1927.62</td>\n",
       "      <td>58.03</td>\n",
       "      <td>True</td>\n",
       "      <td>False</td>\n",
       "      <td>False</td>\n",
       "      <td>False</td>\n",
       "    </tr>\n",
       "  </tbody>\n",
       "</table>\n",
       "</div>"
      ],
      "text/plain": [
       "       CH4_79   CH4_53   CH4_38   CH4_24    CH4_4    grad  GradFlag  night_F  \\\n",
       "Hour                                                                           \n",
       "7     2071.62  2021.42  2014.86  2010.34  1986.95  165.24      True    False   \n",
       "8     2121.49  2098.22  2105.17  2100.60  2025.49  157.93      True    False   \n",
       "9     2128.06  2126.81  2127.79  2124.99  2095.74   99.26      True    False   \n",
       "10    2008.12  2009.45  2010.22  2010.14  1995.36   37.17      True    False   \n",
       "11    2003.25  2002.76  1999.82  2002.17  1986.97   24.28      True    False   \n",
       "12    1928.43  1928.36  1928.72  1927.46  1911.35   19.82      True    False   \n",
       "13    1971.35  1973.52  1975.88  1963.77  1955.43   30.89      True    False   \n",
       "14    2002.92  2002.42  2001.24  2001.92  1985.77   24.70      True    False   \n",
       "15    1942.33  1942.53  1941.41  1935.22  1916.05   32.56      True    False   \n",
       "16    1967.51  1960.08  1958.66  1958.39  1941.63   32.12      True    False   \n",
       "17    1971.73  1971.40  1970.07  1970.62  1957.60   37.64      True    False   \n",
       "18    1951.97  1944.89  1943.30  1940.01  1927.62   58.03      True    False   \n",
       "\n",
       "      range_8  low_than8  \n",
       "Hour                      \n",
       "7       False      False  \n",
       "8       False      False  \n",
       "9       False      False  \n",
       "10      False      False  \n",
       "11      False      False  \n",
       "12      False      False  \n",
       "13      False      False  \n",
       "14      False      False  \n",
       "15      False      False  \n",
       "16      False      False  \n",
       "17      False      False  \n",
       "18      False      False  "
      ]
     },
     "execution_count": 23,
     "metadata": {},
     "output_type": "execute_result"
    }
   ],
   "source": [
    "# hour maximum for daytime\n",
    "days[days['GradFlag'] == True].groupby('Hour').max()"
   ]
  },
  {
   "cell_type": "markdown",
   "metadata": {},
   "source": [
    "## Section 3.2.2 Net radiation, sensible heat flux, friction velocity and thermal stratification for CH4 positive gradients 2013-2018\n",
    "\n",
    "#### Alternative plots and further calculations."
   ]
  },
  {
   "cell_type": "code",
   "execution_count": 54,
   "metadata": {},
   "outputs": [],
   "source": [
    "df_full = pd.read_pickle('./to_Share/Data/ATTO_GHG_Inst_flux_soil_30min')"
   ]
  },
  {
   "cell_type": "code",
   "execution_count": 55,
   "metadata": {},
   "outputs": [],
   "source": [
    "#df_full = df_full.assign(grad_quant = pd.qcut(df_full.grad,q=[0,.09,.883,1],labels=['Lower','range','larger'],retbins=False))\n",
    "df_full = df_full.assign(grad_quant = pd.qcut(df_full.grad,q=[0,.09,.883,1],retbins=False))\n",
    "\n",
    "def mid(interval):\n",
    "    return interval.mid\n",
    "\n",
    "df_full = df_full.assign(grad_quant_mid = df_full['grad_quant'].apply(mid))\n",
    "df_full['grad_quant_mid'] = df_full['grad_quant_mid'].astype(np.float64)"
   ]
  },
  {
   "cell_type": "code",
   "execution_count": 56,
   "metadata": {},
   "outputs": [],
   "source": [
    "# Calculating Ribulk.\n",
    "meanTht = df_full[['theta', 'theta73', 'theta55','theta40']].mean().mean()\n",
    "deltaZ  = 79-40\n",
    "Ritop   = (9.8/(meanTht)) * deltaZ * ((df_full.theta-df_full.theta40) / (df_full['Mean_Windsp[m/s]'] - df_full.WSp_42m)**2)\n",
    "df_full = df_full.assign(Ritop = Ritop)"
   ]
  },
  {
   "cell_type": "code",
   "execution_count": 57,
   "metadata": {},
   "outputs": [],
   "source": [
    "df_full_n = df_full.between_time('20:00','06:00')\n",
    "df_full_n.columns[0:100];"
   ]
  },
  {
   "cell_type": "markdown",
   "metadata": {},
   "source": [
    "### Alternative for Figure 9.\n",
    "- This plot was not included because we wanted to show the nocturnal evolution."
   ]
  },
  {
   "cell_type": "code",
   "execution_count": 60,
   "metadata": {},
   "outputs": [
    {
     "name": "stdout",
     "output_type": "stream",
     "text": [
      "NetRad Ks_2sampResult(statistic=0.17896850025450706, pvalue=3.1690728619103277e-149)\n",
      "U* Ks_2sampResult(statistic=0.0990730222369543, pvalue=1.6091352662578409e-46)\n",
      "Theta Ks_2sampResult(statistic=0.1968117250734212, pvalue=6.0684634161083e-162)\n",
      "H Ks_2sampResult(statistic=0.06363121987467013, pvalue=6.289829674138968e-19)\n"
     ]
    },
    {
     "data": {
      "image/png": "[encoded data removed]",
      "text/plain": [
       "<Figure size 525x1050 with 4 Axes>"
      ]
     },
     "metadata": {
      "needs_background": "light"
     },
     "output_type": "display_data"
    }
   ],
   "source": [
    "# be aware that I havent checked here if there is missing data \n",
    "fig  = plt.figure(figsize=(3.5,7),dpi=150)\n",
    "grid = plt.GridSpec(4,1,wspace=0.2,hspace=0.5)\n",
    "\n",
    "row1 = fig.add_subplot(grid[0,0])\n",
    "data = df_full_n[['Hour','GradFlag','NetRad']]\n",
    "sns.distplot(data['NetRad'].loc[data['GradFlag']==False].dropna(),bins=500,ax=row1,hist=True,kde=False,\n",
    "            hist_kws={\"alpha\": 1, \"color\": \"orange\"})\n",
    "sns.distplot(data['NetRad'].loc[data['GradFlag']==True].dropna(),bins=500,ax=row1,hist=True,kde=False,\n",
    "             hist_kws={\"alpha\": 1, \"color\": \"k\"})\n",
    "row1.vlines(data['NetRad'].loc[data['GradFlag']==True].dropna().mean(),0,3000,linestyles='--',linewidth=0.5,colors='k')\n",
    "row1.vlines(data['NetRad'].loc[data['GradFlag']==False].dropna().mean(),0,3000,linestyles='--',linewidth=0.5,color='darkorange')\n",
    "row1.set_xlim(-80,80)\n",
    "row1.set_ylim(0,3000)\n",
    "row1.set_ylabel('Counts')\n",
    "row1.set_xlabel('Net Radiation [W m$^{-2}$]')\n",
    "print('NetRad',scipy.stats.ks_2samp(data['NetRad'].loc[data['GradFlag']==False].dropna().values,\n",
    "                           data['NetRad'].loc[data['GradFlag']==True].dropna().values))\n",
    "\n",
    "row2 = fig.add_subplot(grid[1,0])\n",
    "data = df_full_n[['Hour','GradFlag','U-star[m/s]']]\n",
    "sns.distplot(data['U-star[m/s]'].loc[data['GradFlag']==False].dropna(),bins=100,ax=row2,hist=True,kde=False,\n",
    "            hist_kws={\"alpha\": 1, \"color\": \"orange\"})\n",
    "sns.distplot(data['U-star[m/s]'].loc[data['GradFlag']==True].dropna(),bins=100,ax=row2,hist=True,kde=False,\n",
    "            hist_kws={\"alpha\": 1, \"color\": \"k\"})\n",
    "row2.vlines(data['U-star[m/s]'].loc[data['GradFlag']==True].dropna().mean(),0,5000,linestyles='--',linewidth=0.5,color='k')\n",
    "row2.vlines(data['U-star[m/s]'].loc[data['GradFlag']==False].dropna().mean(),0,5000,linestyles='--',linewidth=0.5,colors='darkorange')\n",
    "row2.set_xlim(-0.1,1)\n",
    "row2.set_ylim(0,4500)\n",
    "row2.set_ylabel('Counts')\n",
    "row2.set_xlabel('Friction velocity [m $s^{-1}$]')\n",
    "print('U*',scipy.stats.ks_2samp(data['U-star[m/s]'].loc[data['GradFlag']==False].dropna().values,\n",
    "                           data['U-star[m/s]'].loc[data['GradFlag']==True].dropna().values))\n",
    "\n",
    "row3 = fig.add_subplot(grid[2,0])\n",
    "data = df_full_n[['Hour','GradFlag','PotVirt_81m','PotVirt_36m']]\n",
    "data = data.assign(PotGradAbove = data['PotVirt_81m'] - data['PotVirt_36m'])\n",
    "sns.distplot(data['PotGradAbove'].loc[data['GradFlag']==False].dropna(),bins=100,ax=row3,hist=True,kde=False,\n",
    "            hist_kws={\"alpha\": 1, \"color\": \"orange\"})\n",
    "sns.distplot(data['PotGradAbove'].loc[data['GradFlag']==True].dropna(),bins=100,ax=row3,hist=True,kde=False,\n",
    "            hist_kws={\"alpha\": 1, \"color\": \"k\"})\n",
    "row3.vlines(data['PotGradAbove'].loc[data['GradFlag']==True].dropna().mean(),0,2700,linestyles='--',linewidth=0.5,color='k')\n",
    "row3.vlines(data['PotGradAbove'].loc[data['GradFlag']==False].dropna().mean(),0,2700,linestyles='--',linewidth=0.5,color='darkorange')\n",
    "row3.set_xlim(-4,6)\n",
    "row3.set_ylim(0,2700)\n",
    "row3.set_ylabel('Counts')\n",
    "row3.set_xlabel('$\\Theta_{v-81m}$ - $\\Theta_{v-36m}$ [K]')\n",
    "print('Theta',scipy.stats.ks_2samp(data['PotGradAbove'].loc[data['GradFlag']==False].dropna().values,\n",
    "                           data['PotGradAbove'].loc[data['GradFlag']==True].dropna().values))\n",
    "\n",
    "\n",
    "row4 = fig.add_subplot(grid[3,0])\n",
    "data = df_full_n[['Hour','GradFlag','FluxTsonic[Watt/m2]']]\n",
    "sns.distplot(data['FluxTsonic[Watt/m2]'].loc[data['GradFlag']==False].dropna(),bins=1000,ax=row4,hist=True,kde=False,\n",
    "            hist_kws={\"alpha\": 1, \"color\": \"orange\"})\n",
    "sns.distplot(data['FluxTsonic[Watt/m2]'].loc[data['GradFlag']==True].dropna(),bins=1000,ax=row4,hist=True,kde=False,\n",
    "            hist_kws={\"alpha\": 1, \"color\": \"k\"})\n",
    "row4.vlines(data['FluxTsonic[Watt/m2]'].loc[data['GradFlag']==True].dropna().mean(),0,2700,linestyles='--',linewidth=0.5,color='k')\n",
    "row4.vlines(data['FluxTsonic[Watt/m2]'].loc[data['GradFlag']==False].dropna().mean(),0,2700,linestyles='--',linewidth=0.5,color='darkorange')\n",
    "row4.set_xlim(-40,40)\n",
    "row4.set_ylim(0,2600)\n",
    "row4.set_ylabel('Counts')\n",
    "row4.set_xlabel('Sensible heat flux [$w$ $m^{-2}$]')\n",
    "print('H',scipy.stats.ks_2samp(data['FluxTsonic[Watt/m2]'].loc[data['GradFlag']==False].dropna().values,\n",
    "                           data['FluxTsonic[Watt/m2]'].loc[data['GradFlag']==True].dropna().values))\n",
    "plt.show()"
   ]
  },
  {
   "cell_type": "markdown",
   "metadata": {},
   "source": [
    "### Analysis of Stability above canopy using Bulk Richardson Number\n",
    "- Analysis not included in paper\n",
    "- I think the 1/L analysis is more reliable at 1 min resolution\n",
    "- Ri <= 0.25 weakly stable\n",
    "- Ri > 0.25 very stable"
   ]
  },
  {
   "cell_type": "markdown",
   "metadata": {},
   "source": [
    "#### Checking z/L and Bulk Richardson number , comment from referee 2"
   ]
  },
  {
   "cell_type": "code",
   "execution_count": 70,
   "metadata": {},
   "outputs": [],
   "source": [
    "# selecting data\n",
    "data        = df_full_n[['Hour','grad','GradFlag','PotVirt_81m','PotVirt_36m','grad_quant_mid','Ritop','FluxTsonic[Watt/m2]','Mean_Windsp[m/s]','Z-over-L']]\n",
    "data        = data.assign(PotGradAbove   = data['PotVirt_81m'] - data['PotVirt_36m'])\n",
    "data['Z-over-L'] = data['Z-over-L']*(1/61) # transforming z-over-L into 1/L\n",
    "# setting ranges for z_over_l and ritop\n",
    "IQR_z_l     = data['Z-over-L'].describe()[6] - data['Z-over-L'].describe()[4]\n",
    "loval_z_l   = data['Z-over-L'].describe()[4] - 1.5 * IQR_z_l\n",
    "hival_z_l   = data['Z-over-L'].describe()[6] + 1.5 * IQR_z_l\n",
    "\n",
    "IQR_ritop   = data['Ritop'].describe()[6] - data['Ritop'].describe()[4]\n",
    "loval_ritop = data['Ritop'].describe()[4] - 1.5 * IQR_ritop\n",
    "hival_ritop = data['Ritop'].describe()[6] + 1.5 * IQR_ritop\n",
    "\n",
    "data        = data.assign(Ritop_range    = data['Ritop'].between(loval_ritop, hival_ritop, inclusive=True))\n",
    "data        = data.assign(z_over_l_range = data['Z-over-L'].between(loval_z_l, hival_z_l, inclusive=True))\n",
    "\n",
    "bins        = pd.IntervalIndex.from_tuples([(loval_ritop, 0.25), (0.25, hival_ritop)])\n",
    "data        = data.assign(Ritop_int      = pd.cut(data[data['Ritop_range']==True]['Ritop'],bins=bins))\n",
    "bins        = pd.IntervalIndex.from_tuples([(-0.1,-0.01),(-0.01,0.01),(0.01,0.1),(0.1,hival_z_l)])\n",
    "data        = data.assign(z_over_l_int   = pd.cut(data[data['z_over_l_range']==True]['Z-over-L'],bins=bins))\n",
    "\n",
    "data        = data.assign(Ritop_int_mid = data['Ritop_int'].apply(mid))\n",
    "data        = data.assign(Ritop_int_mid = data['z_over_l_int'].apply(mid))\n",
    "\n",
    "data        = data.assign(StabilityFlag = np.where(data['Ritop']>0.25, 'Stable', 'Weakly stable'))"
   ]
  },
  {
   "cell_type": "code",
   "execution_count": 62,
   "metadata": {},
   "outputs": [
    {
     "data": {
      "text/plain": [
       "Ritop_int\n",
       "(-1.4858753304918575, 0.25]    4243\n",
       "(0.25, 3.1096968107372462]     9084\n",
       "Name: GradFlag, dtype: int64"
      ]
     },
     "execution_count": 62,
     "metadata": {},
     "output_type": "execute_result"
    }
   ],
   "source": [
    "data[data['Ritop_range']==True].groupby(by='Ritop_int')['GradFlag'].count()"
   ]
  },
  {
   "cell_type": "code",
   "execution_count": 63,
   "metadata": {},
   "outputs": [
    {
     "data": {
      "image/png": "[encoded data removed]",
      "text/plain": [
       "<Figure size 800x400 with 2 Axes>"
      ]
     },
     "metadata": {
      "needs_background": "light"
     },
     "output_type": "display_data"
    }
   ],
   "source": [
    "fig,(row1,ax1)    = plt.subplots(1,2,figsize=(4,2),dpi=200)\n",
    "\n",
    "#sns.boxplot(x='Ritop_int',y='grad',data=data[data['Ritop_range']==True],showfliers=False,ax=row1)\n",
    "#sns.boxplot(x='z_over_l_int',y='grad',data=data[data['z_over_l_range']==True],showfliers=False,ax=ax1)\n",
    "sns.barplot(x='Ritop_int',y='grad',data=data[data['Ritop_range']==True],ax=row1)\n",
    "sns.barplot(x='z_over_l_int',y='grad',data=data[data['z_over_l_range']==True],ax=ax1)\n",
    "\n",
    "row1.set_xticklabels(['Weakly Stable','Stable'],fontsize=5)\n",
    "row1.set_xlabel('Bulk Richardson Number\\n Classes')\n",
    "row1.set_ylabel('CH4 gradient')\n",
    "\n",
    "ax1.set_xticklabels(['Moderate\\n unstable','Neutral','Moderate\\n Stable','Very\\n Stable'],fontsize=5)\n",
    "ax1.set_ylabel('CH4 gradient')\n",
    "ax1.set_xlabel('1/L')\n",
    "mpl.rcParams['font.size'] = 5\n",
    "plt.subplots_adjust(wspace=0.5)\n",
    "plt.tight_layout()\n",
    "plt.show()\n",
    "\n",
    "#fig.savefig('../Rebuttal/z-L_bulkRi_boxplot_nighttime.png',dpi=300)\n",
    "fig.savefig('../Rebuttal/z-L_bulkRi_barplot_nighttime.png',dpi=300)"
   ]
  },
  {
   "cell_type": "code",
   "execution_count": 64,
   "metadata": {},
   "outputs": [
    {
     "data": {
      "image/png": "[encoded data removed]",
      "text/plain": [
       "<Figure size 800x400 with 1 Axes>"
      ]
     },
     "metadata": {
      "needs_background": "light"
     },
     "output_type": "display_data"
    }
   ],
   "source": [
    "# Plot settings\n",
    "line_width  = 0.7\n",
    "marker_size = 2\n",
    "font_size   = 6\n",
    "fig,row1    = plt.subplots(1,1,figsize=(4,2),dpi=200)\n",
    "\n",
    "data     = df_full_n[['Hour','GradFlag','grad','Z-over-L']].dropna()\n",
    "df_true  = data[data[\"GradFlag\"]==True].groupby('Hour').count()\n",
    "df_false = data[data[\"GradFlag\"]==False].groupby('Hour').count()\n",
    "nobsT    = df_true['Z-over-L']\n",
    "nobsF    = df_false['Z-over-L']\n",
    "nobs1    = [\"  \" + str(i) for i in nobsT.values]\n",
    "new_nobs1 = nobs1[7:] + nobs1[0:7]\n",
    "#nobs2    = [\"n:\" + str(i) + \" \" for i in nobsF.values]\n",
    "nobs2    = [\"  \" + str(i) + \" \" for i in nobsF.values]\n",
    "new_nobs2 = nobs2[7:] + nobs2[0:7]\n",
    "\n",
    "meansTrue  = [str(i) for i in data[data['GradFlag']==True].groupby('Hour').mean()['Z-over-L'].values]\n",
    "meansFalse = [str(i) for i in data[data['GradFlag']==False].groupby('Hour').mean()['Z-over-L'].values]\n",
    "meansTrue  = meansTrue[7:] + meansTrue[0:7]\n",
    "meansFalse = meansFalse[7:] + meansFalse[0:7]\n",
    "meansTrue  = [float(i) for i in meansTrue]\n",
    "meansFalse = [float(i) for i in meansFalse]\n",
    "\n",
    "sns.boxplot(x='Hour',y='Z-over-L',hue='GradFlag',data=data,order=[20,21,22,23,0,1,2,3,4,5,6],palette=sns.color_palette(palette=\"Greys\",n_colors=2),showfliers=False,ax=row1,showmeans=False,linewidth=line_width)\n",
    "#sns.violinplot(x='Hour',y='Ritop',hue='GradFlag',data=data,order=[20,21,22,23,0,1,2,3,4,5,6],palette=sns.color_palette(palette=\"Greys\",n_colors=2),ax=row1,linewidth=line_width)\n",
    "row1.set_xlabel('Night Hours [Local Time]')\n",
    "row1.set_ylabel('z/L')\n",
    "#row1.set_xticklabels(['','','','','','','','','','',''])\n",
    "row1.get_legend().remove()\n",
    "sns.despine()\n",
    "row1.text(-2, 10, '(a)', horizontalalignment='center', size=7, color='k')    \n",
    "for i,j in enumerate(new_nobs1):\n",
    "    row1.text(i+0.2, 11.3, j, horizontalalignment='center', size=3, color='k')\n",
    "    row1.text(i-0.2, 10, new_nobs2[i], horizontalalignment='center', size=3, color='k')\n",
    "#row1.plot([0.25,1.25,2.25,3.25,4.25,5.25,6.25,7.25,8.25,9.25,10.25],meansTrue,linewidth=0,marker='v',markersize=1,color='lightgreen')\n",
    "#row1.plot([-0.25,0.85,1.85,2.85,3.85,4.85,5.85,6.85,7.85,8.85,9.85],meansFalse,linewidth=0,marker='v',markersize=1,color='lightgreen')\n",
    "handles, _ = row1.get_legend_handles_labels()\n",
    "row1.legend(handles,[\"< 8ppb\", \"> 8ppb\"],loc='lower left',fontsize=5)\n",
    "plt.tight_layout()\n",
    "plt.show()\n",
    "fig.savefig('../Rebuttal/z-L_boxplot_nighttime_above_below_8ppb.png',dpi=300)"
   ]
  },
  {
   "cell_type": "code",
   "execution_count": 68,
   "metadata": {},
   "outputs": [
    {
     "data": {
      "image/png": "[encoded data removed]",
      "text/plain": [
       "<Figure size 800x400 with 1 Axes>"
      ]
     },
     "metadata": {
      "needs_background": "light"
     },
     "output_type": "display_data"
    }
   ],
   "source": [
    "# Plot settings\n",
    "# Remember to re-run the selecting data cell. Two above\n",
    "line_width  = 0.7\n",
    "marker_size = 2\n",
    "font_size   = 6\n",
    "fig      = plt.figure(figsize=(4,2),dpi=200)\n",
    "grid     = plt.GridSpec(1,1,wspace=0.6,hspace=0.5)\n",
    "\n",
    "row1     = fig.add_subplot(grid[0,0])\n",
    "data     = data[['Hour','GradFlag','grad','Ritop']].dropna()\n",
    "df_true  = data[data[\"GradFlag\"]==True].groupby('Hour').count()\n",
    "df_false = data[data[\"GradFlag\"]==False].groupby('Hour').count()\n",
    "nobsT    = df_true['Ritop']\n",
    "nobsF    = df_false['Ritop']\n",
    "nobs1    = [\"  \" + str(i) for i in nobsT.values]\n",
    "new_nobs1 = nobs1[7:] + nobs1[0:7]\n",
    "#nobs2    = [\"n:\" + str(i) + \" \" for i in nobsF.values]\n",
    "nobs2    = [\"  \" + str(i) + \" \" for i in nobsF.values]\n",
    "new_nobs2 = nobs2[7:] + nobs2[0:7]\n",
    "\n",
    "meansTrue  = [str(i) for i in data[data['GradFlag']==True].groupby('Hour').mean()['Ritop'].values]\n",
    "meansFalse = [str(i) for i in data[data['GradFlag']==False].groupby('Hour').mean()['Ritop'].values]\n",
    "meansTrue  = meansTrue[7:] + meansTrue[0:7]\n",
    "meansFalse = meansFalse[7:] + meansFalse[0:7]\n",
    "meansTrue  = [float(i) for i in meansTrue]\n",
    "meansFalse = [float(i) for i in meansFalse]\n",
    "\n",
    "sns.boxplot(x='Hour',y='Ritop',hue='GradFlag',data=data,order=[20,21,22,23,0,1,2,3,4,5,6],palette=sns.color_palette(palette=\"Greys\",n_colors=2),showfliers=False,ax=row1,showmeans=False,linewidth=line_width)\n",
    "#sns.violinplot(x='Hour',y='Ritop',hue='GradFlag',data=data,order=[20,21,22,23,0,1,2,3,4,5,6],palette=sns.color_palette(palette=\"Greys\",n_colors=2),ax=row1,linewidth=line_width)\n",
    "row1.set_xlabel('Night Hours [Local Time]')\n",
    "row1.set_ylabel('Bulk Richardson Number')\n",
    "#row1.set_xticklabels(['','','','','','','','','','',''])\n",
    "row1.get_legend().remove()\n",
    "sns.despine()\n",
    "row1.text(-2, 10, '(a)', horizontalalignment='center', size=7, color='k')    \n",
    "for i,j in enumerate(new_nobs1):\n",
    "    row1.text(i+0.2, 11, j, horizontalalignment='center', size=3, color='k')\n",
    "    row1.text(i-0.2, 10, new_nobs2[i], horizontalalignment='center', size=3, color='k')\n",
    "#row1.plot([0.25,1.25,2.25,3.25,4.25,5.25,6.25,7.25,8.25,9.25,10.25],meansTrue,linewidth=0,marker='v',markersize=1,color='lightgreen')\n",
    "#row1.plot([-0.25,0.85,1.85,2.85,3.85,4.85,5.85,6.85,7.85,8.85,9.85],meansFalse,linewidth=0,marker='v',markersize=1,color='lightgreen')\n",
    "handles, _ = row1.get_legend_handles_labels()\n",
    "row1.legend(handles,[\"< 8ppb\", \"> 8ppb\"],loc='lower left',fontsize=5)\n",
    "plt.show()\n",
    "fig.savefig('../Rebuttal/BulkRi_boxplot_nighttime_above_below_8ppb.png',dpi=300)"
   ]
  },
  {
   "cell_type": "code",
   "execution_count": 71,
   "metadata": {},
   "outputs": [
    {
     "data": {
      "text/plain": [
       "StabilityFlag\n",
       "Stable           1976\n",
       "Weakly stable    4836\n",
       "Name: GradFlag, dtype: int64"
      ]
     },
     "execution_count": 71,
     "metadata": {},
     "output_type": "execute_result"
    }
   ],
   "source": [
    "# Counting the amount of events at 30min, in which they happened under stable or weakly stable conditions\n",
    "# This was not addded to paper\n",
    "data[data['GradFlag']==True].groupby('StabilityFlag').count()['GradFlag']"
   ]
  },
  {
   "cell_type": "markdown",
   "metadata": {},
   "source": [
    "## Wind Speed Analysis\n",
    "- Here I look at the distribution of the wind speed to have an idea of what are the most probable distances\n",
    "- This information is used in Section 3.3.1, 80% of the wind speed for nighttime positive gradients is below 4 m s-1"
   ]
  },
  {
   "cell_type": "code",
   "execution_count": 73,
   "metadata": {},
   "outputs": [
    {
     "data": {
      "image/png": "[encoded data removed]",
      "text/plain": [
       "<Figure size 630x720 with 2 Axes>"
      ]
     },
     "metadata": {
      "needs_background": "light"
     },
     "output_type": "display_data"
    }
   ],
   "source": [
    "# Looking at the distribution of wind speed using the positive gradient flag\n",
    "fig  = plt.figure(figsize=(3.5,4),dpi=180)\n",
    "grid = plt.GridSpec(2,1,wspace=0.5,hspace=0.3)\n",
    "\n",
    "ax1  = fig.add_subplot(grid[0, 0])\n",
    "sns.distplot(df_full_n['Mean_Windsp[m/s]'].loc[df_full_n['GradFlag']==True].dropna(), bins=100, \n",
    "             hist_kws=dict(cumulative=True),kde_kws=dict(lw=0),ax=ax1) #hist_kws=dict(cumulative=True)\n",
    "\n",
    "ax1.vlines(5,0,1)\n",
    "ax1.vlines(4,0,1)\n",
    "ax1.hlines(0.8,-2,15)\n",
    "ax1.set_xlim(0,7)\n",
    "ax1.set_ylim(0,1)\n",
    "\n",
    "ax2  = fig.add_subplot(grid[1, 0])\n",
    "sns.distplot(df_full_n['Mean_Windsp[m/s]'].loc[df_full_n['GradFlag']==True].dropna(),bins=100,ax=ax2,kde=False)\n",
    "ax2.set_ylabel('Counts')\n",
    "plt.show()"
   ]
  },
  {
   "cell_type": "code",
   "execution_count": 74,
   "metadata": {},
   "outputs": [
    {
     "data": {
      "image/png": "[encoded data removed]",
      "text/plain": [
       "<Figure size 630x720 with 2 Axes>"
      ]
     },
     "metadata": {
      "needs_background": "light"
     },
     "output_type": "display_data"
    }
   ],
   "source": [
    "# All nighttime, no use of positive gradient flag\n",
    "fig  = plt.figure(figsize=(3.5,4),dpi=180)\n",
    "grid = plt.GridSpec(2,1,wspace=0.5,hspace=0.3)\n",
    "\n",
    "ax1  = fig.add_subplot(grid[0, 0])\n",
    "sns.distplot(df_full_n['Mean_Windsp[m/s]'].dropna(),bins=100,\n",
    "             hist_kws=dict(cumulative=True),kde_kws=dict(lw=0),ax=ax1)\n",
    "\n",
    "ax1.vlines(5,0,1)\n",
    "ax1.vlines(4,0,1)\n",
    "ax1.hlines(0.8,-2,17)\n",
    "ax1.set_xlim(0,15)\n",
    "ax1.set_ylim(0,1)\n",
    "\n",
    "ax2  = fig.add_subplot(grid[1, 0])\n",
    "sns.distplot(df_full_n['Mean_Windsp[m/s]'].dropna(),ax=ax2,bins=100,kde=False)\n",
    "ax2.set_ylabel('Counts')\n",
    "plt.show()"
   ]
  },
  {
   "cell_type": "code",
   "execution_count": 75,
   "metadata": {},
   "outputs": [
    {
     "data": {
      "image/png": "[encoded data removed]",
      "text/plain": [
       "<Figure size 720x540 with 1 Axes>"
      ]
     },
     "metadata": {
      "needs_background": "light"
     },
     "output_type": "display_data"
    }
   ],
   "source": [
    "fig,ax1  = plt.subplots(1,1,figsize=(4,3),dpi=180)\n",
    "\n",
    "#sns.distplot(df_full_n['Mean_Windsp[m/s]'].loc[df_full_n['GradFlag']==True].dropna(), bins=10, kde=False, norm_hist=True,ax=ax1) #hist_kws=dict(cumulative=True)\n",
    "#sns.distplot(df_full_n['Mean_Windsp[m/s]'].loc[df_full_n['GradFlag']==False].dropna(), bins=10, kde=False,norm_hist=True,ax=ax1) #hist_kws=dict(cumulative=True)\n",
    "sns.violinplot(x='GradFlag',y=df_full_n['Mean_Windsp[m/s]'], data=df_full_n, ax=ax1,palette=sns.color_palette(palette=\"Greys\",n_colors=2)) #hist_kws=dict(cumulative=True)\n",
    "#sns.boxplot(df_full_n['Mean_Windsp[m/s]'].loc[df_full_n['GradFlag']==False].dropna(),showfliers=False, ax=ax1) #hist_kws=dict(cumulative=True)\n",
    "ax1.set_xticklabels(['below-8-ppb','above-8-ppb'])\n",
    "\n",
    "plt.ylabel('Wind Speed [m s$^{-1}$]')\n",
    "plt.xlabel('CH$_4$ gradient classes')\n",
    "\n",
    "plt.show()"
   ]
  },
  {
   "cell_type": "markdown",
   "metadata": {},
   "source": [
    "### The following supports indirectly the rejection of the Amazon river as a source, because \n",
    "- Almost 71 % of events happen at wind speeds between 1-4 m s-1"
   ]
  },
  {
   "cell_type": "code",
   "execution_count": 76,
   "metadata": {},
   "outputs": [
    {
     "data": {
      "image/png": "[encoded data removed]",
      "text/plain": [
       "<Figure size 630x360 with 1 Axes>"
      ]
     },
     "metadata": {
      "needs_background": "light"
     },
     "output_type": "display_data"
    }
   ],
   "source": [
    "fig  = plt.figure(figsize=(3.5,2),dpi=180)\n",
    "bins             = [np.arange(0,6,1),np.arange(6,18,3)]\n",
    "bins             = np.concatenate(bins).ravel()\n",
    "df_full_n        = df_full_n.assign(WindClass = pd.cut(df_full_n['Mean_Windsp[m/s]'],bins,right=True))\n",
    "wind_c_group     = df_full_n[['WindClass','GradFlag']].dropna().groupby('WindClass').sum()\n",
    "wind_c_group     = wind_c_group.assign(Per_event_Wclass = wind_c_group.GradFlag/wind_c_group.GradFlag.sum() * 100)\n",
    "wind_c_group['Per_event_Wclass'].plot(kind='bar')\n",
    "plt.ylabel('% of + CH$_4$ grad per Wclass')\n",
    "plt.show()"
   ]
  },
  {
   "cell_type": "markdown",
   "metadata": {},
   "source": [
    "## Checking systematic differences in wind direction suggested by Referee #2"
   ]
  },
  {
   "cell_type": "code",
   "execution_count": 77,
   "metadata": {},
   "outputs": [],
   "source": [
    "df_full_n = df_full_n.loc['2013-06-01':'2018-11-30']"
   ]
  },
  {
   "cell_type": "code",
   "execution_count": 78,
   "metadata": {},
   "outputs": [
    {
     "name": "stdout",
     "output_type": "stream",
     "text": [
      "147.50224500427092 212.27986936696433 -64.77762436269342 81-19 mean range\n",
      "147.6533784448756 195.70288314898903 -48.04950470411342 81-26 mean range\n",
      "143.6251168714838 169.73016021578655 -26.105043344302743 81-42 mean range\n",
      "136.0402697179403 201.8884331260815 -65.8481634081412 81-19 mean range\n",
      "136.01641505836625 182.38862113281652 -46.372206074450276 81-26 mean range\n",
      "125.27875126705726 151.17753157268913 -25.898780305631874 81-42 mean range\n",
      "141.76041483338585 200.79782906028473 -59.037414226898875 81-19 mean range\n",
      "141.76041483338585 183.36401753395373 -41.603602700567876 81-26 mean range\n",
      "136.7603549944775 145.34175616478436 -8.581401170306862 81-42 mean range\n"
     ]
    },
    {
     "data": {
      "image/png": "[encoded data removed]",
      "text/plain": [
       "<Figure size 1080x1080 with 9 Axes>"
      ]
     },
     "metadata": {
      "needs_background": "light"
     },
     "output_type": "display_data"
    }
   ],
   "source": [
    "################ Checking systematic wind directions differences for below -8ppb\n",
    "\n",
    "df_full_n = df_full_n.assign(wdir_flag42 = df_full_n['WDir_42m'].isnull() )\n",
    "df_full_n = df_full_n.assign(wdir_flag19 = df_full_n['WDir_19m'].isnull() )\n",
    "df_full_n = df_full_n.assign(wdir_flag26 = df_full_n['WDir_26m'].isnull() )\n",
    "df_full_n = df_full_n.assign(above8ppb = df_full_n['grad']>=8)\n",
    "df_full_n = df_full_n.assign(below8ppb = df_full_n['grad']<=-8)\n",
    "df_full_n = df_full_n.assign(betweenFlag = ((df_full_n['grad']>-8) & (df_full_n['grad']<8)))\n",
    "\n",
    "wind_dir79m_42m = df_full_n.loc[(df_full_n['below8ppb']==True) & (df_full_n['wdir_flag42']==False),['Wind-Direc-corrg[deg]','WDir_42m']]\n",
    "wind_dir79m_26m = df_full_n.loc[(df_full_n['below8ppb']==True) & (df_full_n['wdir_flag26']==False),['Wind-Direc-corrg[deg]','WDir_26m']]\n",
    "wind_dir79m_19m = df_full_n.loc[(df_full_n['below8ppb']==True) & (df_full_n['wdir_flag19']==False),['Wind-Direc-corrg[deg]','WDir_19m']]\n",
    "\n",
    "fig,((ax1,ax2,ax3),(ax4,ax5,ax6),(ax7,ax8,ax9)) = plt.subplots(3,3,figsize=(6,6),dpi=180,sharex=True)#,constrained_layout=True)\n",
    "\n",
    "sns.distplot(wind_dir79m_19m['Wind-Direc-corrg[deg]'],bins=50,ax=ax1,kde=False,color='orange',label='81m')\n",
    "sns.distplot(wind_dir79m_19m['WDir_19m'],bins=50,ax=ax1,kde=False,color='green',label='19m')\n",
    "ax1.set_xlabel('')\n",
    "ax1.vlines(wind_dir79m_19m['Wind-Direc-corrg[deg]'].mean(),0,2000,linestyles='--',linewidth=0.5,color='orange')\n",
    "ax1.vlines(wind_dir79m_19m['WDir_19m'].mean(),0,2000,linestyles='--',linewidth=0.5,color='green')\n",
    "ax1.set_ylabel('Counts')\n",
    "ax1.set_ylim(0,150)\n",
    "ax1.set_xlim(0,360)\n",
    "ax1.legend(loc='upper right')\n",
    "ax1.text(5,3,'below-8-ppb')\n",
    "\n",
    "sns.distplot(wind_dir79m_26m['Wind-Direc-corrg[deg]'],ax=ax2,bins=50,kde=False,color='orange',label='81m')\n",
    "sns.distplot(wind_dir79m_26m['WDir_26m'],ax=ax2,bins=50,kde=False,color='green',label='26m')\n",
    "#ax2.set_ylabel('Counts')\n",
    "ax2.set_xlabel('')\n",
    "ax2.set_ylim(0,150)\n",
    "ax2.set_xlim(0,360)\n",
    "ax2.vlines(wind_dir79m_26m['Wind-Direc-corrg[deg]'].mean(),0,2000,linestyles='--',linewidth=0.5,color='orange')\n",
    "ax2.vlines(wind_dir79m_26m['WDir_26m'].mean(),0,2000,linestyles='--',linewidth=0.5,color='green')\n",
    "ax2.legend()\n",
    "ax2.text(5,3,'below-8-ppb')\n",
    "\n",
    "sns.distplot(wind_dir79m_42m['Wind-Direc-corrg[deg]'],ax=ax3,bins=50,kde=False,color='orange',label='81m')\n",
    "sns.distplot(wind_dir79m_42m['WDir_42m'],ax=ax3,bins=50,kde=False,color='green',label='42m')\n",
    "#ax3.set_ylabel('Counts')\n",
    "ax3.set_xlabel('')\n",
    "ax3.set_ylim(0,150)\n",
    "ax3.set_xlim(0,360)\n",
    "ax3.vlines(wind_dir79m_42m['Wind-Direc-corrg[deg]'].mean(),0,2000,linestyles='--',linewidth=0.5,color='orange')\n",
    "ax3.vlines(wind_dir79m_42m['WDir_42m'].mean(),0,2000,linestyles='--',linewidth=0.5,color='green')\n",
    "ax3.legend()\n",
    "ax3.text(5,3,'below-8-ppb')\n",
    "\n",
    "print(wind_dir79m_19m['Wind-Direc-corrg[deg]'].mean(),wind_dir79m_19m['WDir_19m'].mean(),wind_dir79m_19m['Wind-Direc-corrg[deg]'].mean()-wind_dir79m_19m['WDir_19m'].mean(),'81-19 mean range')\n",
    "print(wind_dir79m_26m['Wind-Direc-corrg[deg]'].mean(),wind_dir79m_26m['WDir_26m'].mean(),wind_dir79m_26m['Wind-Direc-corrg[deg]'].mean()-wind_dir79m_26m['WDir_26m'].mean(),'81-26 mean range')\n",
    "print(wind_dir79m_42m['Wind-Direc-corrg[deg]'].mean(),wind_dir79m_42m['WDir_42m'].mean(),wind_dir79m_42m['Wind-Direc-corrg[deg]'].mean()-wind_dir79m_42m['WDir_42m'].mean(),'81-42 mean range')\n",
    "\n",
    "############################################################################################\n",
    "############################################################################################\n",
    "################ Checking systematic wind directions differences for between -8ppb and 8 ppb\n",
    "############################################################################################\n",
    "############################################################################################\n",
    "\n",
    "wind_dir79m_42m = df_full_n.loc[(df_full_n['betweenFlag']==True) & (df_full_n['wdir_flag42']==False),['Wind-Direc-corrg[deg]','WDir_42m']]\n",
    "wind_dir79m_26m = df_full_n.loc[(df_full_n['betweenFlag']==True) & (df_full_n['wdir_flag26']==False),['Wind-Direc-corrg[deg]','WDir_26m']]\n",
    "wind_dir79m_19m = df_full_n.loc[(df_full_n['betweenFlag']==True) & (df_full_n['wdir_flag19']==False),['Wind-Direc-corrg[deg]','WDir_19m']]\n",
    "\n",
    "sns.distplot(wind_dir79m_19m['Wind-Direc-corrg[deg]'],bins=50,ax=ax4,kde=False,color='orange',label='81m')\n",
    "sns.distplot(wind_dir79m_19m['WDir_19m'],bins=50,ax=ax4,kde=False,color='green',label='19m')\n",
    "ax4.set_xlabel('')\n",
    "ax4.vlines(wind_dir79m_19m['Wind-Direc-corrg[deg]'].mean(),0,2000,linestyles='--',linewidth=0.5,color='orange')\n",
    "ax4.vlines(wind_dir79m_19m['WDir_19m'].mean(),0,2000,linestyles='--',linewidth=0.5,color='green')\n",
    "ax4.set_ylabel('Counts')\n",
    "ax4.set_ylim(0,1250)\n",
    "ax4.set_xlim(0,360)\n",
    "ax4.text(10,15,'bet-8and8ppb')\n",
    "\n",
    "sns.distplot(wind_dir79m_26m['Wind-Direc-corrg[deg]'],ax=ax5,bins=50,kde=False,color='orange',label='81m')\n",
    "sns.distplot(wind_dir79m_26m['WDir_26m'],ax=ax5,bins=50,kde=False,color='green',label='26m')\n",
    "#ax2.set_ylabel('Counts')\n",
    "ax5.set_xlabel('')\n",
    "ax5.set_ylim(0,1250)\n",
    "ax5.set_xlim(0,360)\n",
    "ax5.vlines(wind_dir79m_26m['Wind-Direc-corrg[deg]'].mean(),0,2000,linestyles='--',linewidth=0.5,color='orange')\n",
    "ax5.vlines(wind_dir79m_26m['WDir_26m'].mean(),0,2000,linestyles='--',linewidth=0.5,color='green')\n",
    "#ax5.legend()\n",
    "ax5.text(10,15,'bet-8and8ppb')\n",
    "\n",
    "sns.distplot(wind_dir79m_42m['Wind-Direc-corrg[deg]'],ax=ax6,bins=50,kde=False,color='orange',label='81m')\n",
    "sns.distplot(wind_dir79m_42m['WDir_42m'],ax=ax6,bins=50,kde=False,color='green',label='42m')\n",
    "#ax3.set_ylabel('Counts')\n",
    "ax6.set_xlabel('')\n",
    "ax6.set_ylim(0,1250)\n",
    "ax6.set_xlim(0,360)\n",
    "ax6.vlines(wind_dir79m_42m['Wind-Direc-corrg[deg]'].mean(),0,2000,linestyles='--',linewidth=0.5,color='orange')\n",
    "ax6.vlines(wind_dir79m_42m['WDir_42m'].mean(),0,2000,linestyles='--',linewidth=0.5,color='green')\n",
    "#ax6.legend()\n",
    "ax6.text(10,15,'bet-8and8ppb')\n",
    "\n",
    "print(wind_dir79m_19m['Wind-Direc-corrg[deg]'].mean(),wind_dir79m_19m['WDir_19m'].mean(),wind_dir79m_19m['Wind-Direc-corrg[deg]'].mean()-wind_dir79m_19m['WDir_19m'].mean(),'81-19 mean range')\n",
    "print(wind_dir79m_26m['Wind-Direc-corrg[deg]'].mean(),wind_dir79m_26m['WDir_26m'].mean(),wind_dir79m_26m['Wind-Direc-corrg[deg]'].mean()-wind_dir79m_26m['WDir_26m'].mean(),'81-26 mean range')\n",
    "print(wind_dir79m_42m['Wind-Direc-corrg[deg]'].mean(),wind_dir79m_42m['WDir_42m'].mean(),wind_dir79m_42m['Wind-Direc-corrg[deg]'].mean()-wind_dir79m_42m['WDir_42m'].mean(),'81-42 mean range')\n",
    "\n",
    "############################################################################################\n",
    "############################################################################################\n",
    "################ Checking systematic wind directions differences for above 8 ppb\n",
    "############################################################################################\n",
    "############################################################################################\n",
    "\n",
    "wind_dir79m_42m = df_full_n.loc[(df_full_n['above8ppb']==True) & (df_full_n['wdir_flag42']==False),['Wind-Direc-corrg[deg]','WDir_42m']]\n",
    "wind_dir79m_26m = df_full_n.loc[(df_full_n['above8ppb']==True) & (df_full_n['wdir_flag26']==False),['Wind-Direc-corrg[deg]','WDir_26m']]\n",
    "wind_dir79m_19m = df_full_n.loc[(df_full_n['above8ppb']==True) & (df_full_n['wdir_flag19']==False),['Wind-Direc-corrg[deg]','WDir_19m']]\n",
    "\n",
    "sns.distplot(wind_dir79m_19m['Wind-Direc-corrg[deg]'],bins=50,ax=ax7,kde=False,color='orange',label='81m')\n",
    "sns.distplot(wind_dir79m_19m['WDir_19m'],bins=50,ax=ax7,kde=False,color='green',label='19m')\n",
    "ax7.set_xlabel('')\n",
    "ax7.vlines(wind_dir79m_19m['Wind-Direc-corrg[deg]'].mean(),0,2000,linestyles='--',linewidth=0.5,color='orange')\n",
    "ax7.vlines(wind_dir79m_19m['WDir_19m'].mean(),0,2000,linestyles='--',linewidth=0.5,color='green')\n",
    "ax7.set_ylabel('Counts')\n",
    "ax7.set_ylim(0,500)\n",
    "ax7.set_xlim(0,360)\n",
    "ax7.text(5,5,'above-8-ppb')\n",
    "#ax7.legend()\n",
    "\n",
    "sns.distplot(wind_dir79m_26m['Wind-Direc-corrg[deg]'],ax=ax8,bins=50,kde=False,color='orange',label='81m')\n",
    "sns.distplot(wind_dir79m_26m['WDir_26m'],ax=ax8,bins=50,kde=False,color='green',label='26m')\n",
    "#ax2.set_ylabel('Counts')\n",
    "ax8.set_xlabel('')\n",
    "ax8.set_ylim(0,500)\n",
    "ax8.set_xlim(0,360)\n",
    "ax8.vlines(wind_dir79m_26m['Wind-Direc-corrg[deg]'].mean(),0,2000,linestyles='--',linewidth=0.5,color='orange')\n",
    "ax8.vlines(wind_dir79m_26m['WDir_26m'].mean(),0,2000,linestyles='--',linewidth=0.5,color='green')\n",
    "#ax8.legend()\n",
    "ax8.text(5,5,'above-8-ppb')\n",
    "\n",
    "sns.distplot(wind_dir79m_42m['Wind-Direc-corrg[deg]'],ax=ax9,bins=50,kde=False,color='orange',label='81m')\n",
    "sns.distplot(wind_dir79m_42m['WDir_42m'],ax=ax9,bins=50,kde=False,color='green',label='42m')\n",
    "#ax3.set_ylabel('Counts')\n",
    "ax9.set_xlabel('')\n",
    "ax9.set_ylim(0,500)\n",
    "ax9.set_xlim(0,360)\n",
    "ax9.vlines(wind_dir79m_42m['Wind-Direc-corrg[deg]'].mean(),0,2000,linestyles='--',linewidth=0.5,color='orange')\n",
    "ax9.vlines(wind_dir79m_42m['WDir_42m'].mean(),0,2000,linestyles='--',linewidth=0.5,color='green')\n",
    "#ax9.legend()\n",
    "ax9.text(5,5,'above-8-ppb')\n",
    "\n",
    "print(wind_dir79m_19m['Wind-Direc-corrg[deg]'].mean(),wind_dir79m_19m['WDir_19m'].mean(),wind_dir79m_19m['Wind-Direc-corrg[deg]'].mean()-wind_dir79m_19m['WDir_19m'].mean(),'81-19 mean range')\n",
    "print(wind_dir79m_26m['Wind-Direc-corrg[deg]'].mean(),wind_dir79m_26m['WDir_26m'].mean(),wind_dir79m_26m['Wind-Direc-corrg[deg]'].mean()-wind_dir79m_26m['WDir_26m'].mean(),'81-26 mean range')\n",
    "print(wind_dir79m_42m['Wind-Direc-corrg[deg]'].mean(),wind_dir79m_42m['WDir_42m'].mean(),wind_dir79m_42m['Wind-Direc-corrg[deg]'].mean()-wind_dir79m_42m['WDir_42m'].mean(),'81-42 mean range')\n",
    "\n",
    "mpl.rcParams['font.size'] = 6\n",
    "plt.tight_layout()\n",
    "plt.show()\n",
    "fig.savefig('../Rebuttal/Wdir_diff_81m_26m_19m_42m_classes.png',dpi=300)"
   ]
  },
  {
   "cell_type": "markdown",
   "metadata": {},
   "source": [
    "## Checking coherent response of CO2 and CH4, comment by Referee #2"
   ]
  },
  {
   "cell_type": "code",
   "execution_count": 80,
   "metadata": {},
   "outputs": [
    {
     "data": {
      "image/png": "[encoded data removed]",
      "text/plain": [
       "<Figure size 720x360 with 2 Axes>"
      ]
     },
     "metadata": {
      "needs_background": "light"
     },
     "output_type": "display_data"
    }
   ],
   "source": [
    "fig,(ax1,ax2)  = plt.subplots(1,2,figsize=(4,2),dpi=180)#,constrained_layout=True)\n",
    "\n",
    "s = '2015-08-19 20:00'\n",
    "e = '2015-08-20 20:00'\n",
    "\n",
    "df_full.loc[s:e,['CO2_avg_79','CO2_avg_24','CO2_avg_4']].plot(x_compat=True,ax=ax1)\n",
    "df_full.loc[s:e,['CH4_79','CH4_24','CH4_4']].plot(x_compat=True,ax=ax2)\n",
    "\n",
    "ax1.set_ylabel('CO$_2$ [ppm]')\n",
    "ax2.set_ylabel('CH$_4$ [ppb]')\n",
    "\n",
    "ax1.set_xticklabels([' ','21:00',' ','03:00',' ','09:00',' ','15:00',' '],fontsize=4,rotation=0,horizontalalignment='center')\n",
    "ax2.set_xticklabels([' ','21:00',' ','03:00',' ','09:00',' ','15:00',' '],fontsize=4,rotation=0,horizontalalignment='center')\n",
    "\n",
    "ax1.set_xlabel('Local Time')\n",
    "ax2.set_xlabel('Local Time')\n",
    "\n",
    "ax1.legend(['CO2-79m','CO2-24m','CO2-4m'])\n",
    "ax2.legend(['CH4-79m','CH4-24m','CH4-4m'])\n",
    "plt.subplots_adjust(wspace=0.5)\n",
    "plt.show()\n",
    "#fig.savefig('./Figures/Rebuttal_CO2_CH4_enhan_2015-08-19.png',dpi=300)"
   ]
  },
  {
   "cell_type": "code",
   "execution_count": null,
   "metadata": {},
   "outputs": [],
   "source": []
  }
 ],
 "metadata": {
  "kernelspec": {
   "display_name": "Python 3",
   "language": "python",
   "name": "python3"
  },
  "language_info": {
   "codemirror_mode": {
    "name": "ipython",
    "version": 3
   },
   "file_extension": ".py",
   "mimetype": "text/x-python",
   "name": "python",
   "nbconvert_exporter": "python",
   "pygments_lexer": "ipython3",
   "version": "3.6.10"
  }
 },
 "nbformat": 4,
 "nbformat_minor": 4
}
