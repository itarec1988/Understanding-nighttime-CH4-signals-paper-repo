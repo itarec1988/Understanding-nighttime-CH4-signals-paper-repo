{
 "cells": [
  {
   "cell_type": "markdown",
   "metadata": {},
   "source": [
    "# Understanding nighttime methane signals at the Amazon Tall Tower Observatory (ATTO)\n",
    "\n",
    "### Santiago Botía B et al\n",
    "#### Calculations and analysis."
   ]
  },
  {
   "cell_type": "code",
   "execution_count": 1,
   "metadata": {},
   "outputs": [],
   "source": [
    "import numpy as np\n",
    "import matplotlib.pyplot as plt\n",
    "from matplotlib.pyplot import *\n",
    "import pandas as pd\n",
    "import seaborn as sns\n",
    "import scipy\n",
    "import matplotlib as mpl\n",
    "%matplotlib inline"
   ]
  },
  {
   "cell_type": "markdown",
   "metadata": {},
   "source": [
    "## Section 3.2.3 Turbulence regimes\n",
    "- It is important to recall that this analysis is done with 1 min data for 2014\n",
    "- Alternative plots and further calculations."
   ]
  },
  {
   "cell_type": "code",
   "execution_count": 2,
   "metadata": {},
   "outputs": [],
   "source": [
    "df_full_1min = pd.read_pickle('./to_Share/Data/df_GHG_uvw_1min_merged')\n",
    "df_full_1min = df_full_1min.between_time('20:00','06:00',include_start=True,include_end=True)\n",
    "df_full_1min.head();"
   ]
  },
  {
   "cell_type": "code",
   "execution_count": 3,
   "metadata": {},
   "outputs": [],
   "source": [
    "# z over L functions. Transcribed from R by Santiago Botia, based on Michel Stefanello scripts.\n",
    "##################################\n",
    "def calc_1suL(T,wT,us):\n",
    "    rc = get_rhocp(T)\n",
    "    H0 = wT*rc\n",
    "    #if wT.any() or rc.any() == np.nan:\n",
    "    #    H0=np.nan\n",
    "    #else:\n",
    "    #    H0=wT*rc #Zannetti pag 59\n",
    "    unosuL=hlm(rc,T,us,H0)\n",
    "    return unosuL\n",
    "def get_rhocp(Tm):\n",
    "    rhocp = 1305*(273.16/Tm)\n",
    "    #if Tm.any() < 0:\n",
    "    #    rhocp = np.na\n",
    "    #else:\n",
    "    #    rhocp = 1305*(273.16/Tm)\n",
    "    return rhocp\n",
    "def hlm(rc,T,us,h0):\n",
    "    hk = 0.4\n",
    "    g  = 9.81\n",
    "    hlm_2 = -(g*hk*h0)/(rc*T*us*us*us)\n",
    "    #if T.isnull().any() or us.isnull().any() or T.any() < 0 or us.any() < 0:\n",
    "    #    hlm_2=np.nan\n",
    "    #else:\n",
    "    #    hlm_2 = -(g*hk*h0)/(rc*T*us*us*us)\n",
    "    return(hlm_2)  # output:1/L"
   ]
  },
  {
   "cell_type": "markdown",
   "metadata": {},
   "source": [
    "## Stability Assessment for 1 min data, 2014 for dry and wet seasons\n",
    "### Marht 1998 z/L ranges CASES 99\n",
    "- (1) For the ‘weakly stable regime’ (0 < z/L < ε ≪ 1), the heat flux increases with increasing z/L due to increasing amplitude of the temperature fluctua- tions with increasing stability, where ε is the maximum stability for the weakly stable regime, equal to 0.06 for the 10 m data.\n",
    "- (2) For the ‘transition stability regime’ (ε < z/L < O(1)), the heat flux decreases rapidly with increasing z/L due to decreasing amplitude of the vertical velocity fluctuations (Figure 1a) associated with stability constraints.\n",
    "- (3) For the ‘very stable regime’ (z/L > O(1)), the heat flux is small but continues to decrease slowly with increasing stability.\n",
    "\n",
    "### Bart Kruijt (2000) stability classes for Amazon forest study\n",
    "- very unstable (1/Ltop < −0.1)\n",
    "- moderately unstable (−0.1 < 1/Ltop < −0.01)\n",
    "- neutral (−0.01 < 1/Ltop < 0.01)\n",
    "- moderately stable (0.01 < 1/Ltop < 0.1) \n",
    "- very stable (1/Ltop > 0.1)."
   ]
  },
  {
   "cell_type": "code",
   "execution_count": 4,
   "metadata": {},
   "outputs": [],
   "source": [
    "# calculating 1/L with one of the functions above\n",
    "one_L        = calc_1suL(df_full_1min.mean_T+273.15,df_full_1min.wT,df_full_1min.Ustar)\n",
    "df_full_1min = df_full_1min.assign(one_over_L = one_L) \n",
    "df_full_1min = df_full_1min.assign(Z_over_L = (81.65-20.1)*one_L) # Z = measurementH - displacement height (Given by Martha Sá)"
   ]
  },
  {
   "cell_type": "code",
   "execution_count": 5,
   "metadata": {},
   "outputs": [
    {
     "name": "stdout",
     "output_type": "stream",
     "text": [
      "(108621, 2) (108621, 2)\n",
      "(108621, 2) (108621, 2)\n"
     ]
    }
   ],
   "source": [
    "# This is to confirm that for every Flag (True or False) use to mark the CH4 enhancements, \n",
    "# there is a corresponding number of 1/L or Z/L\n",
    "# As the shape after and before removing nan are the same, we can continue.\n",
    "print(df_full_1min.loc[:,['EnhanGrad','Z_over_L']].shape,df_full_1min.loc[:,['EnhanGrad','Z_over_L']].dropna().shape)\n",
    "print(df_full_1min.loc[:,['EnhanGrad','one_over_L']].shape,df_full_1min.loc[:,['EnhanGrad','one_over_L']].dropna().shape)"
   ]
  },
  {
   "cell_type": "code",
   "execution_count": 6,
   "metadata": {},
   "outputs": [
    {
     "name": "stdout",
     "output_type": "stream",
     "text": [
      "count    108621.000000\n",
      "mean          0.029103\n",
      "std          25.911796\n",
      "min       -8348.301372\n",
      "25%          -0.030777\n",
      "50%           0.034766\n",
      "75%           0.152200\n",
      "max         974.122821\n",
      "Name: one_over_L, dtype: float64 count    108621.000000\n",
      "mean          1.791308\n",
      "std        1594.871073\n",
      "min     -513837.949460\n",
      "25%          -1.894315\n",
      "50%           2.139828\n",
      "75%           9.367880\n",
      "max       59957.259631\n",
      "Name: Z_over_L, dtype: float64\n"
     ]
    },
    {
     "data": {
      "image/png": "[encoded data removed]",
      "text/plain": [
       "<Figure size 600x300 with 2 Axes>"
      ]
     },
     "metadata": {
      "needs_background": "light"
     },
     "output_type": "display_data"
    }
   ],
   "source": [
    "# Plotting distributions of 1/L and Z/L\n",
    "fig  = plt.figure(figsize=(6,3),dpi=100)\n",
    "grid = plt.GridSpec(1,2,wspace=0.5,hspace=0.1)\n",
    "\n",
    "print(df_full_1min.one_over_L.describe(),df_full_1min.Z_over_L.describe())\n",
    "## Top panel\n",
    "ax1     = fig.add_subplot(grid[0, 0])\n",
    "sns.boxplot(df_full_1min.one_over_L,ax=ax1)\n",
    "ax1.set_xlabel('1/L')\n",
    "ax1.set_xlim(-1,1)\n",
    "sns.despine()\n",
    "\n",
    "## Row 2 panel\n",
    "ax2    = fig.add_subplot(grid[0,1])\n",
    "sns.boxplot(df_full_1min.Z_over_L,ax=ax2)\n",
    "ax2.set_xlim(-20,20)\n",
    "sns.despine()\n",
    "plt.show()"
   ]
  },
  {
   "cell_type": "markdown",
   "metadata": {},
   "source": [
    "#### Here I am constraining the analysis for the data within the whiskers to avoid large outliers"
   ]
  },
  {
   "cell_type": "code",
   "execution_count": 7,
   "metadata": {},
   "outputs": [
    {
     "name": "stdout",
     "output_type": "stream",
     "text": [
      "-0.305241401873438 0.4266640546736604\n",
      "-18.78760828531011 26.261172565163797\n"
     ]
    }
   ],
   "source": [
    "# 1/L Kruijt, calculating the IQR based on the numbers above\n",
    "IQR     = df_full_1min.one_over_L.describe()[6] - df_full_1min.one_over_L.describe()[4]\n",
    "loval_k = df_full_1min.one_over_L.describe()[4] - 1.5 * IQR\n",
    "hival_k = df_full_1min.one_over_L.describe()[6] + 1.5 * IQR\n",
    "print(loval_k,hival_k)\n",
    "\n",
    "# Marht, calculating the IQR based on the numbers above\n",
    "IQR     = df_full_1min.Z_over_L.describe()[6] - df_full_1min.Z_over_L.describe()[4]\n",
    "loval_m = df_full_1min.Z_over_L.describe()[4] - 1.5 * IQR\n",
    "hival_m = df_full_1min.Z_over_L.describe()[6] + 1.5 * IQR\n",
    "print(loval_m,hival_m)"
   ]
  },
  {
   "cell_type": "code",
   "execution_count": 9,
   "metadata": {},
   "outputs": [],
   "source": [
    "# Defining classes according to Marht's regimes\n",
    "bins         = [loval_m,0,0.06,1,hival_m] \n",
    "df_full_1min = df_full_1min.assign(z_over_L_class_marht =  pd.cut(df_full_1min.Z_over_L,bins))\n",
    "\n",
    "# Defining classes according to Kruijt's classes\n",
    "bins    = [loval_k,-0.1,-0.01,0.01,0.1,hival_k] # limiting distribution \n",
    "# I used this one on the paper to avoid large outliers\n",
    "# bins         = [df_full_1min.one_over_L.min(),-0.1,-0.01,0.01,0.1,df_full_1min.one_over_L.max()] # inlcuding all distribution\n",
    "# using the above bins, assures that the percentages add up to 100\n",
    "df_full_1min = df_full_1min.assign(one_over_L_class_kruijt =  pd.cut(df_full_1min.one_over_L,bins,labels=\n",
    "                                                                     ['very uns','mod unst','neutral','mod stabl','very stable']))"
   ]
  },
  {
   "cell_type": "markdown",
   "metadata": {},
   "source": [
    "#### Note that by pd.cutting the one_over_L with the bins above, which limit the distribution, I am leaving outliers out and therefore adding NaN to the column (one_over_L_class_kruijt)\n",
    "- The following cell creates a flag for indicating were do we have NaN"
   ]
  },
  {
   "cell_type": "code",
   "execution_count": 10,
   "metadata": {},
   "outputs": [],
   "source": [
    "# Flag for where the intervals of 1/L could be calculated\n",
    "df_full_1min = df_full_1min.assign(one_L_Flag = df_full_1min['one_over_L_class_kruijt'].isnull()) # True indicates where nan values are\n",
    "df_full_1min = df_full_1min.assign(z_over_L_Flag = df_full_1min['z_over_L_class_marht'].isnull()) # True indicates where n"
   ]
  },
  {
   "cell_type": "code",
   "execution_count": 11,
   "metadata": {},
   "outputs": [
    {
     "name": "stdout",
     "output_type": "stream",
     "text": [
      "20647 85846 85846\n"
     ]
    }
   ],
   "source": [
    "# Total enhancement events at 1 min for all distribution\n",
    "EnhanGradTotal   = df_full_1min['EnhanGrad'].sum() # this is the total of positive gradient events.\n",
    "ncol_with_one_L  = df_full_1min.shape[0] - df_full_1min['one_L_Flag'].sum() # Number of rows with True values in z_L and 1_L\n",
    "ncol_with_z_L    = df_full_1min.shape[0] - df_full_1min['z_over_L_Flag'].sum() # Number of rows with True values in z_L and 1_L\n",
    "print(EnhanGradTotal,ncol_with_one_L,ncol_with_z_L)"
   ]
  },
  {
   "cell_type": "markdown",
   "metadata": {},
   "source": [
    "### Note that there are fewer positive gradients than there are one_over_L events.\n",
    "-  This is because the other portion of the events are one the below-8-ppb class, but the one_over_L is not yet constrained to only positive gradients."
   ]
  },
  {
   "cell_type": "code",
   "execution_count": 12,
   "metadata": {},
   "outputs": [],
   "source": [
    "# Limiting the data set to only positive gradients (above-8-ppb)\n",
    "df_lim_to_pos_grad = df_full_1min.loc[df_full_1min['EnhanGrad']==True,:]"
   ]
  },
  {
   "cell_type": "code",
   "execution_count": 13,
   "metadata": {},
   "outputs": [
    {
     "data": {
      "text/plain": [
       "(20647, 89)"
      ]
     },
     "execution_count": 13,
     "metadata": {},
     "output_type": "execute_result"
    }
   ],
   "source": [
    "df_lim_to_pos_grad.shape # This is the total datapoints to be analyzed."
   ]
  },
  {
   "cell_type": "code",
   "execution_count": 14,
   "metadata": {},
   "outputs": [
    {
     "name": "stdout",
     "output_type": "stream",
     "text": [
      "From the total datpoints after filtering for positive gradients, there are 15993 that are usable with 1/L or z/L values, shapes =  15993 15993\n"
     ]
    }
   ],
   "source": [
    "ncol_with_one_L  = df_lim_to_pos_grad.shape[0] - df_lim_to_pos_grad['one_L_Flag'].sum() # Number of rows with True values in z_L and 1_L\n",
    "ncol_with_z_L    = df_lim_to_pos_grad.shape[0] - df_lim_to_pos_grad['z_over_L_Flag'].sum() # Number of rows with True values in z_L and 1_L\n",
    "print('From the total datpoints after filtering for positive gradients, there are 15993 that are usable with 1/L or z/L values, shapes = ',ncol_with_one_L,ncol_with_z_L)"
   ]
  },
  {
   "cell_type": "code",
   "execution_count": 15,
   "metadata": {},
   "outputs": [],
   "source": [
    "# Now, we have to further constrain the data to where we actually values of L (z/L or 1/L)"
   ]
  },
  {
   "cell_type": "markdown",
   "metadata": {},
   "source": [
    "## Number of enhanced CH$_4$ events in each stability class, according Marht and Kruijt\n",
    "### Marht's approach\n",
    "- This is not included, but have it here in case a reviewer ask for it"
   ]
  },
  {
   "cell_type": "code",
   "execution_count": 16,
   "metadata": {},
   "outputs": [
    {
     "name": "stdout",
     "output_type": "stream",
     "text": [
      "15993\n",
      "100.0\n"
     ]
    },
    {
     "data": {
      "text/html": [
       "<div>\n",
       "<style scoped>\n",
       "    .dataframe tbody tr th:only-of-type {\n",
       "        vertical-align: middle;\n",
       "    }\n",
       "\n",
       "    .dataframe tbody tr th {\n",
       "        vertical-align: top;\n",
       "    }\n",
       "\n",
       "    .dataframe thead th {\n",
       "        text-align: right;\n",
       "    }\n",
       "</style>\n",
       "<table border=\"1\" class=\"dataframe\">\n",
       "  <thead>\n",
       "    <tr style=\"text-align: right;\">\n",
       "      <th></th>\n",
       "      <th>EnhanGrad</th>\n",
       "      <th>Percentages</th>\n",
       "    </tr>\n",
       "    <tr>\n",
       "      <th>z_over_L_class_marht</th>\n",
       "      <th></th>\n",
       "      <th></th>\n",
       "    </tr>\n",
       "  </thead>\n",
       "  <tbody>\n",
       "    <tr>\n",
       "      <th>(-18.788, 0.0]</th>\n",
       "      <td>5023.0</td>\n",
       "      <td>31.407491</td>\n",
       "    </tr>\n",
       "    <tr>\n",
       "      <th>(0.0, 0.06]</th>\n",
       "      <td>81.0</td>\n",
       "      <td>0.506472</td>\n",
       "    </tr>\n",
       "    <tr>\n",
       "      <th>(0.06, 1.0]</th>\n",
       "      <td>1207.0</td>\n",
       "      <td>7.547052</td>\n",
       "    </tr>\n",
       "    <tr>\n",
       "      <th>(1.0, 26.261]</th>\n",
       "      <td>9682.0</td>\n",
       "      <td>60.538986</td>\n",
       "    </tr>\n",
       "  </tbody>\n",
       "</table>\n",
       "</div>"
      ],
      "text/plain": [
       "                      EnhanGrad  Percentages\n",
       "z_over_L_class_marht                        \n",
       "(-18.788, 0.0]           5023.0    31.407491\n",
       "(0.0, 0.06]                81.0     0.506472\n",
       "(0.06, 1.0]              1207.0     7.547052\n",
       "(1.0, 26.261]            9682.0    60.538986"
      ]
     },
     "execution_count": 16,
     "metadata": {},
     "output_type": "execute_result"
    }
   ],
   "source": [
    "# new analysis with new dataframe limited to positive gradients.\n",
    "# The filter for only z_over_L values is done here\n",
    "# The total of positive gradients is calculated from the dataframe with limiting the distribution but taking 100% as the new population after filtering for outliers (gradTotal).\n",
    "df_marht           = df_lim_to_pos_grad.loc[df_lim_to_pos_grad['z_over_L_Flag']==False,['EnhanGrad','z_over_L_class_marht']].groupby('z_over_L_class_marht').sum()\n",
    "gradTotal          = df_lim_to_pos_grad.loc[df_lim_to_pos_grad['z_over_L_Flag']==False,'EnhanGrad'].sum()\n",
    "df_marht           = df_marht.assign(Percentages = df_marht['EnhanGrad'] / gradTotal*100)\n",
    "print(gradTotal)\n",
    "print(df_marht['Percentages'].sum())\n",
    "df_marht"
   ]
  },
  {
   "cell_type": "code",
   "execution_count": 18,
   "metadata": {},
   "outputs": [
    {
     "name": "stdout",
     "output_type": "stream",
     "text": [
      "15993\n",
      "100.0\n"
     ]
    },
    {
     "data": {
      "text/html": [
       "<div>\n",
       "<style scoped>\n",
       "    .dataframe tbody tr th:only-of-type {\n",
       "        vertical-align: middle;\n",
       "    }\n",
       "\n",
       "    .dataframe tbody tr th {\n",
       "        vertical-align: top;\n",
       "    }\n",
       "\n",
       "    .dataframe thead th {\n",
       "        text-align: right;\n",
       "    }\n",
       "</style>\n",
       "<table border=\"1\" class=\"dataframe\">\n",
       "  <thead>\n",
       "    <tr style=\"text-align: right;\">\n",
       "      <th></th>\n",
       "      <th>EnhanGrad</th>\n",
       "      <th>Percentages</th>\n",
       "    </tr>\n",
       "    <tr>\n",
       "      <th>z_over_L_class_marht</th>\n",
       "      <th></th>\n",
       "      <th></th>\n",
       "    </tr>\n",
       "  </thead>\n",
       "  <tbody>\n",
       "    <tr>\n",
       "      <th>(-18.788, 0.0]</th>\n",
       "      <td>5023.0</td>\n",
       "      <td>31.407491</td>\n",
       "    </tr>\n",
       "    <tr>\n",
       "      <th>(0.0, 0.06]</th>\n",
       "      <td>81.0</td>\n",
       "      <td>0.506472</td>\n",
       "    </tr>\n",
       "    <tr>\n",
       "      <th>(0.06, 1.0]</th>\n",
       "      <td>1207.0</td>\n",
       "      <td>7.547052</td>\n",
       "    </tr>\n",
       "    <tr>\n",
       "      <th>(1.0, 26.261]</th>\n",
       "      <td>9682.0</td>\n",
       "      <td>60.538986</td>\n",
       "    </tr>\n",
       "  </tbody>\n",
       "</table>\n",
       "</div>"
      ],
      "text/plain": [
       "                      EnhanGrad  Percentages\n",
       "z_over_L_class_marht                        \n",
       "(-18.788, 0.0]           5023.0    31.407491\n",
       "(0.0, 0.06]                81.0     0.506472\n",
       "(0.06, 1.0]              1207.0     7.547052\n",
       "(1.0, 26.261]            9682.0    60.538986"
      ]
     },
     "execution_count": 18,
     "metadata": {},
     "output_type": "execute_result"
    }
   ],
   "source": [
    "# Using the limited distribution (no outliers in Z/L or 1/L) without constraining the df to positive gradients\n",
    "# This gives the same as above because with the groupby.sum() we summ all the True booleans within each z_over_L class, if using count the False record are counted also. This is not what we want.\n",
    "# The latter applies fot the cell below also\n",
    "df_marht = df_full_1min.loc[df_full_1min['z_over_L_Flag']==False,['EnhanGrad','z_over_L_class_marht']].groupby('z_over_L_class_marht').sum()\n",
    "gradTotal = df_full_1min.loc[df_full_1min['z_over_L_Flag']==False,'EnhanGrad'].sum()\n",
    "print(gradTotal)\n",
    "df_marht = df_marht.assign(Percentages = df_marht['EnhanGrad']/ gradTotal*100)\n",
    "print(df_marht['Percentages'].sum())\n",
    "df_marht"
   ]
  },
  {
   "cell_type": "markdown",
   "metadata": {},
   "source": [
    "#### The following is the data used in Table 2. Kruijt et al (2000)\n",
    "- the table was taken out of the manuscript. This was mainly because the unstable cases created confusion.\n",
    "- The decision was moticated by a comment from a referee"
   ]
  },
  {
   "cell_type": "code",
   "execution_count": 19,
   "metadata": {},
   "outputs": [
    {
     "name": "stdout",
     "output_type": "stream",
     "text": [
      "15993\n",
      "100.00000000000001\n"
     ]
    },
    {
     "data": {
      "text/html": [
       "<div>\n",
       "<style scoped>\n",
       "    .dataframe tbody tr th:only-of-type {\n",
       "        vertical-align: middle;\n",
       "    }\n",
       "\n",
       "    .dataframe tbody tr th {\n",
       "        vertical-align: top;\n",
       "    }\n",
       "\n",
       "    .dataframe thead th {\n",
       "        text-align: right;\n",
       "    }\n",
       "</style>\n",
       "<table border=\"1\" class=\"dataframe\">\n",
       "  <thead>\n",
       "    <tr style=\"text-align: right;\">\n",
       "      <th></th>\n",
       "      <th>EnhanGrad</th>\n",
       "      <th>Percentages</th>\n",
       "    </tr>\n",
       "    <tr>\n",
       "      <th>one_over_L_class_kruijt</th>\n",
       "      <th></th>\n",
       "      <th></th>\n",
       "    </tr>\n",
       "  </thead>\n",
       "  <tbody>\n",
       "    <tr>\n",
       "      <th>very uns</th>\n",
       "      <td>1967.0</td>\n",
       "      <td>12.299131</td>\n",
       "    </tr>\n",
       "    <tr>\n",
       "      <th>mod unst</th>\n",
       "      <td>2483.0</td>\n",
       "      <td>15.525542</td>\n",
       "    </tr>\n",
       "    <tr>\n",
       "      <th>neutral</th>\n",
       "      <td>1374.0</td>\n",
       "      <td>8.591259</td>\n",
       "    </tr>\n",
       "    <tr>\n",
       "      <th>mod stabl</th>\n",
       "      <td>5506.0</td>\n",
       "      <td>34.427562</td>\n",
       "    </tr>\n",
       "    <tr>\n",
       "      <th>very stable</th>\n",
       "      <td>4663.0</td>\n",
       "      <td>29.156506</td>\n",
       "    </tr>\n",
       "  </tbody>\n",
       "</table>\n",
       "</div>"
      ],
      "text/plain": [
       "                         EnhanGrad  Percentages\n",
       "one_over_L_class_kruijt                        \n",
       "very uns                    1967.0    12.299131\n",
       "mod unst                    2483.0    15.525542\n",
       "neutral                     1374.0     8.591259\n",
       "mod stabl                   5506.0    34.427562\n",
       "very stable                 4663.0    29.156506"
      ]
     },
     "execution_count": 19,
     "metadata": {},
     "output_type": "execute_result"
    }
   ],
   "source": [
    "df_kruijt          = df_lim_to_pos_grad.loc[df_lim_to_pos_grad['one_L_Flag']==False,['EnhanGrad','one_over_L_class_kruijt']].groupby('one_over_L_class_kruijt').sum()\n",
    "gradTotal          = df_lim_to_pos_grad.loc[df_lim_to_pos_grad['one_L_Flag']==False,'EnhanGrad'].sum()\n",
    "df_kruijt           = df_kruijt.assign(Percentages = df_kruijt['EnhanGrad'] / gradTotal*100)\n",
    "print(gradTotal)\n",
    "print(df_kruijt['Percentages'].sum())\n",
    "df_kruijt"
   ]
  },
  {
   "cell_type": "code",
   "execution_count": 20,
   "metadata": {},
   "outputs": [
    {
     "name": "stdout",
     "output_type": "stream",
     "text": [
      "100.00000000000001\n"
     ]
    },
    {
     "data": {
      "text/html": [
       "<div>\n",
       "<style scoped>\n",
       "    .dataframe tbody tr th:only-of-type {\n",
       "        vertical-align: middle;\n",
       "    }\n",
       "\n",
       "    .dataframe tbody tr th {\n",
       "        vertical-align: top;\n",
       "    }\n",
       "\n",
       "    .dataframe thead th {\n",
       "        text-align: right;\n",
       "    }\n",
       "</style>\n",
       "<table border=\"1\" class=\"dataframe\">\n",
       "  <thead>\n",
       "    <tr style=\"text-align: right;\">\n",
       "      <th></th>\n",
       "      <th>EnhanGrad</th>\n",
       "      <th>Percentages</th>\n",
       "    </tr>\n",
       "    <tr>\n",
       "      <th>one_over_L_class_kruijt</th>\n",
       "      <th></th>\n",
       "      <th></th>\n",
       "    </tr>\n",
       "  </thead>\n",
       "  <tbody>\n",
       "    <tr>\n",
       "      <th>very uns</th>\n",
       "      <td>1967.0</td>\n",
       "      <td>12.299131</td>\n",
       "    </tr>\n",
       "    <tr>\n",
       "      <th>mod unst</th>\n",
       "      <td>2483.0</td>\n",
       "      <td>15.525542</td>\n",
       "    </tr>\n",
       "    <tr>\n",
       "      <th>neutral</th>\n",
       "      <td>1374.0</td>\n",
       "      <td>8.591259</td>\n",
       "    </tr>\n",
       "    <tr>\n",
       "      <th>mod stabl</th>\n",
       "      <td>5506.0</td>\n",
       "      <td>34.427562</td>\n",
       "    </tr>\n",
       "    <tr>\n",
       "      <th>very stable</th>\n",
       "      <td>4663.0</td>\n",
       "      <td>29.156506</td>\n",
       "    </tr>\n",
       "  </tbody>\n",
       "</table>\n",
       "</div>"
      ],
      "text/plain": [
       "                         EnhanGrad  Percentages\n",
       "one_over_L_class_kruijt                        \n",
       "very uns                    1967.0    12.299131\n",
       "mod unst                    2483.0    15.525542\n",
       "neutral                     1374.0     8.591259\n",
       "mod stabl                   5506.0    34.427562\n",
       "very stable                 4663.0    29.156506"
      ]
     },
     "execution_count": 20,
     "metadata": {},
     "output_type": "execute_result"
    }
   ],
   "source": [
    "# filtering for where I actually calculated the one_over_L_classes, constaining the total for the filttered distribution\n",
    "df_kruijt = df_full_1min.loc[df_full_1min['one_L_Flag']==False,['EnhanGrad','one_over_L_class_kruijt']].groupby('one_over_L_class_kruijt').sum()\n",
    "gradTotal = df_full_1min.loc[df_full_1min['one_L_Flag']==False,'EnhanGrad'].sum()\n",
    "df_kruijt = df_kruijt.assign(Percentages = df_kruijt['EnhanGrad']/gradTotal*100)\n",
    "print(df_kruijt['Percentages'].sum())\n",
    "df_kruijt"
   ]
  },
  {
   "cell_type": "code",
   "execution_count": 21,
   "metadata": {},
   "outputs": [
    {
     "name": "stdout",
     "output_type": "stream",
     "text": [
      "77.45919504044171\n"
     ]
    },
    {
     "data": {
      "text/html": [
       "<div>\n",
       "<style scoped>\n",
       "    .dataframe tbody tr th:only-of-type {\n",
       "        vertical-align: middle;\n",
       "    }\n",
       "\n",
       "    .dataframe tbody tr th {\n",
       "        vertical-align: top;\n",
       "    }\n",
       "\n",
       "    .dataframe thead th {\n",
       "        text-align: right;\n",
       "    }\n",
       "</style>\n",
       "<table border=\"1\" class=\"dataframe\">\n",
       "  <thead>\n",
       "    <tr style=\"text-align: right;\">\n",
       "      <th></th>\n",
       "      <th>EnhanGrad</th>\n",
       "      <th>Percentages</th>\n",
       "    </tr>\n",
       "    <tr>\n",
       "      <th>one_over_L_class_kruijt</th>\n",
       "      <th></th>\n",
       "      <th></th>\n",
       "    </tr>\n",
       "  </thead>\n",
       "  <tbody>\n",
       "    <tr>\n",
       "      <th>very uns</th>\n",
       "      <td>1967.0</td>\n",
       "      <td>9.526808</td>\n",
       "    </tr>\n",
       "    <tr>\n",
       "      <th>mod unst</th>\n",
       "      <td>2483.0</td>\n",
       "      <td>12.025960</td>\n",
       "    </tr>\n",
       "    <tr>\n",
       "      <th>neutral</th>\n",
       "      <td>1374.0</td>\n",
       "      <td>6.654720</td>\n",
       "    </tr>\n",
       "    <tr>\n",
       "      <th>mod stabl</th>\n",
       "      <td>5506.0</td>\n",
       "      <td>26.667312</td>\n",
       "    </tr>\n",
       "    <tr>\n",
       "      <th>very stable</th>\n",
       "      <td>4663.0</td>\n",
       "      <td>22.584395</td>\n",
       "    </tr>\n",
       "  </tbody>\n",
       "</table>\n",
       "</div>"
      ],
      "text/plain": [
       "                         EnhanGrad  Percentages\n",
       "one_over_L_class_kruijt                        \n",
       "very uns                    1967.0     9.526808\n",
       "mod unst                    2483.0    12.025960\n",
       "neutral                     1374.0     6.654720\n",
       "mod stabl                   5506.0    26.667312\n",
       "very stable                 4663.0    22.584395"
      ]
     },
     "execution_count": 21,
     "metadata": {},
     "output_type": "execute_result"
    }
   ],
   "source": [
    "# What I added to Table 2 in the paper, using all the distribution, does not add to 100\n",
    "df_kruijt = df_full_1min.loc[df_full_1min['EnhanGrad']==True,['EnhanGrad','one_over_L_class_kruijt']].groupby('one_over_L_class_kruijt').sum()\n",
    "df_kruijt = df_kruijt.assign(Percentages = df_kruijt['EnhanGrad']/EnhanGradTotal*100)\n",
    "print(df_kruijt['Percentages'].sum())\n",
    "df_kruijt"
   ]
  },
  {
   "cell_type": "markdown",
   "metadata": {},
   "source": [
    "### Note that the percentages do not add up 100, because not all the distribution was considered.\n",
    "- From this check, I realized that using the filtered 100% values for calculating the percentages, changes the picture a little bit, but not too much."
   ]
  },
  {
   "cell_type": "markdown",
   "metadata": {},
   "source": [
    "## Alternative plots based on the 1 min data\n",
    "- Same plots as in Fig 9. but with 1 min data\n",
    "- Additional analysis based on wind direction and wind speed bins"
   ]
  },
  {
   "cell_type": "code",
   "execution_count": 24,
   "metadata": {},
   "outputs": [
    {
     "data": {
      "image/png": "[encoded data removed]",
      "text/plain": [
       "<Figure size 700x1400 with 5 Axes>"
      ]
     },
     "metadata": {
      "needs_background": "light"
     },
     "output_type": "display_data"
    }
   ],
   "source": [
    "fig  = plt.figure(figsize=(3.5,7),dpi=200)\n",
    "grid = plt.GridSpec(5,1,wspace=0.5,hspace=0.4)\n",
    "\n",
    "ax1  = fig.add_subplot(grid[0, 0])\n",
    "sns.boxplot(x=df_full_1min['hour'],y=df_full_1min['wT']*1004.67*1.2923,hue='EnhanGrad',order=[20,21,22,23,0,1,2,3,4,5,6],\n",
    "            data=df_full_1min,palette=sns.color_palette(palette=\"rainbow\",n_colors=2),showfliers=False,ax=ax1)\n",
    "ax1.set_ylabel('H [W m$^{-2}$]')\n",
    "ax1.set_xlabel(' ')\n",
    "#ax1.set_xlabel('Nighttime Hours [Local Time]')\n",
    "ax1.get_legend().remove()\n",
    "#================================================================================================\n",
    "ax2  = fig.add_subplot(grid[1, 0])\n",
    "sns.boxplot(x='hour',y='Rnet',hue='EnhanGrad',order=[20,21,22,23,0,1,2,3,4,5,6],data=df_full_1min,\n",
    "            palette=sns.color_palette(palette=\"rainbow\",n_colors=2),showfliers=False,ax=ax2,showmeans=False)\n",
    "ax2.set_ylabel('Net Radiation [W m$^2$]')\n",
    "ax2.set_xlabel(' ')\n",
    "ax2.get_legend().remove()\n",
    "#================================================================================================\n",
    "ax3  = fig.add_subplot(grid[2, 0])\n",
    "sns.boxplot(x='hour',y='Ustar',hue='EnhanGrad',order=[20,21,22,23,0,1,2,3,4,5,6],data=df_full_1min,\n",
    "            palette=sns.color_palette(palette=\"rainbow\",n_colors=2),showfliers=False,ax=ax3)\n",
    "ax3.set_ylabel('u$_{*}$ [m s$^{-1}$]')\n",
    "ax3.set_xlabel(' ')\n",
    "ax3.get_legend().remove()\n",
    "#================================================================================================\n",
    "ax4  = fig.add_subplot(grid[3, 0])\n",
    "#df_full_1min        = df_full_1min.assign(PotGradAbove = df_full_1min.theta - df_full_1min.theta40)\n",
    "df_full_1min        = df_full_1min.assign(PotGradAbove = df_full_1min.theta - df_full_1min.theta36)\n",
    "df_full_1min        = df_full_1min.assign(PotGradWithin = df_full_1min.theta26 - df_full_1min.theta1_5)\n",
    "sns.boxplot(x='hour',y='PotGradAbove',hue='EnhanGrad',order=[20,21,22,23,0,1,2,3,4,5,6],data=df_full_1min,\n",
    "            palette=sns.color_palette(palette=\"rainbow\",n_colors=2),showfliers=False,ax=ax4)\n",
    "ax4.set_ylabel('$\\Theta_{81m}$ - $\\Theta_{36m}$ [K]')\n",
    "ax4.set_ylim(-0.5,4)\n",
    "ax4.set_xlabel(' ')\n",
    "ax4.get_legend().remove()\n",
    "#================================================================================================\n",
    "ax5  = fig.add_subplot(grid[4, 0])\n",
    "sns.boxplot(x='hour',y='PotGradWithin',hue='EnhanGrad',order=[20,21,22,23,0,1,2,3,4,5,6],data=df_full_1min,\n",
    "            palette=sns.color_palette(palette=\"rainbow\",n_colors=2),showfliers=False,ax=ax5)\n",
    "ax5.set_ylim(-0.5,4)\n",
    "ax5.set_ylabel('$\\Theta_{26m}$ - $\\Theta_{1.5m}$ [K]')\n",
    "#================================================================================================\n",
    "mpl.rcParams['font.size'] = 5\n",
    "mpl.rcParams['lines.linewidth'] = 0.7\n",
    "mpl.rcParams['figure.frameon'] = False\n",
    "\n",
    "plt.legend(bbox_to_anchor=[1.15,1],title='Enhanced')\n",
    "plt.show()"
   ]
  },
  {
   "cell_type": "markdown",
   "metadata": {},
   "source": [
    "### Checking dTheta/dz for gradient events\n",
    "- based on a comment from referee and Otavio's feedback"
   ]
  },
  {
   "cell_type": "code",
   "execution_count": 26,
   "metadata": {},
   "outputs": [
    {
     "data": {
      "text/plain": [
       "count    20393.000000\n",
       "mean         0.042892\n",
       "std          0.014853\n",
       "min         -0.009531\n",
       "25%          0.033152\n",
       "50%          0.041689\n",
       "75%          0.051445\n",
       "max          0.099250\n",
       "Name: dtheta_dz, dtype: float64"
      ]
     },
     "execution_count": 26,
     "metadata": {},
     "output_type": "execute_result"
    }
   ],
   "source": [
    "df_full_1min = df_full_1min.assign(dtheta_dz = df_full_1min[\"PotGradAbove\"] / (81-40))\n",
    "# Limits of dtheta_dz\n",
    "df_full_1min.loc[df_full_1min['EnhanGrad']==True,'dtheta_dz'].describe()"
   ]
  },
  {
   "cell_type": "markdown",
   "metadata": {},
   "source": [
    "#### Checking the dtheta/dz for nighttime hours.  \n",
    "- Similar to Fig 9 on manuscript."
   ]
  },
  {
   "cell_type": "code",
   "execution_count": 28,
   "metadata": {},
   "outputs": [
    {
     "data": {
      "image/png": "[encoded data removed]",
      "text/plain": [
       "<Figure size 800x400 with 1 Axes>"
      ]
     },
     "metadata": {
      "needs_background": "light"
     },
     "output_type": "display_data"
    }
   ],
   "source": [
    "# Using 81 and 36 m levels\n",
    "fig  = plt.figure(figsize=(4,2),dpi=200)\n",
    "sns.boxplot(x='hour',y='dtheta_dz',hue='EnhanGrad',order=[20,21,22,23,0,1,2,3,4,5,6],data=df_full_1min,\n",
    "            palette=sns.color_palette(palette=\"rainbow\",n_colors=2),showfliers=False)\n",
    "\n",
    "plt.hlines(0,-0.5,12)\n",
    "plt.xlim(-0.5,10.5)\n",
    "plt.show()"
   ]
  },
  {
   "cell_type": "code",
   "execution_count": 29,
   "metadata": {},
   "outputs": [
    {
     "name": "stdout",
     "output_type": "stream",
     "text": [
      "100.0 20393.0\n"
     ]
    },
    {
     "data": {
      "text/html": [
       "<div>\n",
       "<style scoped>\n",
       "    .dataframe tbody tr th:only-of-type {\n",
       "        vertical-align: middle;\n",
       "    }\n",
       "\n",
       "    .dataframe tbody tr th {\n",
       "        vertical-align: top;\n",
       "    }\n",
       "\n",
       "    .dataframe thead th {\n",
       "        text-align: right;\n",
       "    }\n",
       "</style>\n",
       "<table border=\"1\" class=\"dataframe\">\n",
       "  <thead>\n",
       "    <tr style=\"text-align: right;\">\n",
       "      <th></th>\n",
       "      <th>EnhanGrad</th>\n",
       "      <th>dtheta_Flag</th>\n",
       "      <th>Percentages</th>\n",
       "    </tr>\n",
       "    <tr>\n",
       "      <th>dtheta_dz_quant</th>\n",
       "      <th></th>\n",
       "      <th></th>\n",
       "      <th></th>\n",
       "    </tr>\n",
       "  </thead>\n",
       "  <tbody>\n",
       "    <tr>\n",
       "      <th>(-0.0171, 0.0246]</th>\n",
       "      <td>1881.0</td>\n",
       "      <td>0.0</td>\n",
       "      <td>9.223753</td>\n",
       "    </tr>\n",
       "    <tr>\n",
       "      <th>(0.0246, 0.0344]</th>\n",
       "      <td>3863.0</td>\n",
       "      <td>0.0</td>\n",
       "      <td>18.942774</td>\n",
       "    </tr>\n",
       "    <tr>\n",
       "      <th>(0.0344, 0.0446]</th>\n",
       "      <td>6105.0</td>\n",
       "      <td>0.0</td>\n",
       "      <td>29.936743</td>\n",
       "    </tr>\n",
       "    <tr>\n",
       "      <th>(0.0446, 0.13]</th>\n",
       "      <td>8544.0</td>\n",
       "      <td>0.0</td>\n",
       "      <td>41.896729</td>\n",
       "    </tr>\n",
       "  </tbody>\n",
       "</table>\n",
       "</div>"
      ],
      "text/plain": [
       "                   EnhanGrad  dtheta_Flag  Percentages\n",
       "dtheta_dz_quant                                       \n",
       "(-0.0171, 0.0246]     1881.0          0.0     9.223753\n",
       "(0.0246, 0.0344]      3863.0          0.0    18.942774\n",
       "(0.0344, 0.0446]      6105.0          0.0    29.936743\n",
       "(0.0446, 0.13]        8544.0          0.0    41.896729"
      ]
     },
     "execution_count": 29,
     "metadata": {},
     "output_type": "execute_result"
    }
   ],
   "source": [
    "# for positive gradient\n",
    "df_full_1min = df_full_1min.assign(dtheta_dz_quant = pd.qcut(df_full_1min.dtheta_dz,q=4))\n",
    "df_full_1min = df_full_1min.assign(dtheta_Flag     = df_full_1min['dtheta_dz'].isnull())\n",
    "\n",
    "df_dt_dz     = df_full_1min.loc[df_full_1min['dtheta_Flag']==False,['EnhanGrad','dtheta_dz_quant','dtheta_Flag']].groupby('dtheta_dz_quant').sum()\n",
    "\n",
    "#df_full_1min.loc[df_full_1min['one_L_Flag']==False,'EnhanGrad'].sum()\n",
    "gradTotal    = df_dt_dz.loc[df_dt_dz['dtheta_Flag']==False,'EnhanGrad'].sum()\n",
    "df_dt_dz     = df_dt_dz.assign(Percentages = df_dt_dz['EnhanGrad']/gradTotal*100)\n",
    "print(df_dt_dz['Percentages'].sum(),gradTotal)\n",
    "df_dt_dz"
   ]
  },
  {
   "cell_type": "code",
   "execution_count": 30,
   "metadata": {},
   "outputs": [
    {
     "name": "stdout",
     "output_type": "stream",
     "text": [
      "100.0 83413\n"
     ]
    },
    {
     "data": {
      "text/html": [
       "<div>\n",
       "<style scoped>\n",
       "    .dataframe tbody tr th:only-of-type {\n",
       "        vertical-align: middle;\n",
       "    }\n",
       "\n",
       "    .dataframe tbody tr th {\n",
       "        vertical-align: top;\n",
       "    }\n",
       "\n",
       "    .dataframe thead th {\n",
       "        text-align: right;\n",
       "    }\n",
       "</style>\n",
       "<table border=\"1\" class=\"dataframe\">\n",
       "  <thead>\n",
       "    <tr style=\"text-align: right;\">\n",
       "      <th></th>\n",
       "      <th>EnhanGrad</th>\n",
       "      <th>dtheta_Flag</th>\n",
       "      <th>Percentages</th>\n",
       "    </tr>\n",
       "    <tr>\n",
       "      <th>dtheta_dz_quant</th>\n",
       "      <th></th>\n",
       "      <th></th>\n",
       "      <th></th>\n",
       "    </tr>\n",
       "  </thead>\n",
       "  <tbody>\n",
       "    <tr>\n",
       "      <th>(-0.0171, 0.0246]</th>\n",
       "      <td>24313</td>\n",
       "      <td>24313</td>\n",
       "      <td>29.147735</td>\n",
       "    </tr>\n",
       "    <tr>\n",
       "      <th>(0.0246, 0.0344]</th>\n",
       "      <td>21860</td>\n",
       "      <td>21860</td>\n",
       "      <td>26.206946</td>\n",
       "    </tr>\n",
       "    <tr>\n",
       "      <th>(0.0344, 0.0446]</th>\n",
       "      <td>19856</td>\n",
       "      <td>19856</td>\n",
       "      <td>23.804443</td>\n",
       "    </tr>\n",
       "    <tr>\n",
       "      <th>(0.0446, 0.13]</th>\n",
       "      <td>17384</td>\n",
       "      <td>17384</td>\n",
       "      <td>20.840876</td>\n",
       "    </tr>\n",
       "  </tbody>\n",
       "</table>\n",
       "</div>"
      ],
      "text/plain": [
       "                   EnhanGrad  dtheta_Flag  Percentages\n",
       "dtheta_dz_quant                                       \n",
       "(-0.0171, 0.0246]      24313        24313    29.147735\n",
       "(0.0246, 0.0344]       21860        21860    26.206946\n",
       "(0.0344, 0.0446]       19856        19856    23.804443\n",
       "(0.0446, 0.13]         17384        17384    20.840876"
      ]
     },
     "execution_count": 30,
     "metadata": {},
     "output_type": "execute_result"
    }
   ],
   "source": [
    "# for below 8 ppb gradient\n",
    "df_full_1min = df_full_1min.assign(dtheta_dz_quant = pd.qcut(df_full_1min.dtheta_dz,q=4))\n",
    "df_full_1min = df_full_1min.assign(dtheta_Flag     = df_full_1min['dtheta_dz'].isnull())\n",
    "\n",
    "df_dt_dz     = df_full_1min.loc[df_full_1min['EnhanGrad']==False,['EnhanGrad','dtheta_dz_quant','dtheta_Flag']].groupby('dtheta_dz_quant').count()\n",
    "\n",
    "gradTotal    = df_full_1min.loc[(df_full_1min['EnhanGrad']==False) & (df_full_1min['dtheta_Flag']==False)].shape[0]\n",
    "df_dt_dz     = df_dt_dz.assign(Percentages = df_dt_dz['EnhanGrad']/gradTotal*100)\n",
    "print(df_dt_dz['Percentages'].sum(),gradTotal)\n",
    "df_dt_dz"
   ]
  },
  {
   "cell_type": "code",
   "execution_count": 31,
   "metadata": {},
   "outputs": [
    {
     "name": "stdout",
     "output_type": "stream",
     "text": [
      "100.0\n"
     ]
    },
    {
     "data": {
      "text/html": [
       "<div>\n",
       "<style scoped>\n",
       "    .dataframe tbody tr th:only-of-type {\n",
       "        vertical-align: middle;\n",
       "    }\n",
       "\n",
       "    .dataframe tbody tr th {\n",
       "        vertical-align: top;\n",
       "    }\n",
       "\n",
       "    .dataframe thead th {\n",
       "        text-align: right;\n",
       "    }\n",
       "</style>\n",
       "<table border=\"1\" class=\"dataframe\">\n",
       "  <thead>\n",
       "    <tr style=\"text-align: right;\">\n",
       "      <th></th>\n",
       "      <th>EnhanGrad</th>\n",
       "      <th>Percentages</th>\n",
       "    </tr>\n",
       "    <tr>\n",
       "      <th>dtheta_dz_min_max</th>\n",
       "      <th></th>\n",
       "      <th></th>\n",
       "    </tr>\n",
       "  </thead>\n",
       "  <tbody>\n",
       "    <tr>\n",
       "      <th>(-0.02, 0.0]</th>\n",
       "      <td>12.0</td>\n",
       "      <td>0.058844</td>\n",
       "    </tr>\n",
       "    <tr>\n",
       "      <th>(0.0, 0.1]</th>\n",
       "      <td>20381.0</td>\n",
       "      <td>99.941156</td>\n",
       "    </tr>\n",
       "  </tbody>\n",
       "</table>\n",
       "</div>"
      ],
      "text/plain": [
       "                   EnhanGrad  Percentages\n",
       "dtheta_dz_min_max                        \n",
       "(-0.02, 0.0]            12.0     0.058844\n",
       "(0.0, 0.1]           20381.0    99.941156"
      ]
     },
     "execution_count": 31,
     "metadata": {},
     "output_type": "execute_result"
    }
   ],
   "source": [
    "# cutting at zero.. for stable and non stable contribution\n",
    "bins         = pd.IntervalIndex.from_tuples([(-0.02,0),(0,0.1)])\n",
    "df_full_1min = df_full_1min.assign(dtheta_dz_min_max = pd.cut(df_full_1min.dtheta_dz,bins))\n",
    "df_dt_dz     = df_full_1min.loc[df_full_1min['EnhanGrad']==True,['EnhanGrad','dtheta_dz_min_max']].groupby('dtheta_dz_min_max').sum()\n",
    "\n",
    "gradTotal    = df_full_1min.loc[(df_full_1min['EnhanGrad']==True) & (df_full_1min['dtheta_Flag']==False)].shape[0]\n",
    "df_dt_dz     = df_dt_dz.assign(Percentages = df_dt_dz['EnhanGrad']/gradTotal*100)\n",
    "print(df_dt_dz['Percentages'].sum())\n",
    "df_dt_dz"
   ]
  },
  {
   "cell_type": "markdown",
   "metadata": {},
   "source": [
    "### Notes\n",
    "- the cells above checked the percentage of positive gradients for each quartile based on the total positive gradients or on the limited distribution\n",
    "- The last cell used a different criteria for separating, min to zero and zero to max\n",
    "- But now I have to see how was the dtheta/dz for each of the classes of Table 2 in the manuscript."
   ]
  },
  {
   "cell_type": "code",
   "execution_count": 32,
   "metadata": {},
   "outputs": [
    {
     "name": "stdout",
     "output_type": "stream",
     "text": [
      "20647 number of positive gradients\n",
      "103806 number of dtheta_dz usable from the entire dataset\n",
      "85846 number of one_over_L classes usable from the entire dataset\n"
     ]
    }
   ],
   "source": [
    "print(df_full_1min['EnhanGrad'].sum(), 'number of positive gradients')\n",
    "print(df_full_1min['dtheta_dz'].shape[0] - df_full_1min['dtheta_dz'].isnull().sum(), 'number of dtheta_dz usable from the entire dataset')\n",
    "print(df_full_1min['dtheta_dz'].shape[0] - df_full_1min['one_over_L_class_kruijt'].isnull().sum(), 'number of one_over_L classes usable from the entire dataset')"
   ]
  },
  {
   "cell_type": "code",
   "execution_count": 33,
   "metadata": {},
   "outputs": [],
   "source": [
    "# Here I groupby Kruijt's classes and extract the dtheta/dz together with the EnhanGrad Flag.\n",
    "groups = ['very uns','mod unst','neutral','mod stabl','very stable']\n",
    "#groups =  ['mod unst','neutral','mod stabl','very stable']\n",
    "df     = df_full_1min[['EnhanGrad','dtheta_dz','one_over_L_class_kruijt','Ustar',\"wT\"]].groupby(by='one_over_L_class_kruijt')"
   ]
  },
  {
   "cell_type": "code",
   "execution_count": 34,
   "metadata": {},
   "outputs": [
    {
     "data": {
      "text/html": [
       "<div>\n",
       "<style scoped>\n",
       "    .dataframe tbody tr th:only-of-type {\n",
       "        vertical-align: middle;\n",
       "    }\n",
       "\n",
       "    .dataframe tbody tr th {\n",
       "        vertical-align: top;\n",
       "    }\n",
       "\n",
       "    .dataframe thead th {\n",
       "        text-align: right;\n",
       "    }\n",
       "</style>\n",
       "<table border=\"1\" class=\"dataframe\">\n",
       "  <thead>\n",
       "    <tr style=\"text-align: right;\">\n",
       "      <th></th>\n",
       "      <th>EnhanGrad</th>\n",
       "      <th>dtheta_dz</th>\n",
       "      <th>Ustar</th>\n",
       "      <th>wT</th>\n",
       "    </tr>\n",
       "    <tr>\n",
       "      <th>one_over_L_class_kruijt</th>\n",
       "      <th></th>\n",
       "      <th></th>\n",
       "      <th></th>\n",
       "      <th></th>\n",
       "    </tr>\n",
       "  </thead>\n",
       "  <tbody>\n",
       "    <tr>\n",
       "      <th>very uns</th>\n",
       "      <td>True</td>\n",
       "      <td>0.044503</td>\n",
       "      <td>0.029874</td>\n",
       "      <td>0.000889</td>\n",
       "    </tr>\n",
       "    <tr>\n",
       "      <th>mod unst</th>\n",
       "      <td>True</td>\n",
       "      <td>0.043117</td>\n",
       "      <td>0.048065</td>\n",
       "      <td>0.001725</td>\n",
       "    </tr>\n",
       "    <tr>\n",
       "      <th>neutral</th>\n",
       "      <td>True</td>\n",
       "      <td>0.035685</td>\n",
       "      <td>0.120615</td>\n",
       "      <td>-0.002318</td>\n",
       "    </tr>\n",
       "    <tr>\n",
       "      <th>mod stabl</th>\n",
       "      <td>True</td>\n",
       "      <td>0.039743</td>\n",
       "      <td>0.074240</td>\n",
       "      <td>-0.003617</td>\n",
       "    </tr>\n",
       "    <tr>\n",
       "      <th>very stable</th>\n",
       "      <td>True</td>\n",
       "      <td>0.044062</td>\n",
       "      <td>0.036169</td>\n",
       "      <td>-0.001844</td>\n",
       "    </tr>\n",
       "  </tbody>\n",
       "</table>\n",
       "</div>"
      ],
      "text/plain": [
       "                         EnhanGrad  dtheta_dz     Ustar        wT\n",
       "one_over_L_class_kruijt                                          \n",
       "very uns                      True   0.044503  0.029874  0.000889\n",
       "mod unst                      True   0.043117  0.048065  0.001725\n",
       "neutral                       True   0.035685  0.120615 -0.002318\n",
       "mod stabl                     True   0.039743  0.074240 -0.003617\n",
       "very stable                   True   0.044062  0.036169 -0.001844"
      ]
     },
     "execution_count": 34,
     "metadata": {},
     "output_type": "execute_result"
    }
   ],
   "source": [
    "# This is a shortcut for the things below... The manioulation below is to arrange the data for easily plotting boxplot with seaborn\n",
    "df_full_1min.loc[df_full_1min['EnhanGrad']==True,['EnhanGrad','dtheta_dz','one_over_L_class_kruijt','Ustar','wT']].groupby(by='one_over_L_class_kruijt').mean()"
   ]
  },
  {
   "cell_type": "code",
   "execution_count": 35,
   "metadata": {},
   "outputs": [
    {
     "name": "stdout",
     "output_type": "stream",
     "text": [
      "85846\n"
     ]
    },
    {
     "data": {
      "text/html": [
       "<div>\n",
       "<style scoped>\n",
       "    .dataframe tbody tr th:only-of-type {\n",
       "        vertical-align: middle;\n",
       "    }\n",
       "\n",
       "    .dataframe tbody tr th {\n",
       "        vertical-align: top;\n",
       "    }\n",
       "\n",
       "    .dataframe thead th {\n",
       "        text-align: right;\n",
       "    }\n",
       "</style>\n",
       "<table border=\"1\" class=\"dataframe\">\n",
       "  <thead>\n",
       "    <tr style=\"text-align: right;\">\n",
       "      <th></th>\n",
       "      <th>EnhanGrad</th>\n",
       "      <th>dtheta_dz</th>\n",
       "      <th>one_over_L_class_kruijt</th>\n",
       "      <th>Ustar</th>\n",
       "      <th>wT</th>\n",
       "    </tr>\n",
       "  </thead>\n",
       "  <tbody>\n",
       "    <tr>\n",
       "      <th>2014-02-28 20:29:00</th>\n",
       "      <td>False</td>\n",
       "      <td>0.020957</td>\n",
       "      <td>very uns</td>\n",
       "      <td>0.048834</td>\n",
       "      <td>0.002142</td>\n",
       "    </tr>\n",
       "    <tr>\n",
       "      <th>2014-02-28 20:31:00</th>\n",
       "      <td>False</td>\n",
       "      <td>0.024860</td>\n",
       "      <td>very uns</td>\n",
       "      <td>0.041982</td>\n",
       "      <td>0.000685</td>\n",
       "    </tr>\n",
       "    <tr>\n",
       "      <th>2014-02-28 20:40:00</th>\n",
       "      <td>False</td>\n",
       "      <td>0.023396</td>\n",
       "      <td>very uns</td>\n",
       "      <td>0.036998</td>\n",
       "      <td>0.000806</td>\n",
       "    </tr>\n",
       "  </tbody>\n",
       "</table>\n",
       "</div>"
      ],
      "text/plain": [
       "                     EnhanGrad  dtheta_dz one_over_L_class_kruijt     Ustar  \\\n",
       "2014-02-28 20:29:00      False   0.020957                very uns  0.048834   \n",
       "2014-02-28 20:31:00      False   0.024860                very uns  0.041982   \n",
       "2014-02-28 20:40:00      False   0.023396                very uns  0.036998   \n",
       "\n",
       "                           wT  \n",
       "2014-02-28 20:29:00  0.002142  \n",
       "2014-02-28 20:31:00  0.000685  \n",
       "2014-02-28 20:40:00  0.000806  "
      ]
     },
     "execution_count": 35,
     "metadata": {},
     "output_type": "execute_result"
    }
   ],
   "source": [
    "# checking shape of resulting groupby object\n",
    "print(sum([df.get_group(i).shape[0] for i in groups]))\n",
    "# This shows that the groupby object is constrained to the amount of one_over_L classes occurrences.\n",
    "# Extracting groups from groupby object and concatenating in one df\n",
    "df_gro = pd.concat([df.get_group(i) for i in groups])\n",
    "df_gro.head(3)"
   ]
  },
  {
   "cell_type": "code",
   "execution_count": 36,
   "metadata": {},
   "outputs": [
    {
     "name": "stdout",
     "output_type": "stream",
     "text": [
      "(85846, 5)\n"
     ]
    },
    {
     "data": {
      "text/plain": [
       "(15993, 5)"
      ]
     },
     "execution_count": 36,
     "metadata": {},
     "output_type": "execute_result"
    }
   ],
   "source": [
    "# Limiting the df to the enhancement events\n",
    "print(df_gro.shape)\n",
    "df_gro = df_gro.loc[df_gro['EnhanGrad']==True,:]\n",
    "df_gro.shape"
   ]
  },
  {
   "cell_type": "code",
   "execution_count": 37,
   "metadata": {},
   "outputs": [
    {
     "data": {
      "text/plain": [
       "(136, 0, 0)"
      ]
     },
     "execution_count": 37,
     "metadata": {},
     "output_type": "execute_result"
    }
   ],
   "source": [
    "# Checking is there are still nan in one of the following\n",
    "df_gro['dtheta_dz'].isnull().sum(),df_gro['one_over_L_class_kruijt'].isnull().sum(),df_gro['Ustar'].isnull().sum()"
   ]
  },
  {
   "cell_type": "code",
   "execution_count": 38,
   "metadata": {},
   "outputs": [
    {
     "data": {
      "text/html": [
       "<div>\n",
       "<style scoped>\n",
       "    .dataframe tbody tr th:only-of-type {\n",
       "        vertical-align: middle;\n",
       "    }\n",
       "\n",
       "    .dataframe tbody tr th {\n",
       "        vertical-align: top;\n",
       "    }\n",
       "\n",
       "    .dataframe thead th {\n",
       "        text-align: right;\n",
       "    }\n",
       "</style>\n",
       "<table border=\"1\" class=\"dataframe\">\n",
       "  <thead>\n",
       "    <tr style=\"text-align: right;\">\n",
       "      <th></th>\n",
       "      <th>one_over_L_class_kruijt</th>\n",
       "      <th>EnhanGrad</th>\n",
       "      <th>Ustar</th>\n",
       "      <th>wT</th>\n",
       "      <th>variable</th>\n",
       "      <th>value</th>\n",
       "    </tr>\n",
       "  </thead>\n",
       "  <tbody>\n",
       "    <tr>\n",
       "      <th>0</th>\n",
       "      <td>very uns</td>\n",
       "      <td>True</td>\n",
       "      <td>0.191829</td>\n",
       "      <td>0.057203</td>\n",
       "      <td>dtheta_dz</td>\n",
       "      <td>0.009982</td>\n",
       "    </tr>\n",
       "    <tr>\n",
       "      <th>1</th>\n",
       "      <td>very uns</td>\n",
       "      <td>True</td>\n",
       "      <td>0.202100</td>\n",
       "      <td>0.111465</td>\n",
       "      <td>dtheta_dz</td>\n",
       "      <td>0.009494</td>\n",
       "    </tr>\n",
       "    <tr>\n",
       "      <th>2</th>\n",
       "      <td>very uns</td>\n",
       "      <td>True</td>\n",
       "      <td>0.157940</td>\n",
       "      <td>0.046501</td>\n",
       "      <td>dtheta_dz</td>\n",
       "      <td>0.009982</td>\n",
       "    </tr>\n",
       "    <tr>\n",
       "      <th>3</th>\n",
       "      <td>very uns</td>\n",
       "      <td>True</td>\n",
       "      <td>0.164770</td>\n",
       "      <td>0.072260</td>\n",
       "      <td>dtheta_dz</td>\n",
       "      <td>0.010713</td>\n",
       "    </tr>\n",
       "    <tr>\n",
       "      <th>4</th>\n",
       "      <td>very uns</td>\n",
       "      <td>True</td>\n",
       "      <td>0.133040</td>\n",
       "      <td>0.048555</td>\n",
       "      <td>dtheta_dz</td>\n",
       "      <td>0.010225</td>\n",
       "    </tr>\n",
       "  </tbody>\n",
       "</table>\n",
       "</div>"
      ],
      "text/plain": [
       "  one_over_L_class_kruijt  EnhanGrad     Ustar        wT   variable     value\n",
       "0                very uns       True  0.191829  0.057203  dtheta_dz  0.009982\n",
       "1                very uns       True  0.202100  0.111465  dtheta_dz  0.009494\n",
       "2                very uns       True  0.157940  0.046501  dtheta_dz  0.009982\n",
       "3                very uns       True  0.164770  0.072260  dtheta_dz  0.010713\n",
       "4                very uns       True  0.133040  0.048555  dtheta_dz  0.010225"
      ]
     },
     "execution_count": 38,
     "metadata": {},
     "output_type": "execute_result"
    }
   ],
   "source": [
    "melt = pd.melt(df_gro,id_vars=['one_over_L_class_kruijt','EnhanGrad','Ustar','wT'],value_vars='dtheta_dz')\n",
    "melt.head()"
   ]
  },
  {
   "cell_type": "code",
   "execution_count": 39,
   "metadata": {},
   "outputs": [
    {
     "data": {
      "text/plain": [
       "one_over_L_class_kruijt\n",
       "very uns       12.299131\n",
       "mod unst       15.525542\n",
       "neutral         8.591259\n",
       "mod stabl      34.427562\n",
       "very stable    29.156506\n",
       "Name: EnhanGrad, dtype: float64"
      ]
     },
     "execution_count": 39,
     "metadata": {},
     "output_type": "execute_result"
    }
   ],
   "source": [
    "# Percentages.. Same as above\n",
    "melt.groupby(by='one_over_L_class_kruijt').sum()['EnhanGrad']/df_gro.shape[0]*100"
   ]
  },
  {
   "cell_type": "code",
   "execution_count": 40,
   "metadata": {},
   "outputs": [
    {
     "data": {
      "image/png": "[encoded data removed]",
      "text/plain": [
       "<Figure size 600x1000 with 3 Axes>"
      ]
     },
     "metadata": {
      "needs_background": "light"
     },
     "output_type": "display_data"
    }
   ],
   "source": [
    "fig,(ax1,ax2,ax3) = plt.subplots(3,1,figsize=(3,5),dpi=200,sharex=True)\n",
    "#sns.boxplot(x='one_over_L_class_kruijt',y='dtheta_dz',data=melt,ax=ax1,notch=True,fliersize=1,palette=sns.color_palette(palette=\"rainbow\",n_colors=5))\n",
    "sns.violinplot(x='one_over_L_class_kruijt',y='value',data=melt,ax=ax1,palette=sns.color_palette(palette=\"rainbow\",n_colors=5),scale='count')\n",
    "sns.boxplot(x='one_over_L_class_kruijt',y='Ustar',data=melt,notch=True,showfliers=False,palette=sns.color_palette(palette=\"rainbow\",n_colors=5),ax=ax2,width=0.4)\n",
    "sns.boxplot(x='one_over_L_class_kruijt',y='wT',data=melt,ax=ax3,notch=True,showfliers=False,palette=sns.color_palette(palette=\"rainbow\",n_colors=5),width=0.4)\n",
    "\n",
    "ax1.hlines(0,-1,100,lw=0.5)\n",
    "ax1.set_xlim(-0.5,4.5)\n",
    "ax1.set_ylabel('dTheta/dz for levels 81m and 36m')\n",
    "ax1.set_xlabel(' ')\n",
    "ax1.set_xticklabels(['Very\\n unstable','Moderately\\n unstable','Neutral','Moderately\\n stable','Very\\n stable'])\n",
    "ax1.set_title('violins\\' scaled by number of data points')\n",
    "\n",
    "ax2.set_ylabel('Ustar at 81m [m s$^{-1}$]')\n",
    "ax2.set_xlabel(' ')\n",
    "\n",
    "ax3.set_xlabel('Stability classes based on 1/L (Kruijt et al., 2000)')\n",
    "ax3.set_ylabel('w\\'T\\'')\n",
    "plt.tight_layout()\n",
    "plt.subplots_adjust(hspace=0.1)\n",
    "plt.show()\n",
    "#fig.savefig('../Rebuttal/dtheta_dz_Ustar_wT_nightime_1min_nighttime_pos_grad.png',dpi=300)"
   ]
  },
  {
   "cell_type": "markdown",
   "metadata": {},
   "source": [
    "### Alternative wind direction plots"
   ]
  },
  {
   "cell_type": "code",
   "execution_count": 41,
   "metadata": {},
   "outputs": [
    {
     "data": {
      "image/png": "[encoded data removed]",
      "text/plain": [
       "<Figure size 1200x1000 with 2 Axes>"
      ]
     },
     "metadata": {
      "needs_background": "light"
     },
     "output_type": "display_data"
    }
   ],
   "source": [
    "fig  = plt.figure(figsize=(6,5),dpi=200)\n",
    "grid = plt.GridSpec(2,1,wspace=0.5,hspace=0.3)\n",
    "\n",
    "ax1  = fig.add_subplot(grid[0, 0])\n",
    "#sns.boxplot(x='WindClassMid',y='CH4_grad',hue='EnhanGrad',data=df_full,palette=sns.color_palette(palette=\"rainbow\",n_colors=2),showfliers=False,ax=ax1)\n",
    "#sns.boxplot(x='WindClassMid',y='CH4_grad',hue='cluster',data=df_full,palette=sns.color_palette(palette=\"rainbow\",n_colors=8),showfliers=False,ax=ax1)\n",
    "sns.barplot(x='WindClassMid',y='CH4_grad',hue='cluster',data=df_full_1min,\n",
    "            palette=sns.color_palette(palette=\"rainbow\",n_colors=8),ax=ax1)\n",
    "labels     = ['%.1f'%(i) for i in sorted(list(set(df_full_1min['WindClassMid'].values)))]\n",
    "ax1.set_xticklabels(labels)\n",
    "ax1.set_ylabel('CH4 79m - 4m [ppb]')\n",
    "ax1.legend(loc='lower left',title='Wind Direc',ncol=3)\n",
    "ax1.set_xlabel('U [m s -1]')\n",
    "ax1.set_xlim(-0.5,19.5)\n",
    "ax1.set_ylim(-15,15)\n",
    "\n",
    "ax2  = fig.add_subplot(grid[1, 0])\n",
    "#sns.boxplot(x='WindClassMid',y='CH4_grad',hue='EnhanGrad',data=df_full,palette=sns.color_palette(palette=\"rainbow\",n_colors=2),showfliers=False,ax=ax1)\n",
    "#sns.boxplot(x='WindClassMid',y='CH4_grad',hue='cluster',data=df_full,palette=sns.color_palette(palette=\"rainbow\",n_colors=8),showfliers=False,ax=ax1)\n",
    "#sns.barplot(x='WindClassMid',y='CH4_grad',hue='EnhanGrad',data=df_full,palette=sns.color_palette(palette=\"rainbow\",n_colors=2),ax=ax1)\n",
    "sns.barplot(x='WindClassMid',y='CH4_grad',data=df_full_1min,ax=ax2)\n",
    "labels     = ['%.1f'%(i) for i in sorted(list(set(df_full_1min['WindClassMid'].values)))]\n",
    "#labels[-2] = '12.5'\n",
    "#labels[-1] = '12.5'\n",
    "labels.append('13.5')\n",
    "\n",
    "ax2.set_ylabel('CH4 79m - 4m [ppb]')\n",
    "ax2.set_xticklabels(labels)\n",
    "ax2.set_xlabel('U [m s -1]')\n",
    "ax2.set_xlim(-0.5,19.5)\n",
    "#plt.ylim(-15,60)\n",
    "plt.show()"
   ]
  },
  {
   "cell_type": "code",
   "execution_count": null,
   "metadata": {},
   "outputs": [],
   "source": []
  }
 ],
 "metadata": {
  "kernelspec": {
   "display_name": "Python 3",
   "language": "python",
   "name": "python3"
  },
  "language_info": {
   "codemirror_mode": {
    "name": "ipython",
    "version": 3
   },
   "file_extension": ".py",
   "mimetype": "text/x-python",
   "name": "python",
   "nbconvert_exporter": "python",
   "pygments_lexer": "ipython3",
   "version": "3.6.10"
  }
 },
 "nbformat": 4,
 "nbformat_minor": 4
}
